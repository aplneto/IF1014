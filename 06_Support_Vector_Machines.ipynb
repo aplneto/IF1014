{
  "nbformat": 4,
  "nbformat_minor": 0,
  "metadata": {
    "colab": {
      "name": "06-Support-Vector-Machines.ipynb",
      "provenance": [],
      "collapsed_sections": [],
      "include_colab_link": true
    },
    "kernelspec": {
      "name": "python3",
      "display_name": "Python 3"
    },
    "language_info": {
      "name": "python"
    }
  },
  "cells": [
    {
      "cell_type": "markdown",
      "metadata": {
        "id": "view-in-github",
        "colab_type": "text"
      },
      "source": [
        "<a href=\"https://colab.research.google.com/github/aplneto/IF1014/blob/main/06_Support_Vector_Machines.ipynb\" target=\"_parent\"><img src=\"https://colab.research.google.com/assets/colab-badge.svg\" alt=\"Open In Colab\"/></a>"
      ]
    },
    {
      "cell_type": "markdown",
      "metadata": {
        "id": "ux6ZZkB0rlk0"
      },
      "source": [
        "## Instalação dos pacotes necessários"
      ]
    },
    {
      "cell_type": "code",
      "metadata": {
        "colab": {
          "base_uri": "https://localhost:8080/"
        },
        "id": "o3naDSnrri29",
        "outputId": "f44b6c62-22eb-4b9a-a84e-1332045a3bd2"
      },
      "source": [
        "!python3 -m pip install optuna"
      ],
      "execution_count": null,
      "outputs": [
        {
          "output_type": "stream",
          "name": "stdout",
          "text": [
            "Requirement already satisfied: optuna in /usr/local/lib/python3.7/dist-packages (2.10.0)\n",
            "Requirement already satisfied: alembic in /usr/local/lib/python3.7/dist-packages (from optuna) (1.7.4)\n",
            "Requirement already satisfied: sqlalchemy>=1.1.0 in /usr/local/lib/python3.7/dist-packages (from optuna) (1.4.25)\n",
            "Requirement already satisfied: colorlog in /usr/local/lib/python3.7/dist-packages (from optuna) (6.5.0)\n",
            "Requirement already satisfied: cliff in /usr/local/lib/python3.7/dist-packages (from optuna) (3.9.0)\n",
            "Requirement already satisfied: numpy in /usr/local/lib/python3.7/dist-packages (from optuna) (1.19.5)\n",
            "Requirement already satisfied: cmaes>=0.8.2 in /usr/local/lib/python3.7/dist-packages (from optuna) (0.8.2)\n",
            "Requirement already satisfied: scipy!=1.4.0 in /usr/local/lib/python3.7/dist-packages (from optuna) (1.4.1)\n",
            "Requirement already satisfied: PyYAML in /usr/local/lib/python3.7/dist-packages (from optuna) (3.13)\n",
            "Requirement already satisfied: packaging>=20.0 in /usr/local/lib/python3.7/dist-packages (from optuna) (21.0)\n",
            "Requirement already satisfied: tqdm in /usr/local/lib/python3.7/dist-packages (from optuna) (4.62.3)\n",
            "Requirement already satisfied: pyparsing>=2.0.2 in /usr/local/lib/python3.7/dist-packages (from packaging>=20.0->optuna) (2.4.7)\n",
            "Requirement already satisfied: greenlet!=0.4.17 in /usr/local/lib/python3.7/dist-packages (from sqlalchemy>=1.1.0->optuna) (1.1.2)\n",
            "Requirement already satisfied: importlib-metadata in /usr/local/lib/python3.7/dist-packages (from sqlalchemy>=1.1.0->optuna) (4.8.1)\n",
            "Requirement already satisfied: importlib-resources in /usr/local/lib/python3.7/dist-packages (from alembic->optuna) (5.2.2)\n",
            "Requirement already satisfied: Mako in /usr/local/lib/python3.7/dist-packages (from alembic->optuna) (1.1.5)\n",
            "Requirement already satisfied: PrettyTable>=0.7.2 in /usr/local/lib/python3.7/dist-packages (from cliff->optuna) (2.2.1)\n",
            "Requirement already satisfied: pbr!=2.1.0,>=2.0.0 in /usr/local/lib/python3.7/dist-packages (from cliff->optuna) (5.6.0)\n",
            "Requirement already satisfied: autopage>=0.4.0 in /usr/local/lib/python3.7/dist-packages (from cliff->optuna) (0.4.0)\n",
            "Requirement already satisfied: stevedore>=2.0.1 in /usr/local/lib/python3.7/dist-packages (from cliff->optuna) (3.5.0)\n",
            "Requirement already satisfied: cmd2>=1.0.0 in /usr/local/lib/python3.7/dist-packages (from cliff->optuna) (2.2.0)\n",
            "Requirement already satisfied: wcwidth>=0.1.7 in /usr/local/lib/python3.7/dist-packages (from cmd2>=1.0.0->cliff->optuna) (0.2.5)\n",
            "Requirement already satisfied: attrs>=16.3.0 in /usr/local/lib/python3.7/dist-packages (from cmd2>=1.0.0->cliff->optuna) (21.2.0)\n",
            "Requirement already satisfied: colorama>=0.3.7 in /usr/local/lib/python3.7/dist-packages (from cmd2>=1.0.0->cliff->optuna) (0.4.4)\n",
            "Requirement already satisfied: pyperclip>=1.6 in /usr/local/lib/python3.7/dist-packages (from cmd2>=1.0.0->cliff->optuna) (1.8.2)\n",
            "Requirement already satisfied: typing-extensions in /usr/local/lib/python3.7/dist-packages (from cmd2>=1.0.0->cliff->optuna) (3.7.4.3)\n",
            "Requirement already satisfied: zipp>=0.5 in /usr/local/lib/python3.7/dist-packages (from importlib-metadata->sqlalchemy>=1.1.0->optuna) (3.6.0)\n",
            "Requirement already satisfied: MarkupSafe>=0.9.2 in /usr/local/lib/python3.7/dist-packages (from Mako->alembic->optuna) (2.0.1)\n"
          ]
        }
      ]
    },
    {
      "cell_type": "markdown",
      "metadata": {
        "id": "ZmKNKLSLqz02"
      },
      "source": [
        "# Análise Exploratória e preparação dos dados"
      ]
    },
    {
      "cell_type": "code",
      "metadata": {
        "id": "9CGnpF9BdWSB"
      },
      "source": [
        "'''\n",
        "Antônio Paulino - apln2@cin.ufpe.br\n",
        "Ailton Rodrigues - ajr@cin.ufpe.br\n",
        "Douglas Tavares - dtrps@cin.ufpe.br\n",
        "\n",
        "Realizar as atividades de compreensão do problema, dos dados e a análise\n",
        "exploratória para o domínio Credit Approval Data Set\n",
        "(https://archive.ics.uci.edu/ml/datasets/Credit+Approval).\n",
        "Apresentar relatórios com o itens mencionados e discussões com gráficos da base\n",
        "de dados.\n",
        "'''\n",
        "\n",
        "DATA_FOLDER = (\n",
        "    'https://archive.ics.uci.edu/ml/machine-learning-databases/'\n",
        "    'credit-screening/'\n",
        ")\n",
        "\n",
        "DATA_DESCRIPTION = DATA_FOLDER + 'crx.names'\n",
        "DATA_SET = DATA_FOLDER + 'crx.data'"
      ],
      "execution_count": null,
      "outputs": []
    },
    {
      "cell_type": "code",
      "metadata": {
        "colab": {
          "base_uri": "https://localhost:8080/",
          "height": 204
        },
        "id": "Iz_TsY5Tdgbg",
        "outputId": "504fe632-91bd-4e9a-da96-ea872c83424f"
      },
      "source": [
        "import pandas\n",
        "import numpy\n",
        "\n",
        "aliases = [\n",
        "  'Gender', 'Age', 'Debt', 'Married', 'BankCustomer', 'EducationLevel',\n",
        "  'Ethnicity', 'YearsEmployed', 'PriorDefault', 'Employed', 'CreditScore',\n",
        "  'DriversLicense', 'Citizen', 'ZipCode', 'Income', 'Approved'\n",
        "]\n",
        "data = pandas.read_csv(DATA_SET, names=aliases, na_values='?', header=None)\n",
        "data.head()"
      ],
      "execution_count": null,
      "outputs": [
        {
          "output_type": "execute_result",
          "data": {
            "text/html": [
              "<div>\n",
              "<style scoped>\n",
              "    .dataframe tbody tr th:only-of-type {\n",
              "        vertical-align: middle;\n",
              "    }\n",
              "\n",
              "    .dataframe tbody tr th {\n",
              "        vertical-align: top;\n",
              "    }\n",
              "\n",
              "    .dataframe thead th {\n",
              "        text-align: right;\n",
              "    }\n",
              "</style>\n",
              "<table border=\"1\" class=\"dataframe\">\n",
              "  <thead>\n",
              "    <tr style=\"text-align: right;\">\n",
              "      <th></th>\n",
              "      <th>Gender</th>\n",
              "      <th>Age</th>\n",
              "      <th>Debt</th>\n",
              "      <th>Married</th>\n",
              "      <th>BankCustomer</th>\n",
              "      <th>EducationLevel</th>\n",
              "      <th>Ethnicity</th>\n",
              "      <th>YearsEmployed</th>\n",
              "      <th>PriorDefault</th>\n",
              "      <th>Employed</th>\n",
              "      <th>CreditScore</th>\n",
              "      <th>DriversLicense</th>\n",
              "      <th>Citizen</th>\n",
              "      <th>ZipCode</th>\n",
              "      <th>Income</th>\n",
              "      <th>Approved</th>\n",
              "    </tr>\n",
              "  </thead>\n",
              "  <tbody>\n",
              "    <tr>\n",
              "      <th>0</th>\n",
              "      <td>b</td>\n",
              "      <td>30.83</td>\n",
              "      <td>0.000</td>\n",
              "      <td>u</td>\n",
              "      <td>g</td>\n",
              "      <td>w</td>\n",
              "      <td>v</td>\n",
              "      <td>1.25</td>\n",
              "      <td>t</td>\n",
              "      <td>t</td>\n",
              "      <td>1</td>\n",
              "      <td>f</td>\n",
              "      <td>g</td>\n",
              "      <td>202.0</td>\n",
              "      <td>0</td>\n",
              "      <td>+</td>\n",
              "    </tr>\n",
              "    <tr>\n",
              "      <th>1</th>\n",
              "      <td>a</td>\n",
              "      <td>58.67</td>\n",
              "      <td>4.460</td>\n",
              "      <td>u</td>\n",
              "      <td>g</td>\n",
              "      <td>q</td>\n",
              "      <td>h</td>\n",
              "      <td>3.04</td>\n",
              "      <td>t</td>\n",
              "      <td>t</td>\n",
              "      <td>6</td>\n",
              "      <td>f</td>\n",
              "      <td>g</td>\n",
              "      <td>43.0</td>\n",
              "      <td>560</td>\n",
              "      <td>+</td>\n",
              "    </tr>\n",
              "    <tr>\n",
              "      <th>2</th>\n",
              "      <td>a</td>\n",
              "      <td>24.50</td>\n",
              "      <td>0.500</td>\n",
              "      <td>u</td>\n",
              "      <td>g</td>\n",
              "      <td>q</td>\n",
              "      <td>h</td>\n",
              "      <td>1.50</td>\n",
              "      <td>t</td>\n",
              "      <td>f</td>\n",
              "      <td>0</td>\n",
              "      <td>f</td>\n",
              "      <td>g</td>\n",
              "      <td>280.0</td>\n",
              "      <td>824</td>\n",
              "      <td>+</td>\n",
              "    </tr>\n",
              "    <tr>\n",
              "      <th>3</th>\n",
              "      <td>b</td>\n",
              "      <td>27.83</td>\n",
              "      <td>1.540</td>\n",
              "      <td>u</td>\n",
              "      <td>g</td>\n",
              "      <td>w</td>\n",
              "      <td>v</td>\n",
              "      <td>3.75</td>\n",
              "      <td>t</td>\n",
              "      <td>t</td>\n",
              "      <td>5</td>\n",
              "      <td>t</td>\n",
              "      <td>g</td>\n",
              "      <td>100.0</td>\n",
              "      <td>3</td>\n",
              "      <td>+</td>\n",
              "    </tr>\n",
              "    <tr>\n",
              "      <th>4</th>\n",
              "      <td>b</td>\n",
              "      <td>20.17</td>\n",
              "      <td>5.625</td>\n",
              "      <td>u</td>\n",
              "      <td>g</td>\n",
              "      <td>w</td>\n",
              "      <td>v</td>\n",
              "      <td>1.71</td>\n",
              "      <td>t</td>\n",
              "      <td>f</td>\n",
              "      <td>0</td>\n",
              "      <td>f</td>\n",
              "      <td>s</td>\n",
              "      <td>120.0</td>\n",
              "      <td>0</td>\n",
              "      <td>+</td>\n",
              "    </tr>\n",
              "  </tbody>\n",
              "</table>\n",
              "</div>"
            ],
            "text/plain": [
              "  Gender    Age   Debt Married  ... Citizen ZipCode Income  Approved\n",
              "0      b  30.83  0.000       u  ...       g   202.0      0         +\n",
              "1      a  58.67  4.460       u  ...       g    43.0    560         +\n",
              "2      a  24.50  0.500       u  ...       g   280.0    824         +\n",
              "3      b  27.83  1.540       u  ...       g   100.0      3         +\n",
              "4      b  20.17  5.625       u  ...       s   120.0      0         +\n",
              "\n",
              "[5 rows x 16 columns]"
            ]
          },
          "metadata": {},
          "execution_count": 5
        }
      ]
    },
    {
      "cell_type": "markdown",
      "metadata": {
        "id": "O5ivtaIwH_I2"
      },
      "source": [
        "#### Remoção das variáveis Ethnicity (A7) e ZipCode (A14) por não exercerem influência na variável alvo"
      ]
    },
    {
      "cell_type": "code",
      "metadata": {
        "colab": {
          "base_uri": "https://localhost:8080/",
          "height": 204
        },
        "id": "trYeSElbhziC",
        "outputId": "6cfd7bce-6b2d-49cd-828a-1e44f73ac19f"
      },
      "source": [
        "# removing useless variables A7 (Ethnicity) and A14 (ZipCode)\n",
        "\n",
        "data.drop(['Ethnicity', 'ZipCode'], axis=1, inplace=True)\n",
        "data.head()"
      ],
      "execution_count": null,
      "outputs": [
        {
          "output_type": "execute_result",
          "data": {
            "text/html": [
              "<div>\n",
              "<style scoped>\n",
              "    .dataframe tbody tr th:only-of-type {\n",
              "        vertical-align: middle;\n",
              "    }\n",
              "\n",
              "    .dataframe tbody tr th {\n",
              "        vertical-align: top;\n",
              "    }\n",
              "\n",
              "    .dataframe thead th {\n",
              "        text-align: right;\n",
              "    }\n",
              "</style>\n",
              "<table border=\"1\" class=\"dataframe\">\n",
              "  <thead>\n",
              "    <tr style=\"text-align: right;\">\n",
              "      <th></th>\n",
              "      <th>Gender</th>\n",
              "      <th>Age</th>\n",
              "      <th>Debt</th>\n",
              "      <th>Married</th>\n",
              "      <th>BankCustomer</th>\n",
              "      <th>EducationLevel</th>\n",
              "      <th>YearsEmployed</th>\n",
              "      <th>PriorDefault</th>\n",
              "      <th>Employed</th>\n",
              "      <th>CreditScore</th>\n",
              "      <th>DriversLicense</th>\n",
              "      <th>Citizen</th>\n",
              "      <th>Income</th>\n",
              "      <th>Approved</th>\n",
              "    </tr>\n",
              "  </thead>\n",
              "  <tbody>\n",
              "    <tr>\n",
              "      <th>0</th>\n",
              "      <td>b</td>\n",
              "      <td>30.83</td>\n",
              "      <td>0.000</td>\n",
              "      <td>u</td>\n",
              "      <td>g</td>\n",
              "      <td>w</td>\n",
              "      <td>1.25</td>\n",
              "      <td>t</td>\n",
              "      <td>t</td>\n",
              "      <td>1</td>\n",
              "      <td>f</td>\n",
              "      <td>g</td>\n",
              "      <td>0</td>\n",
              "      <td>+</td>\n",
              "    </tr>\n",
              "    <tr>\n",
              "      <th>1</th>\n",
              "      <td>a</td>\n",
              "      <td>58.67</td>\n",
              "      <td>4.460</td>\n",
              "      <td>u</td>\n",
              "      <td>g</td>\n",
              "      <td>q</td>\n",
              "      <td>3.04</td>\n",
              "      <td>t</td>\n",
              "      <td>t</td>\n",
              "      <td>6</td>\n",
              "      <td>f</td>\n",
              "      <td>g</td>\n",
              "      <td>560</td>\n",
              "      <td>+</td>\n",
              "    </tr>\n",
              "    <tr>\n",
              "      <th>2</th>\n",
              "      <td>a</td>\n",
              "      <td>24.50</td>\n",
              "      <td>0.500</td>\n",
              "      <td>u</td>\n",
              "      <td>g</td>\n",
              "      <td>q</td>\n",
              "      <td>1.50</td>\n",
              "      <td>t</td>\n",
              "      <td>f</td>\n",
              "      <td>0</td>\n",
              "      <td>f</td>\n",
              "      <td>g</td>\n",
              "      <td>824</td>\n",
              "      <td>+</td>\n",
              "    </tr>\n",
              "    <tr>\n",
              "      <th>3</th>\n",
              "      <td>b</td>\n",
              "      <td>27.83</td>\n",
              "      <td>1.540</td>\n",
              "      <td>u</td>\n",
              "      <td>g</td>\n",
              "      <td>w</td>\n",
              "      <td>3.75</td>\n",
              "      <td>t</td>\n",
              "      <td>t</td>\n",
              "      <td>5</td>\n",
              "      <td>t</td>\n",
              "      <td>g</td>\n",
              "      <td>3</td>\n",
              "      <td>+</td>\n",
              "    </tr>\n",
              "    <tr>\n",
              "      <th>4</th>\n",
              "      <td>b</td>\n",
              "      <td>20.17</td>\n",
              "      <td>5.625</td>\n",
              "      <td>u</td>\n",
              "      <td>g</td>\n",
              "      <td>w</td>\n",
              "      <td>1.71</td>\n",
              "      <td>t</td>\n",
              "      <td>f</td>\n",
              "      <td>0</td>\n",
              "      <td>f</td>\n",
              "      <td>s</td>\n",
              "      <td>0</td>\n",
              "      <td>+</td>\n",
              "    </tr>\n",
              "  </tbody>\n",
              "</table>\n",
              "</div>"
            ],
            "text/plain": [
              "  Gender    Age   Debt Married  ... DriversLicense Citizen  Income Approved\n",
              "0      b  30.83  0.000       u  ...              f       g       0        +\n",
              "1      a  58.67  4.460       u  ...              f       g     560        +\n",
              "2      a  24.50  0.500       u  ...              f       g     824        +\n",
              "3      b  27.83  1.540       u  ...              t       g       3        +\n",
              "4      b  20.17  5.625       u  ...              f       s       0        +\n",
              "\n",
              "[5 rows x 14 columns]"
            ]
          },
          "metadata": {},
          "execution_count": 6
        }
      ]
    },
    {
      "cell_type": "markdown",
      "metadata": {
        "id": "5doQ0tMJLTS_"
      },
      "source": [
        "#### Separação das variáveis em contínuas e categóricas"
      ]
    },
    {
      "cell_type": "code",
      "metadata": {
        "colab": {
          "base_uri": "https://localhost:8080/"
        },
        "id": "OBJtk0g_jDgn",
        "outputId": "392c0630-6dd2-4d8b-dda8-28529b37ca77"
      },
      "source": [
        "continuous = data.describe().columns\n",
        "categorical = data.drop(list(continuous) + ['Approved'], axis=1).columns\n",
        "\n",
        "print(continuous)\n",
        "print(categorical)"
      ],
      "execution_count": null,
      "outputs": [
        {
          "output_type": "stream",
          "name": "stdout",
          "text": [
            "Index(['Age', 'Debt', 'YearsEmployed', 'CreditScore', 'Income'], dtype='object')\n",
            "Index(['Gender', 'Married', 'BankCustomer', 'EducationLevel', 'PriorDefault',\n",
            "       'Employed', 'DriversLicense', 'Citizen'],\n",
            "      dtype='object')\n"
          ]
        }
      ]
    },
    {
      "cell_type": "markdown",
      "metadata": {
        "id": "G9GhYwlTrA3q"
      },
      "source": [
        "# Limpeza dos dados"
      ]
    },
    {
      "cell_type": "markdown",
      "metadata": {
        "id": "bH2FCGXmrON8"
      },
      "source": [
        "## Modelo de regressão linear para completar dados continuos ausentes\n",
        "\n",
        "Variáveis continuas ausentes serão preenchidas por valores previstos a partir de um modelo de regressão linear construído a partir da coluna com valores ausentes e da coluna com todos os valores mais fortemente correlacionada a ela"
      ]
    },
    {
      "cell_type": "code",
      "metadata": {
        "colab": {
          "base_uri": "https://localhost:8080/"
        },
        "id": "_yKlqfJ7qB8E",
        "outputId": "f5624867-f20c-46ac-de37-6641f7d709d8"
      },
      "source": [
        "continuous_columns_missing_values = []\n",
        "\n",
        "for column in continuous:\n",
        "  if data[column].isnull().sum() > 0:\n",
        "    continuous_columns_missing_values.append(column)\n",
        "\n",
        "print(continuous_columns_missing_values)"
      ],
      "execution_count": null,
      "outputs": [
        {
          "output_type": "stream",
          "name": "stdout",
          "text": [
            "['Age']\n"
          ]
        }
      ]
    },
    {
      "cell_type": "code",
      "metadata": {
        "id": "R9C-K0POuJPu"
      },
      "source": [
        "most_correlated_columns = {}\n",
        "candidates = [\n",
        "  x for x in continuous if x not in continuous_columns_missing_values\n",
        "]\n",
        "for column in continuous_columns_missing_values:\n",
        "  most_correlated_columns[column] = max(\n",
        "      candidates, key=lambda x: abs(data[x].corr(data[column]))\n",
        "  )"
      ],
      "execution_count": null,
      "outputs": []
    },
    {
      "cell_type": "code",
      "metadata": {
        "id": "GW_6R1Is2g_J"
      },
      "source": [
        "from sklearn.linear_model import LinearRegression"
      ],
      "execution_count": null,
      "outputs": []
    },
    {
      "cell_type": "code",
      "metadata": {
        "colab": {
          "base_uri": "https://localhost:8080/"
        },
        "id": "9XBOZPrjzyt8",
        "outputId": "cba60c4e-bedb-4a7b-8a12-88b6ffa0fee9"
      },
      "source": [
        "prediction_models = {}\n",
        "\n",
        "for pair in most_correlated_columns.items():\n",
        "  rows = data[~data[list(pair)].isnull().any(axis=1)][list(pair)]\n",
        "  y = rows[pair[0]]\n",
        "  x = rows[pair[1]]\n",
        "  lr = LinearRegression()\n",
        "  lr.fit(x.values.reshape(-1, 1), y)\n",
        "  d = pandas.DataFrame(data= {\n",
        "      'value' : lr.predict(data[pair[1]].values.reshape(-1, 1))\n",
        "  })\n",
        "  data[pair[0]] = numpy.where(data[column].isna(), d['value'], data[column])\n",
        "\n",
        "data[continuous].isna().sum()"
      ],
      "execution_count": null,
      "outputs": [
        {
          "output_type": "execute_result",
          "data": {
            "text/plain": [
              "Age              0\n",
              "Debt             0\n",
              "YearsEmployed    0\n",
              "CreditScore      0\n",
              "Income           0\n",
              "dtype: int64"
            ]
          },
          "metadata": {},
          "execution_count": 11
        }
      ]
    },
    {
      "cell_type": "markdown",
      "metadata": {
        "id": "pnGULe_0dydD"
      },
      "source": [
        "# Dados categóricos\n",
        "\n",
        "Algoritmos de aprendizado de máquina esperam que os dados estejam em formato numérico, por esse motivo, as variáveis categóricas da base de dados foram convertidas em números inteiros usando o *LabelEncoder* da biblioteca *sklearn*.\n",
        "\n",
        "Os valores ausentes foram completados usando um algoritmo de árvore de decisão"
      ]
    },
    {
      "cell_type": "code",
      "metadata": {
        "id": "bkUzbEYp_F_S",
        "colab": {
          "base_uri": "https://localhost:8080/"
        },
        "outputId": "76a7e67d-7750-434f-b133-c0ef9ed5c426"
      },
      "source": [
        "categorical_columns_missing_values = [\n",
        "  p[0] for p in dict(data[categorical].isna().sum() > 0).items() if p[1]\n",
        "]\n",
        "complete_data = data.dropna()\n",
        "print(categorical_columns_missing_values)"
      ],
      "execution_count": null,
      "outputs": [
        {
          "output_type": "stream",
          "name": "stdout",
          "text": [
            "['Gender', 'Married', 'BankCustomer', 'EducationLevel']\n"
          ]
        }
      ]
    },
    {
      "cell_type": "code",
      "metadata": {
        "id": "jtZU1dCFeM8J"
      },
      "source": [
        "from sklearn.preprocessing import LabelEncoder\n",
        "from collections import defaultdict\n",
        "\n",
        "label_dict = defaultdict(LabelEncoder)\n",
        "complete_data = complete_data.apply(\n",
        "    lambda x: label_dict[x.name].fit_transform(x)\n",
        "    if x.name in list(categorical) + ['Approved']\n",
        "    else x\n",
        ")"
      ],
      "execution_count": null,
      "outputs": []
    },
    {
      "cell_type": "code",
      "metadata": {
        "id": "jHORVpp3nBO3"
      },
      "source": [
        "from sklearn.tree import DecisionTreeClassifier"
      ],
      "execution_count": null,
      "outputs": []
    },
    {
      "cell_type": "code",
      "metadata": {
        "id": "RLfuGF1hno0q"
      },
      "source": [
        "trees = {}\n",
        "X = complete_data.drop(categorical_columns_missing_values, axis=1)\n",
        "for column in categorical_columns_missing_values:\n",
        "  Y = complete_data[column]\n",
        "  tree = DecisionTreeClassifier(\n",
        "      max_leaf_nodes=Y.nunique(), random_state=2**Y.nunique()\n",
        "  )\n",
        "  trees[column] = tree\n",
        "  tree.fit(X.values, Y.values)"
      ],
      "execution_count": null,
      "outputs": []
    },
    {
      "cell_type": "code",
      "metadata": {
        "id": "hBZ1FL4Xo7MH"
      },
      "source": [
        "for column in trees:\n",
        "  tree = trees[column]\n",
        "  encoder = label_dict[column]\n",
        "  d = pandas.DataFrame(data= {\n",
        "      'value' : encoder.inverse_transform(\n",
        "          tree.predict(\n",
        "          data.drop(categorical_columns_missing_values, axis=1).apply(\n",
        "                  lambda x: label_dict[x.name].fit_transform(x)\n",
        "                  if x.name in list(categorical) + ['Approved']\n",
        "                  else x\n",
        "          ).values\n",
        "        )\n",
        "      )\n",
        "    }\n",
        "  )\n",
        "\n",
        "  data[column] = numpy.where(data[column].isna(), d['value'], data[column])"
      ],
      "execution_count": null,
      "outputs": []
    },
    {
      "cell_type": "code",
      "metadata": {
        "colab": {
          "base_uri": "https://localhost:8080/"
        },
        "id": "NNZ8AWwLtXHn",
        "outputId": "d30d4651-cea2-46b0-fc23-133ba7fd074f"
      },
      "source": [
        "labels = data['Approved']\n",
        "data.drop('Approved', axis=1, inplace=True)\n",
        "X = data.apply(\n",
        "    lambda x: label_dict[x.name].fit_transform(x)\n",
        "    if x.name in categorical\n",
        "    else x\n",
        ")\n",
        "print(X)"
      ],
      "execution_count": null,
      "outputs": [
        {
          "output_type": "stream",
          "name": "stdout",
          "text": [
            "     Gender    Age    Debt  ...  DriversLicense  Citizen  Income\n",
            "0         1  30.83   0.000  ...               0        0       0\n",
            "1         0  58.67   4.460  ...               0        0     560\n",
            "2         0  24.50   0.500  ...               0        0     824\n",
            "3         1  27.83   1.540  ...               1        0       3\n",
            "4         1  20.17   5.625  ...               0        2       0\n",
            "..      ...    ...     ...  ...             ...      ...     ...\n",
            "685       1  21.08  10.085  ...               0        0       0\n",
            "686       0  22.67   0.750  ...               1        0     394\n",
            "687       0  25.25  13.500  ...               1        0       1\n",
            "688       1  17.92   0.205  ...               0        0     750\n",
            "689       1  35.00   3.375  ...               1        0       0\n",
            "\n",
            "[690 rows x 13 columns]\n"
          ]
        }
      ]
    },
    {
      "cell_type": "code",
      "metadata": {
        "colab": {
          "base_uri": "https://localhost:8080/"
        },
        "id": "yvxT_R-xuGMx",
        "outputId": "861eaf29-f8bd-4624-95ee-4f40a37259c0"
      },
      "source": [
        "Y = pandas.DataFrame(\n",
        "    LabelEncoder().fit_transform(labels), columns=[labels.name]\n",
        ")\n",
        "print(Y)"
      ],
      "execution_count": null,
      "outputs": [
        {
          "output_type": "stream",
          "name": "stdout",
          "text": [
            "     Approved\n",
            "0           0\n",
            "1           0\n",
            "2           0\n",
            "3           0\n",
            "4           0\n",
            "..        ...\n",
            "685         1\n",
            "686         1\n",
            "687         1\n",
            "688         1\n",
            "689         1\n",
            "\n",
            "[690 rows x 1 columns]\n"
          ]
        }
      ]
    },
    {
      "cell_type": "markdown",
      "metadata": {
        "id": "wcreK8mFTCxT"
      },
      "source": [
        "# Divisão das instâncias em treinamento e teste"
      ]
    },
    {
      "cell_type": "code",
      "metadata": {
        "id": "ETHQCdNHTeoP"
      },
      "source": [
        "from sklearn.model_selection import train_test_split"
      ],
      "execution_count": null,
      "outputs": []
    },
    {
      "cell_type": "code",
      "metadata": {
        "id": "aakIeVNxTErW"
      },
      "source": [
        "X_train, X_test, Y_train, Y_test = train_test_split(\n",
        "    X.values, Y.values, test_size = 0.2, random_state = 4\n",
        ")"
      ],
      "execution_count": null,
      "outputs": []
    },
    {
      "cell_type": "code",
      "metadata": {
        "id": "Zh-jFCdYjLTl"
      },
      "source": [
        "X_train = pandas.DataFrame(X_train, columns=X.columns)\n",
        "X_test = pandas.DataFrame(X_test, columns=X.columns)\n",
        "Y_train = pandas.DataFrame(Y_train, columns=Y.columns)\n",
        "Y_test = pandas.DataFrame(Y_test, columns=Y.columns)"
      ],
      "execution_count": null,
      "outputs": []
    },
    {
      "cell_type": "code",
      "metadata": {
        "id": "6z5Bz26JUptq",
        "colab": {
          "base_uri": "https://localhost:8080/"
        },
        "outputId": "933be3f3-852b-45cd-9cc1-5d164ea69207"
      },
      "source": [
        "print(X_train.shape)\n",
        "print(Y_train.shape)\n",
        "print(X_test.shape)\n",
        "print(Y_test.shape)"
      ],
      "execution_count": null,
      "outputs": [
        {
          "output_type": "stream",
          "name": "stdout",
          "text": [
            "(552, 13)\n",
            "(552, 1)\n",
            "(138, 13)\n",
            "(138, 1)\n"
          ]
        }
      ]
    },
    {
      "cell_type": "markdown",
      "metadata": {
        "id": "eOyEMSbgjYSv"
      },
      "source": [
        "# Transformação dos Dados\n",
        "\n",
        "* Uma vez que as variáveis continuas possuem valores entre 0 e um determinado limite, estes serão normalizados entre os valores 0.0 e 1.0 para análise de diminuição de dimensionalidade"
      ]
    },
    {
      "cell_type": "code",
      "metadata": {
        "id": "aTvmhyKvzcZF",
        "colab": {
          "base_uri": "https://localhost:8080/",
          "height": 297
        },
        "outputId": "5585a788-6de2-4cb6-96e0-47515781a5b9"
      },
      "source": [
        "X_train[continuous].describe()"
      ],
      "execution_count": null,
      "outputs": [
        {
          "output_type": "execute_result",
          "data": {
            "text/html": [
              "<div>\n",
              "<style scoped>\n",
              "    .dataframe tbody tr th:only-of-type {\n",
              "        vertical-align: middle;\n",
              "    }\n",
              "\n",
              "    .dataframe tbody tr th {\n",
              "        vertical-align: top;\n",
              "    }\n",
              "\n",
              "    .dataframe thead th {\n",
              "        text-align: right;\n",
              "    }\n",
              "</style>\n",
              "<table border=\"1\" class=\"dataframe\">\n",
              "  <thead>\n",
              "    <tr style=\"text-align: right;\">\n",
              "      <th></th>\n",
              "      <th>Age</th>\n",
              "      <th>Debt</th>\n",
              "      <th>YearsEmployed</th>\n",
              "      <th>CreditScore</th>\n",
              "      <th>Income</th>\n",
              "    </tr>\n",
              "  </thead>\n",
              "  <tbody>\n",
              "    <tr>\n",
              "      <th>count</th>\n",
              "      <td>552.000000</td>\n",
              "      <td>552.000000</td>\n",
              "      <td>552.000000</td>\n",
              "      <td>552.000000</td>\n",
              "      <td>552.000000</td>\n",
              "    </tr>\n",
              "    <tr>\n",
              "      <th>mean</th>\n",
              "      <td>31.375927</td>\n",
              "      <td>4.723342</td>\n",
              "      <td>2.222554</td>\n",
              "      <td>2.574275</td>\n",
              "      <td>1016.204710</td>\n",
              "    </tr>\n",
              "    <tr>\n",
              "      <th>std</th>\n",
              "      <td>11.791370</td>\n",
              "      <td>4.958010</td>\n",
              "      <td>3.342170</td>\n",
              "      <td>5.163208</td>\n",
              "      <td>5328.577631</td>\n",
              "    </tr>\n",
              "    <tr>\n",
              "      <th>min</th>\n",
              "      <td>13.750000</td>\n",
              "      <td>0.000000</td>\n",
              "      <td>0.000000</td>\n",
              "      <td>0.000000</td>\n",
              "      <td>0.000000</td>\n",
              "    </tr>\n",
              "    <tr>\n",
              "      <th>25%</th>\n",
              "      <td>22.500000</td>\n",
              "      <td>0.875000</td>\n",
              "      <td>0.165000</td>\n",
              "      <td>0.000000</td>\n",
              "      <td>0.000000</td>\n",
              "    </tr>\n",
              "    <tr>\n",
              "      <th>50%</th>\n",
              "      <td>28.448036</td>\n",
              "      <td>2.750000</td>\n",
              "      <td>1.000000</td>\n",
              "      <td>0.000000</td>\n",
              "      <td>5.500000</td>\n",
              "    </tr>\n",
              "    <tr>\n",
              "      <th>75%</th>\n",
              "      <td>37.520000</td>\n",
              "      <td>7.312500</td>\n",
              "      <td>2.551250</td>\n",
              "      <td>3.000000</td>\n",
              "      <td>462.250000</td>\n",
              "    </tr>\n",
              "    <tr>\n",
              "      <th>max</th>\n",
              "      <td>80.250000</td>\n",
              "      <td>28.000000</td>\n",
              "      <td>28.500000</td>\n",
              "      <td>67.000000</td>\n",
              "      <td>100000.000000</td>\n",
              "    </tr>\n",
              "  </tbody>\n",
              "</table>\n",
              "</div>"
            ],
            "text/plain": [
              "              Age        Debt  YearsEmployed  CreditScore         Income\n",
              "count  552.000000  552.000000     552.000000   552.000000     552.000000\n",
              "mean    31.375927    4.723342       2.222554     2.574275    1016.204710\n",
              "std     11.791370    4.958010       3.342170     5.163208    5328.577631\n",
              "min     13.750000    0.000000       0.000000     0.000000       0.000000\n",
              "25%     22.500000    0.875000       0.165000     0.000000       0.000000\n",
              "50%     28.448036    2.750000       1.000000     0.000000       5.500000\n",
              "75%     37.520000    7.312500       2.551250     3.000000     462.250000\n",
              "max     80.250000   28.000000      28.500000    67.000000  100000.000000"
            ]
          },
          "metadata": {},
          "execution_count": 23
        }
      ]
    },
    {
      "cell_type": "code",
      "metadata": {
        "colab": {
          "base_uri": "https://localhost:8080/",
          "height": 297
        },
        "id": "7lhbVr-WipyM",
        "outputId": "fc1444b1-3d4f-43d3-90c4-c6a0c208c4ca"
      },
      "source": [
        "X_test[continuous].describe()"
      ],
      "execution_count": null,
      "outputs": [
        {
          "output_type": "execute_result",
          "data": {
            "text/html": [
              "<div>\n",
              "<style scoped>\n",
              "    .dataframe tbody tr th:only-of-type {\n",
              "        vertical-align: middle;\n",
              "    }\n",
              "\n",
              "    .dataframe tbody tr th {\n",
              "        vertical-align: top;\n",
              "    }\n",
              "\n",
              "    .dataframe thead th {\n",
              "        text-align: right;\n",
              "    }\n",
              "</style>\n",
              "<table border=\"1\" class=\"dataframe\">\n",
              "  <thead>\n",
              "    <tr style=\"text-align: right;\">\n",
              "      <th></th>\n",
              "      <th>Age</th>\n",
              "      <th>Debt</th>\n",
              "      <th>YearsEmployed</th>\n",
              "      <th>CreditScore</th>\n",
              "      <th>Income</th>\n",
              "    </tr>\n",
              "  </thead>\n",
              "  <tbody>\n",
              "    <tr>\n",
              "      <th>count</th>\n",
              "      <td>138.000000</td>\n",
              "      <td>138.000000</td>\n",
              "      <td>138.000000</td>\n",
              "      <td>138.000000</td>\n",
              "      <td>138.000000</td>\n",
              "    </tr>\n",
              "    <tr>\n",
              "      <th>mean</th>\n",
              "      <td>32.437283</td>\n",
              "      <td>4.900254</td>\n",
              "      <td>2.226812</td>\n",
              "      <td>1.702899</td>\n",
              "      <td>1022.108696</td>\n",
              "    </tr>\n",
              "    <tr>\n",
              "      <th>std</th>\n",
              "      <td>12.172970</td>\n",
              "      <td>5.073769</td>\n",
              "      <td>3.376051</td>\n",
              "      <td>3.331796</td>\n",
              "      <td>4724.580194</td>\n",
              "    </tr>\n",
              "    <tr>\n",
              "      <th>min</th>\n",
              "      <td>15.170000</td>\n",
              "      <td>0.000000</td>\n",
              "      <td>0.000000</td>\n",
              "      <td>0.000000</td>\n",
              "      <td>0.000000</td>\n",
              "    </tr>\n",
              "    <tr>\n",
              "      <th>25%</th>\n",
              "      <td>23.080000</td>\n",
              "      <td>1.250000</td>\n",
              "      <td>0.125000</td>\n",
              "      <td>0.000000</td>\n",
              "      <td>0.000000</td>\n",
              "    </tr>\n",
              "    <tr>\n",
              "      <th>50%</th>\n",
              "      <td>29.585000</td>\n",
              "      <td>2.730000</td>\n",
              "      <td>0.750000</td>\n",
              "      <td>0.000000</td>\n",
              "      <td>1.000000</td>\n",
              "    </tr>\n",
              "    <tr>\n",
              "      <th>75%</th>\n",
              "      <td>39.107500</td>\n",
              "      <td>7.000000</td>\n",
              "      <td>2.750000</td>\n",
              "      <td>2.000000</td>\n",
              "      <td>200.000000</td>\n",
              "    </tr>\n",
              "    <tr>\n",
              "      <th>max</th>\n",
              "      <td>76.750000</td>\n",
              "      <td>25.210000</td>\n",
              "      <td>17.500000</td>\n",
              "      <td>20.000000</td>\n",
              "      <td>50000.000000</td>\n",
              "    </tr>\n",
              "  </tbody>\n",
              "</table>\n",
              "</div>"
            ],
            "text/plain": [
              "              Age        Debt  YearsEmployed  CreditScore        Income\n",
              "count  138.000000  138.000000     138.000000   138.000000    138.000000\n",
              "mean    32.437283    4.900254       2.226812     1.702899   1022.108696\n",
              "std     12.172970    5.073769       3.376051     3.331796   4724.580194\n",
              "min     15.170000    0.000000       0.000000     0.000000      0.000000\n",
              "25%     23.080000    1.250000       0.125000     0.000000      0.000000\n",
              "50%     29.585000    2.730000       0.750000     0.000000      1.000000\n",
              "75%     39.107500    7.000000       2.750000     2.000000    200.000000\n",
              "max     76.750000   25.210000      17.500000    20.000000  50000.000000"
            ]
          },
          "metadata": {},
          "execution_count": 24
        }
      ]
    },
    {
      "cell_type": "code",
      "metadata": {
        "id": "MFRyOvlpuP4X"
      },
      "source": [
        "from sklearn.preprocessing import MinMaxScaler"
      ],
      "execution_count": null,
      "outputs": []
    },
    {
      "cell_type": "code",
      "metadata": {
        "id": "iLJPUx6qugEz"
      },
      "source": [
        "train_scalers = defaultdict(MinMaxScaler)\n",
        "test_scalers = defaultdict(MinMaxScaler)\n",
        "\n",
        "for column in continuous:\n",
        "  train_scaler = train_scalers[column]\n",
        "  test_scaler = test_scalers[column]\n",
        "  X_train[column] = train_scaler.fit_transform(X_train[column].values.reshape(-1, 1))\n",
        "  X_test[column] = test_scaler.fit_transform(X_test[column].values.reshape(-1, 1))"
      ],
      "execution_count": null,
      "outputs": []
    },
    {
      "cell_type": "markdown",
      "metadata": {
        "id": "XKfx-vqR4vqN"
      },
      "source": [
        "# Redução da dimensionalidade\n",
        "\n",
        "<!--\n",
        "\n",
        "* https://www.analyticsvidhya.com/blog/2018/08/dimensionality-reduction-techniques-python/\n",
        "\n",
        " -->"
      ]
    },
    {
      "cell_type": "markdown",
      "metadata": {
        "id": "ij0GvkjSHjVO"
      },
      "source": [
        "## Principal component analysis\n",
        "\n",
        "<!--\n",
        "\n",
        "* https://www.datasklr.com/principal-component-analysis-and-factor-analysis/principal-component-analysis\n",
        "* https://www.youtube.com/watch?v=FgakZw6K1QQ\n",
        "* https://jmausolf.github.io/code/pca_in_python/\n",
        "\n",
        "-->"
      ]
    },
    {
      "cell_type": "code",
      "metadata": {
        "id": "ALYX9jgmx_OE"
      },
      "source": [
        "from sklearn.decomposition import PCA"
      ],
      "execution_count": null,
      "outputs": []
    },
    {
      "cell_type": "code",
      "metadata": {
        "colab": {
          "base_uri": "https://localhost:8080/"
        },
        "id": "CqVnMY7hE6cj",
        "outputId": "2536fe29-a9e9-436f-b036-0d231bb44664"
      },
      "source": [
        "pca_train = PCA()\n",
        "pca_train.fit(X_train[continuous])"
      ],
      "execution_count": null,
      "outputs": [
        {
          "output_type": "execute_result",
          "data": {
            "text/plain": [
              "PCA(copy=True, iterated_power='auto', n_components=None, random_state=None,\n",
              "    svd_solver='auto', tol=0.0, whiten=False)"
            ]
          },
          "metadata": {},
          "execution_count": 28
        }
      ]
    },
    {
      "cell_type": "code",
      "metadata": {
        "colab": {
          "base_uri": "https://localhost:8080/"
        },
        "id": "0tgXduEantyP",
        "outputId": "7c9a957c-1a67-4765-d646-476d6bebbe49"
      },
      "source": [
        "numpy.cumsum(pca_train.explained_variance_ratio_)"
      ],
      "execution_count": null,
      "outputs": [
        {
          "output_type": "execute_result",
          "data": {
            "text/plain": [
              "array([0.49681538, 0.7953898 , 0.91164728, 0.96771056, 1.        ])"
            ]
          },
          "metadata": {},
          "execution_count": 29
        }
      ]
    },
    {
      "cell_type": "code",
      "metadata": {
        "colab": {
          "base_uri": "https://localhost:8080/",
          "height": 419
        },
        "id": "WLDtFu5P89M1",
        "outputId": "7c29d35e-9040-4398-de4d-a01238e12c99"
      },
      "source": [
        "pca_X_train = pandas.DataFrame(\n",
        "    data = pca_train.transform(X_train[continuous]),\n",
        "    columns = ['PC%d' % (i) for i in numpy.arange(pca_train.n_components_)+1]\n",
        ")\n",
        "\n",
        "max_column = numpy.argmax(numpy.cumsum(pca_train.explained_variance_ratio_) > 0.9) + 1\n",
        "principal_components = pca_X_train.columns[:max_column:]\n",
        "\n",
        "pca_X_train = pandas.concat(\n",
        "    [pca_X_train[principal_components], X_train[categorical]],\n",
        "    axis = 1\n",
        ")\n",
        "\n",
        "pca_X_train"
      ],
      "execution_count": null,
      "outputs": [
        {
          "output_type": "execute_result",
          "data": {
            "text/html": [
              "<div>\n",
              "<style scoped>\n",
              "    .dataframe tbody tr th:only-of-type {\n",
              "        vertical-align: middle;\n",
              "    }\n",
              "\n",
              "    .dataframe tbody tr th {\n",
              "        vertical-align: top;\n",
              "    }\n",
              "\n",
              "    .dataframe thead th {\n",
              "        text-align: right;\n",
              "    }\n",
              "</style>\n",
              "<table border=\"1\" class=\"dataframe\">\n",
              "  <thead>\n",
              "    <tr style=\"text-align: right;\">\n",
              "      <th></th>\n",
              "      <th>PC1</th>\n",
              "      <th>PC2</th>\n",
              "      <th>PC3</th>\n",
              "      <th>Gender</th>\n",
              "      <th>Married</th>\n",
              "      <th>BankCustomer</th>\n",
              "      <th>EducationLevel</th>\n",
              "      <th>PriorDefault</th>\n",
              "      <th>Employed</th>\n",
              "      <th>DriversLicense</th>\n",
              "      <th>Citizen</th>\n",
              "    </tr>\n",
              "  </thead>\n",
              "  <tbody>\n",
              "    <tr>\n",
              "      <th>0</th>\n",
              "      <td>-0.080758</td>\n",
              "      <td>-0.184270</td>\n",
              "      <td>-0.065782</td>\n",
              "      <td>1.0</td>\n",
              "      <td>1.0</td>\n",
              "      <td>0.0</td>\n",
              "      <td>5.0</td>\n",
              "      <td>0.0</td>\n",
              "      <td>0.0</td>\n",
              "      <td>0.0</td>\n",
              "      <td>1.0</td>\n",
              "    </tr>\n",
              "    <tr>\n",
              "      <th>1</th>\n",
              "      <td>-0.216770</td>\n",
              "      <td>-0.018099</td>\n",
              "      <td>0.009423</td>\n",
              "      <td>0.0</td>\n",
              "      <td>1.0</td>\n",
              "      <td>0.0</td>\n",
              "      <td>6.0</td>\n",
              "      <td>0.0</td>\n",
              "      <td>0.0</td>\n",
              "      <td>1.0</td>\n",
              "      <td>2.0</td>\n",
              "    </tr>\n",
              "    <tr>\n",
              "      <th>2</th>\n",
              "      <td>-0.189481</td>\n",
              "      <td>-0.012675</td>\n",
              "      <td>0.048359</td>\n",
              "      <td>1.0</td>\n",
              "      <td>1.0</td>\n",
              "      <td>0.0</td>\n",
              "      <td>6.0</td>\n",
              "      <td>0.0</td>\n",
              "      <td>1.0</td>\n",
              "      <td>1.0</td>\n",
              "      <td>0.0</td>\n",
              "    </tr>\n",
              "    <tr>\n",
              "      <th>3</th>\n",
              "      <td>0.087857</td>\n",
              "      <td>-0.047823</td>\n",
              "      <td>-0.124984</td>\n",
              "      <td>1.0</td>\n",
              "      <td>1.0</td>\n",
              "      <td>0.0</td>\n",
              "      <td>10.0</td>\n",
              "      <td>1.0</td>\n",
              "      <td>1.0</td>\n",
              "      <td>0.0</td>\n",
              "      <td>0.0</td>\n",
              "    </tr>\n",
              "    <tr>\n",
              "      <th>4</th>\n",
              "      <td>-0.130168</td>\n",
              "      <td>0.191575</td>\n",
              "      <td>-0.026154</td>\n",
              "      <td>1.0</td>\n",
              "      <td>1.0</td>\n",
              "      <td>0.0</td>\n",
              "      <td>6.0</td>\n",
              "      <td>0.0</td>\n",
              "      <td>0.0</td>\n",
              "      <td>0.0</td>\n",
              "      <td>0.0</td>\n",
              "    </tr>\n",
              "    <tr>\n",
              "      <th>...</th>\n",
              "      <td>...</td>\n",
              "      <td>...</td>\n",
              "      <td>...</td>\n",
              "      <td>...</td>\n",
              "      <td>...</td>\n",
              "      <td>...</td>\n",
              "      <td>...</td>\n",
              "      <td>...</td>\n",
              "      <td>...</td>\n",
              "      <td>...</td>\n",
              "      <td>...</td>\n",
              "    </tr>\n",
              "    <tr>\n",
              "      <th>547</th>\n",
              "      <td>-0.143830</td>\n",
              "      <td>0.060022</td>\n",
              "      <td>0.087901</td>\n",
              "      <td>1.0</td>\n",
              "      <td>1.0</td>\n",
              "      <td>0.0</td>\n",
              "      <td>1.0</td>\n",
              "      <td>1.0</td>\n",
              "      <td>1.0</td>\n",
              "      <td>1.0</td>\n",
              "      <td>0.0</td>\n",
              "    </tr>\n",
              "    <tr>\n",
              "      <th>548</th>\n",
              "      <td>0.041393</td>\n",
              "      <td>0.023916</td>\n",
              "      <td>0.093961</td>\n",
              "      <td>0.0</td>\n",
              "      <td>1.0</td>\n",
              "      <td>0.0</td>\n",
              "      <td>8.0</td>\n",
              "      <td>0.0</td>\n",
              "      <td>0.0</td>\n",
              "      <td>1.0</td>\n",
              "      <td>2.0</td>\n",
              "    </tr>\n",
              "    <tr>\n",
              "      <th>549</th>\n",
              "      <td>-0.167171</td>\n",
              "      <td>-0.040376</td>\n",
              "      <td>-0.002445</td>\n",
              "      <td>1.0</td>\n",
              "      <td>1.0</td>\n",
              "      <td>0.0</td>\n",
              "      <td>8.0</td>\n",
              "      <td>0.0</td>\n",
              "      <td>1.0</td>\n",
              "      <td>1.0</td>\n",
              "      <td>0.0</td>\n",
              "    </tr>\n",
              "    <tr>\n",
              "      <th>550</th>\n",
              "      <td>0.028834</td>\n",
              "      <td>0.238163</td>\n",
              "      <td>-0.045819</td>\n",
              "      <td>1.0</td>\n",
              "      <td>1.0</td>\n",
              "      <td>0.0</td>\n",
              "      <td>10.0</td>\n",
              "      <td>1.0</td>\n",
              "      <td>0.0</td>\n",
              "      <td>0.0</td>\n",
              "      <td>0.0</td>\n",
              "    </tr>\n",
              "    <tr>\n",
              "      <th>551</th>\n",
              "      <td>0.125133</td>\n",
              "      <td>0.276131</td>\n",
              "      <td>-0.029625</td>\n",
              "      <td>0.0</td>\n",
              "      <td>1.0</td>\n",
              "      <td>0.0</td>\n",
              "      <td>0.0</td>\n",
              "      <td>1.0</td>\n",
              "      <td>1.0</td>\n",
              "      <td>1.0</td>\n",
              "      <td>0.0</td>\n",
              "    </tr>\n",
              "  </tbody>\n",
              "</table>\n",
              "<p>552 rows × 11 columns</p>\n",
              "</div>"
            ],
            "text/plain": [
              "          PC1       PC2       PC3  ...  Employed  DriversLicense  Citizen\n",
              "0   -0.080758 -0.184270 -0.065782  ...       0.0             0.0      1.0\n",
              "1   -0.216770 -0.018099  0.009423  ...       0.0             1.0      2.0\n",
              "2   -0.189481 -0.012675  0.048359  ...       1.0             1.0      0.0\n",
              "3    0.087857 -0.047823 -0.124984  ...       1.0             0.0      0.0\n",
              "4   -0.130168  0.191575 -0.026154  ...       0.0             0.0      0.0\n",
              "..        ...       ...       ...  ...       ...             ...      ...\n",
              "547 -0.143830  0.060022  0.087901  ...       1.0             1.0      0.0\n",
              "548  0.041393  0.023916  0.093961  ...       0.0             1.0      2.0\n",
              "549 -0.167171 -0.040376 -0.002445  ...       1.0             1.0      0.0\n",
              "550  0.028834  0.238163 -0.045819  ...       0.0             0.0      0.0\n",
              "551  0.125133  0.276131 -0.029625  ...       1.0             1.0      0.0\n",
              "\n",
              "[552 rows x 11 columns]"
            ]
          },
          "metadata": {},
          "execution_count": 30
        }
      ]
    },
    {
      "cell_type": "code",
      "metadata": {
        "colab": {
          "base_uri": "https://localhost:8080/",
          "height": 419
        },
        "id": "cg-zatkDoRz9",
        "outputId": "9967df30-eb63-4b33-ef50-c32205011773"
      },
      "source": [
        "pca_X_test = pandas.DataFrame(\n",
        "    data = pca_train.transform(X_test[continuous]),\n",
        "    columns = ['PC%d' % (i) for i in numpy.arange(pca_train.n_components_)+1]\n",
        ")\n",
        "\n",
        "principal_components = pca_X_test.columns[:max_column:]\n",
        "\n",
        "pca_X_test = pandas.concat(\n",
        "    [pca_X_test[principal_components], X_test[categorical]],\n",
        "    axis = 1\n",
        ")\n",
        "\n",
        "pca_X_test"
      ],
      "execution_count": null,
      "outputs": [
        {
          "output_type": "execute_result",
          "data": {
            "text/html": [
              "<div>\n",
              "<style scoped>\n",
              "    .dataframe tbody tr th:only-of-type {\n",
              "        vertical-align: middle;\n",
              "    }\n",
              "\n",
              "    .dataframe tbody tr th {\n",
              "        vertical-align: top;\n",
              "    }\n",
              "\n",
              "    .dataframe thead th {\n",
              "        text-align: right;\n",
              "    }\n",
              "</style>\n",
              "<table border=\"1\" class=\"dataframe\">\n",
              "  <thead>\n",
              "    <tr style=\"text-align: right;\">\n",
              "      <th></th>\n",
              "      <th>PC1</th>\n",
              "      <th>PC2</th>\n",
              "      <th>PC3</th>\n",
              "      <th>Gender</th>\n",
              "      <th>Married</th>\n",
              "      <th>BankCustomer</th>\n",
              "      <th>EducationLevel</th>\n",
              "      <th>PriorDefault</th>\n",
              "      <th>Employed</th>\n",
              "      <th>DriversLicense</th>\n",
              "      <th>Citizen</th>\n",
              "    </tr>\n",
              "  </thead>\n",
              "  <tbody>\n",
              "    <tr>\n",
              "      <th>0</th>\n",
              "      <td>0.013034</td>\n",
              "      <td>0.154900</td>\n",
              "      <td>0.158099</td>\n",
              "      <td>0.0</td>\n",
              "      <td>1.0</td>\n",
              "      <td>0.0</td>\n",
              "      <td>10.0</td>\n",
              "      <td>1.0</td>\n",
              "      <td>1.0</td>\n",
              "      <td>0.0</td>\n",
              "      <td>0.0</td>\n",
              "    </tr>\n",
              "    <tr>\n",
              "      <th>1</th>\n",
              "      <td>0.616798</td>\n",
              "      <td>-0.115678</td>\n",
              "      <td>-0.053012</td>\n",
              "      <td>1.0</td>\n",
              "      <td>2.0</td>\n",
              "      <td>2.0</td>\n",
              "      <td>1.0</td>\n",
              "      <td>1.0</td>\n",
              "      <td>0.0</td>\n",
              "      <td>0.0</td>\n",
              "      <td>0.0</td>\n",
              "    </tr>\n",
              "    <tr>\n",
              "      <th>2</th>\n",
              "      <td>-0.141278</td>\n",
              "      <td>0.023545</td>\n",
              "      <td>-0.017648</td>\n",
              "      <td>0.0</td>\n",
              "      <td>2.0</td>\n",
              "      <td>2.0</td>\n",
              "      <td>0.0</td>\n",
              "      <td>1.0</td>\n",
              "      <td>0.0</td>\n",
              "      <td>1.0</td>\n",
              "      <td>0.0</td>\n",
              "    </tr>\n",
              "    <tr>\n",
              "      <th>3</th>\n",
              "      <td>0.207157</td>\n",
              "      <td>-0.161917</td>\n",
              "      <td>0.414889</td>\n",
              "      <td>1.0</td>\n",
              "      <td>2.0</td>\n",
              "      <td>2.0</td>\n",
              "      <td>6.0</td>\n",
              "      <td>0.0</td>\n",
              "      <td>0.0</td>\n",
              "      <td>1.0</td>\n",
              "      <td>2.0</td>\n",
              "    </tr>\n",
              "    <tr>\n",
              "      <th>4</th>\n",
              "      <td>-0.293477</td>\n",
              "      <td>0.043979</td>\n",
              "      <td>0.033666</td>\n",
              "      <td>1.0</td>\n",
              "      <td>2.0</td>\n",
              "      <td>2.0</td>\n",
              "      <td>1.0</td>\n",
              "      <td>0.0</td>\n",
              "      <td>0.0</td>\n",
              "      <td>0.0</td>\n",
              "      <td>0.0</td>\n",
              "    </tr>\n",
              "    <tr>\n",
              "      <th>...</th>\n",
              "      <td>...</td>\n",
              "      <td>...</td>\n",
              "      <td>...</td>\n",
              "      <td>...</td>\n",
              "      <td>...</td>\n",
              "      <td>...</td>\n",
              "      <td>...</td>\n",
              "      <td>...</td>\n",
              "      <td>...</td>\n",
              "      <td>...</td>\n",
              "      <td>...</td>\n",
              "    </tr>\n",
              "    <tr>\n",
              "      <th>133</th>\n",
              "      <td>-0.131200</td>\n",
              "      <td>0.060932</td>\n",
              "      <td>0.003077</td>\n",
              "      <td>1.0</td>\n",
              "      <td>2.0</td>\n",
              "      <td>2.0</td>\n",
              "      <td>8.0</td>\n",
              "      <td>0.0</td>\n",
              "      <td>1.0</td>\n",
              "      <td>1.0</td>\n",
              "      <td>0.0</td>\n",
              "    </tr>\n",
              "    <tr>\n",
              "      <th>134</th>\n",
              "      <td>-0.245238</td>\n",
              "      <td>0.012432</td>\n",
              "      <td>0.017578</td>\n",
              "      <td>1.0</td>\n",
              "      <td>1.0</td>\n",
              "      <td>0.0</td>\n",
              "      <td>1.0</td>\n",
              "      <td>0.0</td>\n",
              "      <td>0.0</td>\n",
              "      <td>0.0</td>\n",
              "      <td>0.0</td>\n",
              "    </tr>\n",
              "    <tr>\n",
              "      <th>135</th>\n",
              "      <td>0.305105</td>\n",
              "      <td>-0.170936</td>\n",
              "      <td>-0.040540</td>\n",
              "      <td>0.0</td>\n",
              "      <td>1.0</td>\n",
              "      <td>0.0</td>\n",
              "      <td>6.0</td>\n",
              "      <td>0.0</td>\n",
              "      <td>0.0</td>\n",
              "      <td>1.0</td>\n",
              "      <td>0.0</td>\n",
              "    </tr>\n",
              "    <tr>\n",
              "      <th>136</th>\n",
              "      <td>0.237959</td>\n",
              "      <td>0.276361</td>\n",
              "      <td>-0.153109</td>\n",
              "      <td>1.0</td>\n",
              "      <td>2.0</td>\n",
              "      <td>2.0</td>\n",
              "      <td>5.0</td>\n",
              "      <td>0.0</td>\n",
              "      <td>1.0</td>\n",
              "      <td>0.0</td>\n",
              "      <td>0.0</td>\n",
              "    </tr>\n",
              "    <tr>\n",
              "      <th>137</th>\n",
              "      <td>-0.108243</td>\n",
              "      <td>0.153372</td>\n",
              "      <td>-0.005270</td>\n",
              "      <td>1.0</td>\n",
              "      <td>1.0</td>\n",
              "      <td>0.0</td>\n",
              "      <td>10.0</td>\n",
              "      <td>1.0</td>\n",
              "      <td>1.0</td>\n",
              "      <td>0.0</td>\n",
              "      <td>0.0</td>\n",
              "    </tr>\n",
              "  </tbody>\n",
              "</table>\n",
              "<p>138 rows × 11 columns</p>\n",
              "</div>"
            ],
            "text/plain": [
              "          PC1       PC2       PC3  ...  Employed  DriversLicense  Citizen\n",
              "0    0.013034  0.154900  0.158099  ...       1.0             0.0      0.0\n",
              "1    0.616798 -0.115678 -0.053012  ...       0.0             0.0      0.0\n",
              "2   -0.141278  0.023545 -0.017648  ...       0.0             1.0      0.0\n",
              "3    0.207157 -0.161917  0.414889  ...       0.0             1.0      2.0\n",
              "4   -0.293477  0.043979  0.033666  ...       0.0             0.0      0.0\n",
              "..        ...       ...       ...  ...       ...             ...      ...\n",
              "133 -0.131200  0.060932  0.003077  ...       1.0             1.0      0.0\n",
              "134 -0.245238  0.012432  0.017578  ...       0.0             0.0      0.0\n",
              "135  0.305105 -0.170936 -0.040540  ...       0.0             1.0      0.0\n",
              "136  0.237959  0.276361 -0.153109  ...       1.0             0.0      0.0\n",
              "137 -0.108243  0.153372 -0.005270  ...       1.0             0.0      0.0\n",
              "\n",
              "[138 rows x 11 columns]"
            ]
          },
          "metadata": {},
          "execution_count": 31
        }
      ]
    },
    {
      "cell_type": "code",
      "metadata": {
        "id": "3pYuZsRApWII"
      },
      "source": [
        "import optuna\n",
        "from sklearn.svm import SVC\n",
        "from sklearn.model_selection import RepeatedKFold\n",
        "# from sklearn.model_selection import cross_val_score\n",
        "from sklearn.model_selection import cross_validate"
      ],
      "execution_count": null,
      "outputs": []
    },
    {
      "cell_type": "markdown",
      "metadata": {
        "id": "Z4rH1HthObYM"
      },
      "source": [
        "#### *Repeated K-Fold* com 5x10"
      ]
    },
    {
      "cell_type": "code",
      "metadata": {
        "colab": {
          "base_uri": "https://localhost:8080/"
        },
        "id": "96FHEPUCewbt",
        "outputId": "69abd314-fe4e-4df5-ea1d-fce4550a4aac"
      },
      "source": [
        "kfold = RepeatedKFold(5, 10)\n",
        "m = SVC()\n",
        "cross_validate(m, pca_X_train.values, Y_train.values.ravel(), scoring='accuracy', cv=kfold, return_train_score=True)"
      ],
      "execution_count": null,
      "outputs": [
        {
          "output_type": "execute_result",
          "data": {
            "text/plain": [
              "{'fit_time': array([0.00962114, 0.00562048, 0.00545645, 0.00553393, 0.00562096,\n",
              "        0.00533414, 0.00822878, 0.00578189, 0.00533676, 0.00564837,\n",
              "        0.00526595, 0.00532103, 0.00562048, 0.00522041, 0.00585079,\n",
              "        0.00486565, 0.00550747, 0.00548363, 0.00552034, 0.00551963,\n",
              "        0.00559449, 0.00578117, 0.00536966, 0.00532913, 0.00523257,\n",
              "        0.00543594, 0.00523996, 0.00540829, 0.00594544, 0.00553298,\n",
              "        0.0054214 , 0.00546765, 0.0054996 , 0.00548315, 0.00554061,\n",
              "        0.00515032, 0.00525832, 0.00537682, 0.00529075, 0.0059998 ,\n",
              "        0.00523925, 0.00551701, 0.00524068, 0.00497222, 0.00530648,\n",
              "        0.00538301, 0.01378775, 0.0054338 , 0.00532055, 0.00534225]),\n",
              " 'score_time': array([0.00197959, 0.00306439, 0.00119066, 0.00121307, 0.00135422,\n",
              "        0.001791  , 0.0018971 , 0.00126386, 0.00111699, 0.00111389,\n",
              "        0.00112319, 0.00109458, 0.00112534, 0.00109267, 0.00110984,\n",
              "        0.00103903, 0.00114894, 0.00116086, 0.00123692, 0.0011735 ,\n",
              "        0.00121212, 0.00122666, 0.00117874, 0.00111532, 0.00106621,\n",
              "        0.00115681, 0.0011692 , 0.00119543, 0.0012238 , 0.00111938,\n",
              "        0.00110006, 0.00111127, 0.00113821, 0.00122237, 0.00125027,\n",
              "        0.00109625, 0.00107574, 0.00108814, 0.0010488 , 0.00117922,\n",
              "        0.00111127, 0.00111079, 0.00106668, 0.00102162, 0.00108528,\n",
              "        0.00106859, 0.00391579, 0.00112367, 0.00111175, 0.00113153]),\n",
              " 'test_score': array([0.88288288, 0.84684685, 0.84545455, 0.83636364, 0.9       ,\n",
              "        0.85585586, 0.87387387, 0.85454545, 0.86363636, 0.86363636,\n",
              "        0.9009009 , 0.82882883, 0.85454545, 0.87272727, 0.83636364,\n",
              "        0.81081081, 0.87387387, 0.86363636, 0.87272727, 0.90909091,\n",
              "        0.88288288, 0.81081081, 0.83636364, 0.9       , 0.87272727,\n",
              "        0.85585586, 0.89189189, 0.83636364, 0.83636364, 0.87272727,\n",
              "        0.91891892, 0.87387387, 0.83636364, 0.83636364, 0.83636364,\n",
              "        0.83783784, 0.87387387, 0.85454545, 0.84545455, 0.9       ,\n",
              "        0.84684685, 0.87387387, 0.91818182, 0.76363636, 0.9       ,\n",
              "        0.84684685, 0.88288288, 0.84545455, 0.9       , 0.85454545]),\n",
              " 'train_score': array([0.85487528, 0.88208617, 0.86425339, 0.86651584, 0.86877828,\n",
              "        0.87981859, 0.85714286, 0.86199095, 0.87782805, 0.85972851,\n",
              "        0.86621315, 0.86848073, 0.86199095, 0.87330317, 0.86651584,\n",
              "        0.87301587, 0.85714286, 0.86425339, 0.87104072, 0.86425339,\n",
              "        0.85487528, 0.87301587, 0.86651584, 0.85067873, 0.87556561,\n",
              "        0.87981859, 0.86621315, 0.8800905 , 0.86651584, 0.85746606,\n",
              "        0.84580499, 0.85941043, 0.88235294, 0.86651584, 0.86651584,\n",
              "        0.86621315, 0.85714286, 0.86199095, 0.88235294, 0.86877828,\n",
              "        0.86394558, 0.87301587, 0.86199095, 0.88461538, 0.85067873,\n",
              "        0.86394558, 0.8707483 , 0.86425339, 0.86651584, 0.86199095])}"
            ]
          },
          "metadata": {},
          "execution_count": 33
        }
      ]
    },
    {
      "cell_type": "markdown",
      "metadata": {
        "id": "IGKFnA1TO_H3"
      },
      "source": [
        "#### Diferentes configurações de SVM (com os quatro kernels - 'linear', 'poly', 'rbf', 'sigmoid') para a classificação da base de dados"
      ]
    },
    {
      "cell_type": "code",
      "metadata": {
        "id": "Fnyu_n_2ruyU"
      },
      "source": [
        "def model_factory(c_value, k_function, d, g, c):\n",
        "  model = SVC(c_value, k_function, d, g, c)\n",
        "  return model\n",
        "\n",
        "def svc_model_optimization_study(trial: optuna.trial.FixedTrial):\n",
        "  c_value = trial.suggest_categorical('c_value', [0.01, 0.1, 1, 10, 100])\n",
        "  kernel = trial.suggest_categorical(\n",
        "      'kernel', ['linear', 'poly', 'rbf', 'sigmoid']\n",
        "  )\n",
        "  degree = trial.suggest_int('degree', 1, 3)\n",
        "  gamma = trial.suggest_categorical(\n",
        "      'gamma', ['scale', 'auto']\n",
        "  )\n",
        "  coef0 = trial.suggest_loguniform('coef0', 0.1, 1.0)\n",
        "  model = model_factory(c_value, kernel, degree, gamma, coef0)\n",
        "  kfold = RepeatedKFold(5, 10)\n",
        "  scores = cross_validate(\n",
        "      model, pca_X_train.values, Y_train.values.ravel(), scoring='accuracy',\n",
        "      cv=kfold, return_train_score=True\n",
        "  )\n",
        "  trial.set_user_attr('model', model)\n",
        "  trial.set_user_attr('scores', scores)\n",
        "  return numpy.mean(scores['test_score'])"
      ],
      "execution_count": null,
      "outputs": []
    },
    {
      "cell_type": "code",
      "metadata": {
        "colab": {
          "base_uri": "https://localhost:8080/"
        },
        "id": "bN_DVEpOur4S",
        "outputId": "d88636fc-8771-487b-f357-5a81f201f68b"
      },
      "source": [
        "study = optuna.study.create_study(\n",
        "    study_name='SVM_cross_validation_study', direction='maximize'\n",
        ")\n",
        "study.optimize(svc_model_optimization_study, n_trials=20)"
      ],
      "execution_count": null,
      "outputs": [
        {
          "output_type": "stream",
          "name": "stderr",
          "text": [
            "\u001b[32m[I 2021-11-03 00:55:01,421]\u001b[0m A new study created in memory with name: SVM_cross_validation_study\u001b[0m\n",
            "\u001b[32m[I 2021-11-03 00:55:02,050]\u001b[0m Trial 0 finished with value: 0.6025733005733006 and parameters: {'c_value': 1, 'kernel': 'sigmoid', 'degree': 2, 'gamma': 'scale', 'coef0': 0.3792263139879589}. Best is trial 0 with value: 0.6025733005733006.\u001b[0m\n",
            "\u001b[32m[I 2021-11-03 00:55:02,275]\u001b[0m Trial 1 finished with value: 0.8604963144963145 and parameters: {'c_value': 0.1, 'kernel': 'linear', 'degree': 1, 'gamma': 'auto', 'coef0': 0.797715645308757}. Best is trial 1 with value: 0.8604963144963145.\u001b[0m\n",
            "\u001b[32m[I 2021-11-03 00:55:03,212]\u001b[0m Trial 2 finished with value: 0.548945126945127 and parameters: {'c_value': 0.01, 'kernel': 'sigmoid', 'degree': 1, 'gamma': 'scale', 'coef0': 0.1465759553707515}. Best is trial 1 with value: 0.8604963144963145.\u001b[0m\n",
            "\u001b[32m[I 2021-11-03 00:55:03,840]\u001b[0m Trial 3 finished with value: 0.8719148239148241 and parameters: {'c_value': 100, 'kernel': 'rbf', 'degree': 1, 'gamma': 'scale', 'coef0': 0.3943513630174959}. Best is trial 3 with value: 0.8719148239148241.\u001b[0m\n",
            "\u001b[32m[I 2021-11-03 00:55:04,309]\u001b[0m Trial 4 finished with value: 0.8731859131859132 and parameters: {'c_value': 10, 'kernel': 'rbf', 'degree': 2, 'gamma': 'auto', 'coef0': 0.16811956657254473}. Best is trial 4 with value: 0.8731859131859132.\u001b[0m\n",
            "\u001b[32m[I 2021-11-03 00:55:04,879]\u001b[0m Trial 5 finished with value: 0.5786257166257167 and parameters: {'c_value': 1, 'kernel': 'sigmoid', 'degree': 1, 'gamma': 'scale', 'coef0': 0.21359686630510843}. Best is trial 4 with value: 0.8731859131859132.\u001b[0m\n",
            "\u001b[32m[I 2021-11-03 00:55:05,180]\u001b[0m Trial 6 finished with value: 0.8606633906633907 and parameters: {'c_value': 0.01, 'kernel': 'linear', 'degree': 2, 'gamma': 'scale', 'coef0': 0.19917912708167684}. Best is trial 4 with value: 0.8731859131859132.\u001b[0m\n",
            "\u001b[32m[I 2021-11-03 00:55:05,792]\u001b[0m Trial 7 finished with value: 0.5936117936117936 and parameters: {'c_value': 1, 'kernel': 'sigmoid', 'degree': 2, 'gamma': 'scale', 'coef0': 0.4131707969450319}. Best is trial 4 with value: 0.8731859131859132.\u001b[0m\n",
            "\u001b[32m[I 2021-11-03 00:55:06,387]\u001b[0m Trial 8 finished with value: 0.8738705978705978 and parameters: {'c_value': 100, 'kernel': 'rbf', 'degree': 2, 'gamma': 'scale', 'coef0': 0.15025434776853533}. Best is trial 8 with value: 0.8738705978705978.\u001b[0m\n",
            "\u001b[32m[I 2021-11-03 00:55:06,885]\u001b[0m Trial 9 finished with value: 0.563932841932842 and parameters: {'c_value': 10, 'kernel': 'sigmoid', 'degree': 2, 'gamma': 'scale', 'coef0': 0.17791040940652214}. Best is trial 8 with value: 0.8738705978705978.\u001b[0m\n",
            "\u001b[32m[I 2021-11-03 00:57:22,046]\u001b[0m Trial 10 finished with value: 0.8516674856674856 and parameters: {'c_value': 100, 'kernel': 'poly', 'degree': 3, 'gamma': 'auto', 'coef0': 0.10028924209547595}. Best is trial 8 with value: 0.8738705978705978.\u001b[0m\n",
            "\u001b[32m[I 2021-11-03 00:57:22,505]\u001b[0m Trial 11 finished with value: 0.875007371007371 and parameters: {'c_value': 10, 'kernel': 'rbf', 'degree': 3, 'gamma': 'auto', 'coef0': 0.10728400995599553}. Best is trial 11 with value: 0.875007371007371.\u001b[0m\n",
            "\u001b[32m[I 2021-11-03 00:57:22,973]\u001b[0m Trial 12 finished with value: 0.8722391482391483 and parameters: {'c_value': 10, 'kernel': 'rbf', 'degree': 3, 'gamma': 'auto', 'coef0': 0.10117021541844844}. Best is trial 11 with value: 0.875007371007371.\u001b[0m\n",
            "\u001b[32m[I 2021-11-03 00:57:23,563]\u001b[0m Trial 13 finished with value: 0.8614185094185093 and parameters: {'c_value': 100, 'kernel': 'rbf', 'degree': 3, 'gamma': 'auto', 'coef0': 0.2733455195051381}. Best is trial 11 with value: 0.875007371007371.\u001b[0m\n",
            "\u001b[32m[I 2021-11-03 00:57:24,229]\u001b[0m Trial 14 finished with value: 0.7776216216216217 and parameters: {'c_value': 0.1, 'kernel': 'rbf', 'degree': 3, 'gamma': 'auto', 'coef0': 0.13078604287640194}. Best is trial 11 with value: 0.875007371007371.\u001b[0m\n",
            "\u001b[32m[I 2021-11-03 00:59:48,541]\u001b[0m Trial 15 finished with value: 0.8552465192465192 and parameters: {'c_value': 100, 'kernel': 'poly', 'degree': 3, 'gamma': 'auto', 'coef0': 0.6351037997289004}. Best is trial 11 with value: 0.875007371007371.\u001b[0m\n",
            "\u001b[32m[I 2021-11-03 00:59:49,014]\u001b[0m Trial 16 finished with value: 0.8624848484848486 and parameters: {'c_value': 10, 'kernel': 'rbf', 'degree': 2, 'gamma': 'scale', 'coef0': 0.2647401697821701}. Best is trial 11 with value: 0.875007371007371.\u001b[0m\n",
            "\u001b[32m[I 2021-11-03 00:59:49,624]\u001b[0m Trial 17 finished with value: 0.8610515970515971 and parameters: {'c_value': 100, 'kernel': 'rbf', 'degree': 3, 'gamma': 'auto', 'coef0': 0.12655810576435172}. Best is trial 11 with value: 0.875007371007371.\u001b[0m\n",
            "\u001b[32m[I 2021-11-03 00:59:50,103]\u001b[0m Trial 18 finished with value: 0.8592743652743653 and parameters: {'c_value': 10, 'kernel': 'rbf', 'degree': 2, 'gamma': 'scale', 'coef0': 0.12265652301169964}. Best is trial 11 with value: 0.875007371007371.\u001b[0m\n",
            "\u001b[32m[I 2021-11-03 00:59:50,331]\u001b[0m Trial 19 finished with value: 0.8604668304668306 and parameters: {'c_value': 0.1, 'kernel': 'linear', 'degree': 3, 'gamma': 'auto', 'coef0': 0.2370114196278991}. Best is trial 11 with value: 0.875007371007371.\u001b[0m\n"
          ]
        }
      ]
    },
    {
      "cell_type": "code",
      "metadata": {
        "id": "nDfhdDrydyAD",
        "colab": {
          "base_uri": "https://localhost:8080/"
        },
        "outputId": "71d9c446-693b-4a0f-c6b5-8113cf2880a2"
      },
      "source": [
        "for i, trial in enumerate(study.trials):\n",
        "  print('Trial %i' % i)\n",
        "  print(\n",
        "      'Acurácia de treinamento:',\n",
        "      numpy.mean(trial.user_attrs['scores']['train_score'])\n",
        "  )\n",
        "  print(\n",
        "      'Acurácia de validação:',\n",
        "      numpy.mean(trial.user_attrs['scores']['test_score'])\n",
        "  )\n",
        "  model = trial.user_attrs['model'].fit(pca_X_train.values, Y_train.values.ravel())\n",
        "  print(\n",
        "      'Acurácia de testes:',\n",
        "      model.score(pca_X_test.values, Y_test.values.ravel())\n",
        "  )"
      ],
      "execution_count": null,
      "outputs": [
        {
          "output_type": "stream",
          "name": "stdout",
          "text": [
            "Trial 0\n",
            "Acurácia de treinamento: 0.5986735206903273\n",
            "Acurácia de validação: 0.6025733005733006\n",
            "Acurácia de testes: 0.7101449275362319\n",
            "Trial 1\n",
            "Acurácia de treinamento: 0.8605065615989987\n",
            "Acurácia de validação: 0.8604963144963145\n",
            "Acurácia de testes: 0.8333333333333334\n",
            "Trial 2\n",
            "Acurácia de treinamento: 0.5489150532007675\n",
            "Acurácia de validação: 0.548945126945127\n",
            "Acurácia de testes: 0.5797101449275363\n",
            "Trial 3\n",
            "Acurácia de treinamento: 0.9075632304203732\n",
            "Acurácia de validação: 0.8719148239148241\n",
            "Acurácia de testes: 0.8405797101449275\n",
            "Trial 4\n",
            "Acurácia de treinamento: 0.9195650567919477\n",
            "Acurácia de validação: 0.8731859131859132\n",
            "Acurácia de testes: 0.8115942028985508\n",
            "Trial 5\n",
            "Acurácia de treinamento: 0.5862321338791927\n",
            "Acurácia de validação: 0.5786257166257167\n",
            "Acurácia de testes: 0.7246376811594203\n",
            "Trial 6\n",
            "Acurácia de treinamento: 0.86621520403033\n",
            "Acurácia de validação: 0.8606633906633907\n",
            "Acurácia de testes: 0.8333333333333334\n",
            "Trial 7\n",
            "Acurácia de treinamento: 0.5867457752331702\n",
            "Acurácia de validação: 0.5936117936117936\n",
            "Acurácia de testes: 0.6956521739130435\n",
            "Trial 8\n",
            "Acurácia de treinamento: 0.9071096130759997\n",
            "Acurácia de validação: 0.8738705978705978\n",
            "Acurácia de testes: 0.8405797101449275\n",
            "Trial 9\n",
            "Acurácia de treinamento: 0.5775412729194243\n",
            "Acurácia de validação: 0.563932841932842\n",
            "Acurácia de testes: 0.717391304347826\n",
            "Trial 10\n",
            "Acurácia de treinamento: 0.9304834754414587\n",
            "Acurácia de validação: 0.8516674856674856\n",
            "Acurácia de testes: 0.8188405797101449\n",
            "Trial 11\n",
            "Acurácia de treinamento: 0.9189765136823961\n",
            "Acurácia de validação: 0.875007371007371\n",
            "Acurácia de testes: 0.8115942028985508\n",
            "Trial 12\n",
            "Acurácia de treinamento: 0.9177991196478592\n",
            "Acurácia de validação: 0.8722391482391483\n",
            "Acurácia de testes: 0.8115942028985508\n",
            "Trial 13\n",
            "Acurácia de treinamento: 0.9477342731964579\n",
            "Acurácia de validação: 0.8614185094185093\n",
            "Acurácia de testes: 0.8260869565217391\n",
            "Trial 14\n",
            "Acurácia de treinamento: 0.7898548137203599\n",
            "Acurácia de validação: 0.7776216216216217\n",
            "Acurácia de testes: 0.782608695652174\n",
            "Trial 15\n",
            "Acurácia de treinamento: 0.9334233180451669\n",
            "Acurácia de validação: 0.8552465192465192\n",
            "Acurácia de testes: 0.7971014492753623\n",
            "Trial 16\n",
            "Acurácia de treinamento: 0.8764479124983324\n",
            "Acurácia de validação: 0.8624848484848486\n",
            "Acurácia de testes: 0.8333333333333334\n",
            "Trial 17\n",
            "Acurácia de treinamento: 0.9486420209109286\n",
            "Acurácia de validação: 0.8610515970515971\n",
            "Acurácia de testes: 0.8260869565217391\n",
            "Trial 18\n",
            "Acurácia de treinamento: 0.8769485229989431\n",
            "Acurácia de validação: 0.8592743652743653\n",
            "Acurácia de testes: 0.8333333333333334\n",
            "Trial 19\n",
            "Acurácia de treinamento: 0.8605047147063952\n",
            "Acurácia de validação: 0.8604668304668306\n",
            "Acurácia de testes: 0.8333333333333334\n"
          ]
        }
      ]
    },
    {
      "cell_type": "markdown",
      "metadata": {
        "id": "cYPBoNCd-448"
      },
      "source": [
        "#Considerações Finais\n",
        "\n",
        "O algoritmo SVM foi treinado com 4 *kernels*: linear, polynomial, rbf e sigmoid com ajustes dos parâmetros *Gamma*, *degree* e *C*. Os valores de *Gamma* foram: *Scale* e *auto*, o *degree* foram de 1 a 3, o coef0 usou uma distribuição uniforme *random* com valor miníno 0,1 e máximo de 1,0, o C  utilizou uma distribuição uniforme *random* com valor miníno de 0,5 e máximo de 1,0.\n",
        "\n",
        "Diante dessa configuração, 20 combinações foram avaliadas, sendo a melhor combinação para o conjunto de validação, a de número 11 composta dos parâmetros: C = 10, Kernel: rbf com gamma: auto e coef0 ~= 0,11. Essa combinação obteve uma acurácia de 0,91 para   treinamento, 0,87 para validação e 0,81 para teste.\n",
        "\n",
        "Observa-se que a acurácia de treinamento e de validação são iguais e que na fase de teste houve uma pequena perda na acurácia, apesar disso, conclui-se que o modelo treinado é adequado e não sofreu *underfitting* e nem *overfitting* sendo útil para tarefa de aprovação de crédito conforme experimentação realizada.\n",
        "\n",
        "O SVM apresentou ser um algoritmo poderoso em relação aos outros modelos analisados, pois obteve a acurácia de 0,81; enquanto os algoritmos K-NN e LVQ (com os valores ótimos para o conjunto de teste) - experimentados em missões anteriores -  obtiveram acurácia de 0,78 e 0,62 respectivamente. \n",
        "\n",
        "Ademais, o SVM supera o K-NN em relação ao consumo de memória, pois o SVM é eficaz em espaços dimensionais elevados.\n",
        "\n"
      ]
    },
    {
      "cell_type": "markdown",
      "metadata": {
        "id": "m5pheeQCh08R"
      },
      "source": [
        "#Referências\n",
        "\n",
        "https://scikit-learn.org/stable/modules/svm.html\n",
        "\n",
        "https://scikit-learn.org/stable/modules/svm.html#svm-kernels\n",
        "\n",
        "https://www.kdnuggets.com/2020/03/machine-learning-algorithm-svm-explained.html\n",
        "\n",
        "Yun Liu, Jie Lian, Michael R. Bartolacci, Qing-An Zeng. Density-Based Penalty Parameter Optimization on C-SVM, publicado em: 07/07/2014. https://doi.org/10.1155/2014/851814\n",
        "\n",
        "Ana Carolina Lorena, André Carlos Ponce de Leon Carvalho, et al. Introdução às máquinas de vetores suporte (support vector machines). 2003.\n",
        "\n"
      ]
    }
  ]
}