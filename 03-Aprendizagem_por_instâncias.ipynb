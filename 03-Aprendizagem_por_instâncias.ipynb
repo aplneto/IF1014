{
  "nbformat": 4,
  "nbformat_minor": 0,
  "metadata": {
    "colab": {
      "name": "Aprendizagem por instâncias.ipynb",
      "provenance": [],
      "collapsed_sections": [],
      "include_colab_link": true
    },
    "kernelspec": {
      "name": "python3",
      "display_name": "Python 3"
    },
    "language_info": {
      "name": "python"
    }
  },
  "cells": [
    {
      "cell_type": "markdown",
      "metadata": {
        "id": "view-in-github",
        "colab_type": "text"
      },
      "source": [
        "<a href=\"https://colab.research.google.com/github/aplneto/IF1014/blob/main/03-Aprendizagem_por_inst%C3%A2ncias.ipynb\" target=\"_parent\"><img src=\"https://colab.research.google.com/assets/colab-badge.svg\" alt=\"Open In Colab\"/></a>"
      ]
    },
    {
      "cell_type": "code",
      "metadata": {
        "id": "9CGnpF9BdWSB"
      },
      "source": [
        "'''\n",
        "Antônio Paulino - apln2@cin.ufpe.br\n",
        "Ailton Rodrigues - ajr@cin.ufpe.br\n",
        "Douglas Tavares - dtrps@cin.ufpe.br\n",
        "\n",
        "\n",
        "Realizar as atividades de compreensão do problema, dos dados e a análise\n",
        "exploratória para o domínio Credit Approval Data Set\n",
        "(https://archive.ics.uci.edu/ml/datasets/Credit+Approval).\n",
        "Apresentar relatórios com o itens mencionados e discussões com gráficos da base\n",
        "de dados.\n",
        "'''\n",
        "\n",
        "DATA_FOLDER = (\n",
        "    'https://archive.ics.uci.edu/ml/machine-learning-databases/'\n",
        "    'credit-screening/'\n",
        ")\n",
        "\n",
        "DATA_DESCRIPTION = DATA_FOLDER + 'crx.names'\n",
        "DATA_SET = DATA_FOLDER + 'crx.data'"
      ],
      "execution_count": null,
      "outputs": []
    },
    {
      "cell_type": "code",
      "metadata": {
        "colab": {
          "base_uri": "https://localhost:8080/",
          "height": 204
        },
        "id": "Iz_TsY5Tdgbg",
        "outputId": "70a395d1-05cd-4e21-d9ba-edd49e7d3633"
      },
      "source": [
        "import pandas\n",
        "import numpy\n",
        "\n",
        "aliases = ['A%i' % i for i in range(1, 16)] + ['class']\n",
        "data = pandas.read_csv(DATA_SET, names=aliases, na_values='?', header=None)\n",
        "data.head()"
      ],
      "execution_count": null,
      "outputs": [
        {
          "output_type": "execute_result",
          "data": {
            "text/html": [
              "<div>\n",
              "<style scoped>\n",
              "    .dataframe tbody tr th:only-of-type {\n",
              "        vertical-align: middle;\n",
              "    }\n",
              "\n",
              "    .dataframe tbody tr th {\n",
              "        vertical-align: top;\n",
              "    }\n",
              "\n",
              "    .dataframe thead th {\n",
              "        text-align: right;\n",
              "    }\n",
              "</style>\n",
              "<table border=\"1\" class=\"dataframe\">\n",
              "  <thead>\n",
              "    <tr style=\"text-align: right;\">\n",
              "      <th></th>\n",
              "      <th>A1</th>\n",
              "      <th>A2</th>\n",
              "      <th>A3</th>\n",
              "      <th>A4</th>\n",
              "      <th>A5</th>\n",
              "      <th>A6</th>\n",
              "      <th>A7</th>\n",
              "      <th>A8</th>\n",
              "      <th>A9</th>\n",
              "      <th>A10</th>\n",
              "      <th>A11</th>\n",
              "      <th>A12</th>\n",
              "      <th>A13</th>\n",
              "      <th>A14</th>\n",
              "      <th>A15</th>\n",
              "      <th>class</th>\n",
              "    </tr>\n",
              "  </thead>\n",
              "  <tbody>\n",
              "    <tr>\n",
              "      <th>0</th>\n",
              "      <td>b</td>\n",
              "      <td>30.83</td>\n",
              "      <td>0.000</td>\n",
              "      <td>u</td>\n",
              "      <td>g</td>\n",
              "      <td>w</td>\n",
              "      <td>v</td>\n",
              "      <td>1.25</td>\n",
              "      <td>t</td>\n",
              "      <td>t</td>\n",
              "      <td>1</td>\n",
              "      <td>f</td>\n",
              "      <td>g</td>\n",
              "      <td>202.0</td>\n",
              "      <td>0</td>\n",
              "      <td>+</td>\n",
              "    </tr>\n",
              "    <tr>\n",
              "      <th>1</th>\n",
              "      <td>a</td>\n",
              "      <td>58.67</td>\n",
              "      <td>4.460</td>\n",
              "      <td>u</td>\n",
              "      <td>g</td>\n",
              "      <td>q</td>\n",
              "      <td>h</td>\n",
              "      <td>3.04</td>\n",
              "      <td>t</td>\n",
              "      <td>t</td>\n",
              "      <td>6</td>\n",
              "      <td>f</td>\n",
              "      <td>g</td>\n",
              "      <td>43.0</td>\n",
              "      <td>560</td>\n",
              "      <td>+</td>\n",
              "    </tr>\n",
              "    <tr>\n",
              "      <th>2</th>\n",
              "      <td>a</td>\n",
              "      <td>24.50</td>\n",
              "      <td>0.500</td>\n",
              "      <td>u</td>\n",
              "      <td>g</td>\n",
              "      <td>q</td>\n",
              "      <td>h</td>\n",
              "      <td>1.50</td>\n",
              "      <td>t</td>\n",
              "      <td>f</td>\n",
              "      <td>0</td>\n",
              "      <td>f</td>\n",
              "      <td>g</td>\n",
              "      <td>280.0</td>\n",
              "      <td>824</td>\n",
              "      <td>+</td>\n",
              "    </tr>\n",
              "    <tr>\n",
              "      <th>3</th>\n",
              "      <td>b</td>\n",
              "      <td>27.83</td>\n",
              "      <td>1.540</td>\n",
              "      <td>u</td>\n",
              "      <td>g</td>\n",
              "      <td>w</td>\n",
              "      <td>v</td>\n",
              "      <td>3.75</td>\n",
              "      <td>t</td>\n",
              "      <td>t</td>\n",
              "      <td>5</td>\n",
              "      <td>t</td>\n",
              "      <td>g</td>\n",
              "      <td>100.0</td>\n",
              "      <td>3</td>\n",
              "      <td>+</td>\n",
              "    </tr>\n",
              "    <tr>\n",
              "      <th>4</th>\n",
              "      <td>b</td>\n",
              "      <td>20.17</td>\n",
              "      <td>5.625</td>\n",
              "      <td>u</td>\n",
              "      <td>g</td>\n",
              "      <td>w</td>\n",
              "      <td>v</td>\n",
              "      <td>1.71</td>\n",
              "      <td>t</td>\n",
              "      <td>f</td>\n",
              "      <td>0</td>\n",
              "      <td>f</td>\n",
              "      <td>s</td>\n",
              "      <td>120.0</td>\n",
              "      <td>0</td>\n",
              "      <td>+</td>\n",
              "    </tr>\n",
              "  </tbody>\n",
              "</table>\n",
              "</div>"
            ],
            "text/plain": [
              "  A1     A2     A3 A4 A5 A6 A7    A8 A9 A10  A11 A12 A13    A14  A15 class\n",
              "0  b  30.83  0.000  u  g  w  v  1.25  t   t    1   f   g  202.0    0     +\n",
              "1  a  58.67  4.460  u  g  q  h  3.04  t   t    6   f   g   43.0  560     +\n",
              "2  a  24.50  0.500  u  g  q  h  1.50  t   f    0   f   g  280.0  824     +\n",
              "3  b  27.83  1.540  u  g  w  v  3.75  t   t    5   t   g  100.0    3     +\n",
              "4  b  20.17  5.625  u  g  w  v  1.71  t   f    0   f   s  120.0    0     +"
            ]
          },
          "metadata": {},
          "execution_count": 83
        }
      ]
    },
    {
      "cell_type": "code",
      "metadata": {
        "id": "uOeRQuLi_pXb"
      },
      "source": [
        "# test_data = data.sample(frac=0.2)\n",
        "# data = pandas.concat([data, test_data]).drop_duplicates(keep=False)"
      ],
      "execution_count": null,
      "outputs": []
    },
    {
      "cell_type": "markdown",
      "metadata": {
        "id": "B1gVgPFsmvHm"
      },
      "source": [
        " \n",
        "**Separa os atributos em categóricos e contínuos**\n"
      ]
    },
    {
      "cell_type": "code",
      "metadata": {
        "colab": {
          "base_uri": "https://localhost:8080/"
        },
        "id": "OBJtk0g_jDgn",
        "outputId": "b93041b2-15d2-419b-91eb-755625b9064c"
      },
      "source": [
        "continuous = data.describe().columns\n",
        "categorical = data.drop(list(continuous) + ['class'], axis=1).columns\n",
        "print(continuous)\n",
        "print(categorical)"
      ],
      "execution_count": null,
      "outputs": [
        {
          "output_type": "stream",
          "name": "stdout",
          "text": [
            "Index(['A2', 'A3', 'A8', 'A11', 'A14', 'A15'], dtype='object')\n",
            "Index(['A1', 'A4', 'A5', 'A6', 'A7', 'A9', 'A10', 'A12', 'A13'], dtype='object')\n"
          ]
        }
      ]
    },
    {
      "cell_type": "markdown",
      "metadata": {
        "id": "G9GhYwlTrA3q"
      },
      "source": [
        "**Limpeza dos dados**\n"
      ]
    },
    {
      "cell_type": "markdown",
      "metadata": {
        "id": "bH2FCGXmrON8"
      },
      "source": [
        "## Modelo de regressão linear para  completar dados continuos faltantes\n",
        "\n",
        "Variáveis continuas ausentes serão preenchidas por valores previstos a partir de um modelo de regressão linear construído a partir da coluna com valores ausentes e da coluna com todos os valores mais fortemente correlacionada a ela"
      ]
    },
    {
      "cell_type": "code",
      "metadata": {
        "colab": {
          "base_uri": "https://localhost:8080/"
        },
        "id": "_yKlqfJ7qB8E",
        "outputId": "58544c9a-0135-47cb-81de-89f2f3652f44"
      },
      "source": [
        "continuous_columns_missing_values = []\n",
        "\n",
        "for column in continuous:\n",
        "  if data[column].isnull().sum() > 0:\n",
        "    continuous_columns_missing_values.append(column)\n",
        "\n",
        "print(continuous_columns_missing_values)"
      ],
      "execution_count": null,
      "outputs": [
        {
          "output_type": "stream",
          "name": "stdout",
          "text": [
            "['A2', 'A14']\n"
          ]
        }
      ]
    },
    {
      "cell_type": "code",
      "metadata": {
        "id": "r0JL_uP-WwVR"
      },
      "source": [
        "import matplotlib.pyplot as plt\n",
        "%matplotlib inline"
      ],
      "execution_count": null,
      "outputs": []
    },
    {
      "cell_type": "code",
      "metadata": {
        "id": "R9C-K0POuJPu"
      },
      "source": [
        "most_correlated_columns = {}\n",
        "candidates = [\n",
        "  x for x in continuous if x not in continuous_columns_missing_values\n",
        "]\n",
        "for column in continuous_columns_missing_values:\n",
        "  most_correlated_columns[column] = max(\n",
        "      candidates, key=lambda x: abs(data[x].corr(data[column]))\n",
        "  )"
      ],
      "execution_count": null,
      "outputs": []
    },
    {
      "cell_type": "code",
      "metadata": {
        "id": "GW_6R1Is2g_J"
      },
      "source": [
        "from sklearn.linear_model import LinearRegression"
      ],
      "execution_count": null,
      "outputs": []
    },
    {
      "cell_type": "code",
      "metadata": {
        "colab": {
          "base_uri": "https://localhost:8080/"
        },
        "id": "9XBOZPrjzyt8",
        "outputId": "5731afe2-dc17-4cd2-d8ce-e4c63b13b9c3"
      },
      "source": [
        "prediction_models = {}\n",
        "\n",
        "for pair in most_correlated_columns.items():\n",
        "  rows = data[~data[list(pair)].isnull().any(axis=1)][list(pair)]\n",
        "  y = rows[pair[0]]\n",
        "  x = rows[pair[1]]\n",
        "  lr = LinearRegression()\n",
        "  lr.fit(x.values.reshape(-1, 1), y)\n",
        "  d = pandas.DataFrame(data= {\n",
        "      'value' : lr.predict(data[pair[1]].values.reshape(-1, 1))\n",
        "  })\n",
        "  data[pair[0]] = numpy.where(data[column].isna(), d['value'], data[column])\n",
        "\n",
        "data[continuous].isna().sum()"
      ],
      "execution_count": null,
      "outputs": [
        {
          "output_type": "execute_result",
          "data": {
            "text/plain": [
              "A2     0\n",
              "A3     0\n",
              "A8     0\n",
              "A11    0\n",
              "A14    0\n",
              "A15    0\n",
              "dtype: int64"
            ]
          },
          "metadata": {},
          "execution_count": 90
        }
      ]
    },
    {
      "cell_type": "markdown",
      "metadata": {
        "id": "pnGULe_0dydD"
      },
      "source": [
        "# Dados categóricos\n",
        "\n",
        "Algoritmos de machine learning se baseia na construção e no uso de algoritmos que “aprendem” a partir dos dados. Sendo assim,\n",
        "é preciso converter informações qualitativas em quantitativas para que estas possam ser operadas numericamente. \n",
        "\n",
        "Nesta análise, as variáveis categóricas do dataset foram convertidas em números inteiros usando o LabelEncoder da biblioteca sklearn. Os valores ausentes foram completados usando um algoritmo de árvore de decisão."
      ]
    },
    {
      "cell_type": "markdown",
      "metadata": {
        "id": "7BzOkIRqMXn5"
      },
      "source": [
        "Atributos categóricos do dataset escolhido pra análise"
      ]
    },
    {
      "cell_type": "code",
      "metadata": {
        "id": "bkUzbEYp_F_S",
        "colab": {
          "base_uri": "https://localhost:8080/"
        },
        "outputId": "45ea8f4b-5251-49fa-9488-aa624ff4af62"
      },
      "source": [
        "categorical_columns_missing_values = [\n",
        "  p[0] for p in dict(data[categorical].isna().sum() > 0).items() if p[1]\n",
        "]\n",
        "complete_data = data.dropna()\n",
        "print(categorical_columns_missing_values)"
      ],
      "execution_count": null,
      "outputs": [
        {
          "output_type": "stream",
          "name": "stdout",
          "text": [
            "['A1', 'A4', 'A5', 'A6', 'A7']\n"
          ]
        }
      ]
    },
    {
      "cell_type": "markdown",
      "metadata": {
        "id": "-SGSLF7uO2jd"
      },
      "source": [
        "Conversão para números inteiros usando o LabelEncoder da biblioteca Sklearn"
      ]
    },
    {
      "cell_type": "code",
      "metadata": {
        "id": "jtZU1dCFeM8J"
      },
      "source": [
        "from sklearn.preprocessing import LabelEncoder\n",
        "from collections import defaultdict\n",
        "\n",
        "label_dict = defaultdict(LabelEncoder)\n",
        "complete_data = complete_data.apply(\n",
        "    lambda x: label_dict[x.name].fit_transform(x)\n",
        "    if x.name in list(categorical) + ['class']\n",
        "    else x\n",
        ")"
      ],
      "execution_count": null,
      "outputs": []
    },
    {
      "cell_type": "code",
      "metadata": {
        "id": "jHORVpp3nBO3"
      },
      "source": [
        "from sklearn.tree import DecisionTreeClassifier"
      ],
      "execution_count": null,
      "outputs": []
    },
    {
      "cell_type": "code",
      "metadata": {
        "id": "RLfuGF1hno0q"
      },
      "source": [
        "trees = {}\n",
        "\n",
        "X = complete_data.drop(categorical_columns_missing_values, axis=1)\n",
        "\n",
        "for column in categorical_columns_missing_values:\n",
        "  Y = complete_data[column]\n",
        "  tree = DecisionTreeClassifier(\n",
        "      max_leaf_nodes=Y.nunique(), random_state=2**Y.nunique()\n",
        "  )\n",
        "\n",
        "  trees[column] = tree\n",
        "  tree.fit(X.values, Y.values)"
      ],
      "execution_count": null,
      "outputs": []
    },
    {
      "cell_type": "code",
      "metadata": {
        "id": "hBZ1FL4Xo7MH"
      },
      "source": [
        "for column in trees:\n",
        "  tree = trees[column]\n",
        "  encoder = label_dict[column]\n",
        "  d = pandas.DataFrame(data= {\n",
        "      'value' : encoder.inverse_transform(\n",
        "          tree.predict(\n",
        "          data.drop(categorical_columns_missing_values, axis=1).apply(\n",
        "                  lambda x: label_dict[x.name].fit_transform(x)\n",
        "                  if x.name in list(categorical) + ['class']\n",
        "                  else x\n",
        "          ).values\n",
        "        )\n",
        "      )\n",
        "    }\n",
        "  )\n",
        "\n",
        "  data[column] = numpy.where(data[column].isna(), d['value'], data[column])"
      ],
      "execution_count": null,
      "outputs": []
    },
    {
      "cell_type": "code",
      "metadata": {
        "colab": {
          "base_uri": "https://localhost:8080/"
        },
        "id": "NNZ8AWwLtXHn",
        "outputId": "4c0060ec-ddd9-4588-8e74-3bc82e1c0918"
      },
      "source": [
        "labels = data['class']\n",
        "data.drop('class', axis=1, inplace=True)\n",
        "X = data.apply(\n",
        "    lambda x: label_dict[x.name].fit_transform(x)\n",
        "    if x.name in categorical\n",
        "    else x\n",
        ")\n",
        "print(X)"
      ],
      "execution_count": null,
      "outputs": [
        {
          "output_type": "stream",
          "name": "stdout",
          "text": [
            "     A1     A2      A3  A4  A5  A6  A7  ...  A9  A10  A11  A12  A13    A14  A15\n",
            "0     1  202.0   0.000   1   0  12   7  ...   1    1    1    0    0  202.0    0\n",
            "1     0   43.0   4.460   1   0  10   3  ...   1    1    6    0    0   43.0  560\n",
            "2     0  280.0   0.500   1   0  10   3  ...   1    0    0    0    0  280.0  824\n",
            "3     1  100.0   1.540   1   0  12   7  ...   1    1    5    1    0  100.0    3\n",
            "4     1  120.0   5.625   1   0  12   7  ...   1    0    0    0    2  120.0    0\n",
            "..   ..    ...     ...  ..  ..  ..  ..  ...  ..  ...  ...  ...  ...    ...  ...\n",
            "685   1  260.0  10.085   2   2   4   3  ...   0    0    0    0    0  260.0    0\n",
            "686   0  200.0   0.750   1   0   1   7  ...   0    1    2    1    0  200.0  394\n",
            "687   0  200.0  13.500   2   2   5   2  ...   0    1    1    1    0  200.0    1\n",
            "688   1  280.0   0.205   1   0   0   7  ...   0    0    0    0    0  280.0  750\n",
            "689   1    0.0   3.375   1   0   1   3  ...   0    0    0    1    0    0.0    0\n",
            "\n",
            "[690 rows x 15 columns]\n"
          ]
        }
      ]
    },
    {
      "cell_type": "markdown",
      "metadata": {
        "id": "vzuvrvESupu-"
      },
      "source": [
        "# Codificação dos rótulos "
      ]
    },
    {
      "cell_type": "code",
      "metadata": {
        "id": "yvxT_R-xuGMx"
      },
      "source": [
        "Y = label_dict['class'].fit_transform(labels)\n",
        "\n",
        "# Y = pandas.get_dummies(labels, prefix='', prefix_sep='')\n",
        "# print(Y)"
      ],
      "execution_count": null,
      "outputs": []
    },
    {
      "cell_type": "markdown",
      "metadata": {
        "id": "eOyEMSbgjYSv"
      },
      "source": [
        "# Transformação dos Dados"
      ]
    },
    {
      "cell_type": "code",
      "metadata": {
        "id": "aTvmhyKvzcZF",
        "colab": {
          "base_uri": "https://localhost:8080/",
          "height": 297
        },
        "outputId": "717f8571-babd-4f6e-a4ed-6a5770059f0c"
      },
      "source": [
        "X[continuous].describe()"
      ],
      "execution_count": null,
      "outputs": [
        {
          "output_type": "execute_result",
          "data": {
            "text/html": [
              "<div>\n",
              "<style scoped>\n",
              "    .dataframe tbody tr th:only-of-type {\n",
              "        vertical-align: middle;\n",
              "    }\n",
              "\n",
              "    .dataframe tbody tr th {\n",
              "        vertical-align: top;\n",
              "    }\n",
              "\n",
              "    .dataframe thead th {\n",
              "        text-align: right;\n",
              "    }\n",
              "</style>\n",
              "<table border=\"1\" class=\"dataframe\">\n",
              "  <thead>\n",
              "    <tr style=\"text-align: right;\">\n",
              "      <th></th>\n",
              "      <th>A2</th>\n",
              "      <th>A3</th>\n",
              "      <th>A8</th>\n",
              "      <th>A11</th>\n",
              "      <th>A14</th>\n",
              "      <th>A15</th>\n",
              "    </tr>\n",
              "  </thead>\n",
              "  <tbody>\n",
              "    <tr>\n",
              "      <th>count</th>\n",
              "      <td>690.000000</td>\n",
              "      <td>690.000000</td>\n",
              "      <td>690.000000</td>\n",
              "      <td>690.00000</td>\n",
              "      <td>690.000000</td>\n",
              "      <td>690.000000</td>\n",
              "    </tr>\n",
              "    <tr>\n",
              "      <th>mean</th>\n",
              "      <td>181.120217</td>\n",
              "      <td>4.758725</td>\n",
              "      <td>2.223406</td>\n",
              "      <td>2.40000</td>\n",
              "      <td>184.094523</td>\n",
              "      <td>1017.385507</td>\n",
              "    </tr>\n",
              "    <tr>\n",
              "      <th>std</th>\n",
              "      <td>173.424884</td>\n",
              "      <td>4.978163</td>\n",
              "      <td>3.346513</td>\n",
              "      <td>4.86294</td>\n",
              "      <td>172.233363</td>\n",
              "      <td>5210.102598</td>\n",
              "    </tr>\n",
              "    <tr>\n",
              "      <th>min</th>\n",
              "      <td>0.000000</td>\n",
              "      <td>0.000000</td>\n",
              "      <td>0.000000</td>\n",
              "      <td>0.00000</td>\n",
              "      <td>0.000000</td>\n",
              "      <td>0.000000</td>\n",
              "    </tr>\n",
              "    <tr>\n",
              "      <th>25%</th>\n",
              "      <td>60.000000</td>\n",
              "      <td>1.000000</td>\n",
              "      <td>0.165000</td>\n",
              "      <td>0.00000</td>\n",
              "      <td>80.000000</td>\n",
              "      <td>0.000000</td>\n",
              "    </tr>\n",
              "    <tr>\n",
              "      <th>50%</th>\n",
              "      <td>160.000000</td>\n",
              "      <td>2.750000</td>\n",
              "      <td>1.000000</td>\n",
              "      <td>0.00000</td>\n",
              "      <td>160.000000</td>\n",
              "      <td>5.000000</td>\n",
              "    </tr>\n",
              "    <tr>\n",
              "      <th>75%</th>\n",
              "      <td>272.000000</td>\n",
              "      <td>7.207500</td>\n",
              "      <td>2.625000</td>\n",
              "      <td>3.00000</td>\n",
              "      <td>272.000000</td>\n",
              "      <td>395.500000</td>\n",
              "    </tr>\n",
              "    <tr>\n",
              "      <th>max</th>\n",
              "      <td>2000.000000</td>\n",
              "      <td>28.000000</td>\n",
              "      <td>28.500000</td>\n",
              "      <td>67.00000</td>\n",
              "      <td>2000.000000</td>\n",
              "      <td>100000.000000</td>\n",
              "    </tr>\n",
              "  </tbody>\n",
              "</table>\n",
              "</div>"
            ],
            "text/plain": [
              "                A2          A3  ...          A14            A15\n",
              "count   690.000000  690.000000  ...   690.000000     690.000000\n",
              "mean    181.120217    4.758725  ...   184.094523    1017.385507\n",
              "std     173.424884    4.978163  ...   172.233363    5210.102598\n",
              "min       0.000000    0.000000  ...     0.000000       0.000000\n",
              "25%      60.000000    1.000000  ...    80.000000       0.000000\n",
              "50%     160.000000    2.750000  ...   160.000000       5.000000\n",
              "75%     272.000000    7.207500  ...   272.000000     395.500000\n",
              "max    2000.000000   28.000000  ...  2000.000000  100000.000000\n",
              "\n",
              "[8 rows x 6 columns]"
            ]
          },
          "metadata": {},
          "execution_count": 98
        }
      ]
    },
    {
      "cell_type": "code",
      "metadata": {
        "id": "MFRyOvlpuP4X"
      },
      "source": [
        "from sklearn.preprocessing import StandardScaler"
      ],
      "execution_count": null,
      "outputs": []
    },
    {
      "cell_type": "code",
      "metadata": {
        "colab": {
          "base_uri": "https://localhost:8080/",
          "height": 297
        },
        "id": "iLJPUx6qugEz",
        "outputId": "ad8fa536-4b94-4cc3-f76c-06a5b9ba2292"
      },
      "source": [
        "scalers = defaultdict(StandardScaler)\n",
        "\n",
        "for column in continuous:\n",
        "  scaler = scalers[column]\n",
        "  X[column] = scaler.fit_transform(X[column].values.reshape(-1, 1))\n",
        "\n",
        "X[continuous].describe()"
      ],
      "execution_count": null,
      "outputs": [
        {
          "output_type": "execute_result",
          "data": {
            "text/html": [
              "<div>\n",
              "<style scoped>\n",
              "    .dataframe tbody tr th:only-of-type {\n",
              "        vertical-align: middle;\n",
              "    }\n",
              "\n",
              "    .dataframe tbody tr th {\n",
              "        vertical-align: top;\n",
              "    }\n",
              "\n",
              "    .dataframe thead th {\n",
              "        text-align: right;\n",
              "    }\n",
              "</style>\n",
              "<table border=\"1\" class=\"dataframe\">\n",
              "  <thead>\n",
              "    <tr style=\"text-align: right;\">\n",
              "      <th></th>\n",
              "      <th>A2</th>\n",
              "      <th>A3</th>\n",
              "      <th>A8</th>\n",
              "      <th>A11</th>\n",
              "      <th>A14</th>\n",
              "      <th>A15</th>\n",
              "    </tr>\n",
              "  </thead>\n",
              "  <tbody>\n",
              "    <tr>\n",
              "      <th>count</th>\n",
              "      <td>6.900000e+02</td>\n",
              "      <td>6.900000e+02</td>\n",
              "      <td>6.900000e+02</td>\n",
              "      <td>6.900000e+02</td>\n",
              "      <td>6.900000e+02</td>\n",
              "      <td>6.900000e+02</td>\n",
              "    </tr>\n",
              "    <tr>\n",
              "      <th>mean</th>\n",
              "      <td>1.834282e-17</td>\n",
              "      <td>1.605801e-16</td>\n",
              "      <td>1.673380e-16</td>\n",
              "      <td>1.153667e-15</td>\n",
              "      <td>-5.631566e-17</td>\n",
              "      <td>-2.916347e-17</td>\n",
              "    </tr>\n",
              "    <tr>\n",
              "      <th>std</th>\n",
              "      <td>1.000725e+00</td>\n",
              "      <td>1.000725e+00</td>\n",
              "      <td>1.000725e+00</td>\n",
              "      <td>1.000725e+00</td>\n",
              "      <td>1.000725e+00</td>\n",
              "      <td>1.000725e+00</td>\n",
              "    </tr>\n",
              "    <tr>\n",
              "      <th>min</th>\n",
              "      <td>-1.045130e+00</td>\n",
              "      <td>-9.566132e-01</td>\n",
              "      <td>-6.648767e-01</td>\n",
              "      <td>-4.938866e-01</td>\n",
              "      <td>-1.069642e+00</td>\n",
              "      <td>-1.954133e-01</td>\n",
              "    </tr>\n",
              "    <tr>\n",
              "      <th>25%</th>\n",
              "      <td>-6.989082e-01</td>\n",
              "      <td>-7.555902e-01</td>\n",
              "      <td>-6.155359e-01</td>\n",
              "      <td>-4.938866e-01</td>\n",
              "      <td>-6.048191e-01</td>\n",
              "      <td>-1.954133e-01</td>\n",
              "    </tr>\n",
              "    <tr>\n",
              "      <th>50%</th>\n",
              "      <td>-1.218714e-01</td>\n",
              "      <td>-4.037999e-01</td>\n",
              "      <td>-3.658414e-01</td>\n",
              "      <td>-4.938866e-01</td>\n",
              "      <td>-1.399961e-01</td>\n",
              "      <td>-1.944530e-01</td>\n",
              "    </tr>\n",
              "    <tr>\n",
              "      <th>75%</th>\n",
              "      <td>5.244098e-01</td>\n",
              "      <td>4.922602e-01</td>\n",
              "      <td>1.200908e-01</td>\n",
              "      <td>1.234717e-01</td>\n",
              "      <td>5.107561e-01</td>\n",
              "      <td>-1.194481e-01</td>\n",
              "    </tr>\n",
              "    <tr>\n",
              "      <th>max</th>\n",
              "      <td>1.049561e+01</td>\n",
              "      <td>4.672031e+00</td>\n",
              "      <td>7.857628e+00</td>\n",
              "      <td>1.329378e+01</td>\n",
              "      <td>1.055093e+01</td>\n",
              "      <td>1.901199e+01</td>\n",
              "    </tr>\n",
              "  </tbody>\n",
              "</table>\n",
              "</div>"
            ],
            "text/plain": [
              "                 A2            A3  ...           A14           A15\n",
              "count  6.900000e+02  6.900000e+02  ...  6.900000e+02  6.900000e+02\n",
              "mean   1.834282e-17  1.605801e-16  ... -5.631566e-17 -2.916347e-17\n",
              "std    1.000725e+00  1.000725e+00  ...  1.000725e+00  1.000725e+00\n",
              "min   -1.045130e+00 -9.566132e-01  ... -1.069642e+00 -1.954133e-01\n",
              "25%   -6.989082e-01 -7.555902e-01  ... -6.048191e-01 -1.954133e-01\n",
              "50%   -1.218714e-01 -4.037999e-01  ... -1.399961e-01 -1.944530e-01\n",
              "75%    5.244098e-01  4.922602e-01  ...  5.107561e-01 -1.194481e-01\n",
              "max    1.049561e+01  4.672031e+00  ...  1.055093e+01  1.901199e+01\n",
              "\n",
              "[8 rows x 6 columns]"
            ]
          },
          "metadata": {},
          "execution_count": 100
        }
      ]
    },
    {
      "cell_type": "markdown",
      "metadata": {
        "id": "XKfx-vqR4vqN"
      },
      "source": [
        "# Redução de dimensionalidade\n",
        "\n",
        "<!--\n",
        "\n",
        "* https://www.analyticsvidhya.com/blog/2018/08/dimensionality-reduction-techniques-python/\n",
        "\n",
        " -->"
      ]
    },
    {
      "cell_type": "markdown",
      "metadata": {
        "id": "ij0GvkjSHjVO"
      },
      "source": [
        "## Principal component analysis\n",
        "\n",
        "<!--\n",
        "\n",
        "* https://www.datasklr.com/principal-component-analysis-and-factor-analysis/principal-component-analysis\n",
        "* https://www.youtube.com/watch?v=FgakZw6K1QQ\n",
        "* https://jmausolf.github.io/code/pca_in_python/\n",
        "\n",
        "-->"
      ]
    },
    {
      "cell_type": "code",
      "metadata": {
        "id": "ALYX9jgmx_OE"
      },
      "source": [
        "from sklearn.decomposition import PCA"
      ],
      "execution_count": null,
      "outputs": []
    },
    {
      "cell_type": "code",
      "metadata": {
        "colab": {
          "base_uri": "https://localhost:8080/"
        },
        "id": "CqVnMY7hE6cj",
        "outputId": "83fc3f60-caec-45ab-ba73-81921398cbca"
      },
      "source": [
        "pca = PCA()\n",
        "pca.fit(X[continuous])"
      ],
      "execution_count": null,
      "outputs": [
        {
          "output_type": "execute_result",
          "data": {
            "text/plain": [
              "PCA(copy=True, iterated_power='auto', n_components=None, random_state=None,\n",
              "    svd_solver='auto', tol=0.0, whiten=False)"
            ]
          },
          "metadata": {},
          "execution_count": 102
        }
      ]
    },
    {
      "cell_type": "code",
      "metadata": {
        "colab": {
          "base_uri": "https://localhost:8080/"
        },
        "id": "d6MehBH-E-D5",
        "outputId": "40a2d641-cd07-4243-b4ae-e0e66a4de0a2"
      },
      "source": [
        "print(numpy.cumsum(pca.explained_variance_ratio_))"
      ],
      "execution_count": null,
      "outputs": [
        {
          "output_type": "stream",
          "name": "stdout",
          "text": [
            "[0.36587965 0.61023383 0.77150117 0.88939291 0.99865368 1.        ]\n"
          ]
        }
      ]
    },
    {
      "cell_type": "markdown",
      "metadata": {
        "id": "y1qJGlCJ8b66"
      },
      "source": [
        "A partir da análise PCA é possível concluir que uma representação com os componentes principais PC1, PC2, PC3 e PC4 são responsáveis por 96% da variabilidade do dataset e podem ser usados para representar os dados com um elevado nível de fidelidade."
      ]
    },
    {
      "cell_type": "code",
      "metadata": {
        "id": "1ux3IUQqFCMl"
      },
      "source": [
        "loadings = pandas.DataFrame(\n",
        "    pca.components_.T,\n",
        "    columns = ['PC%d' % (i) for i in numpy.arange(pca.n_components_)+1], index=X[continuous].columns\n",
        ")"
      ],
      "execution_count": null,
      "outputs": []
    },
    {
      "cell_type": "code",
      "metadata": {
        "id": "WLDtFu5P89M1"
      },
      "source": [
        "pca_X = pandas.DataFrame(\n",
        "    data = pca.fit_transform(X[continuous]),\n",
        "    columns = ['PC%d' % (i) for i in numpy.arange(pca.n_components_)+1]\n",
        ")\n",
        "\n",
        "max_column = numpy.argmax(numpy.cumsum(pca.explained_variance_ratio_) > 0.9) + 1\n",
        "principal_components = pca_X.columns[:max_column:]\n",
        "\n",
        "pca_X = pandas.concat(\n",
        "    [pca_X[principal_components], X[categorical]],\n",
        "    axis = 1\n",
        ")"
      ],
      "execution_count": null,
      "outputs": []
    },
    {
      "cell_type": "markdown",
      "metadata": {
        "id": "oqeGyWoNhmnc"
      },
      "source": [
        "# Modelos de aprendizagem por intâncias"
      ]
    },
    {
      "cell_type": "markdown",
      "metadata": {
        "id": "bH4nhvvqhrvK"
      },
      "source": [
        "## Funções auxiliares"
      ]
    },
    {
      "cell_type": "code",
      "metadata": {
        "id": "H9KdTlXxh6Hz"
      },
      "source": [
        "from sklearn.datasets import make_blobs\n",
        "\n",
        "def visualize_2d_graph(model, n_samples=100, test_n=10, is_lvq=True):\n",
        "\n",
        "  x, y = make_blobs(n_samples=n_samples, centers=2, n_features=2)\n",
        "  model.fit(x, y)\n",
        "\n",
        "  class_0 = x[y < 1]\n",
        "  class_1 = x[y > 0]\n",
        "\n",
        "  fig, ax = plt.subplots()\n",
        "  ax.scatter(*zip(*class_0), color='red', label='class 0')\n",
        "  ax.scatter(*zip(*class_1), color='blue', label='class 1')\n",
        "  ax.spines['left'].set_position('zero')\n",
        "  ax.spines['right'].set_color('none')\n",
        "  ax.yaxis.tick_left()\n",
        "  ax.spines['bottom'].set_position('zero')\n",
        "  ax.spines['top'].set_color('none')\n",
        "  ax.xaxis.tick_bottom()\n",
        "\n",
        "  if is_lvq:\n",
        "    ax.scatter(*model.prototypes[0], s=[100], color='black', label='proto 0')\n",
        "    ax.scatter(*model.prototypes[1], s=[100], color='grey', label='proto 1')\n",
        "\n",
        "  test_p = numpy.random.randint(-10, 10, size=(10, 2))\n",
        "  y_pred = model.predict(test_p)\n",
        "  y_0 = test_p[y_pred < 1]\n",
        "  y_1 = test_p[y_pred > 0]\n",
        "  ax.scatter(*zip(*y_0), color='orange', marker='*', label='pred 0')\n",
        "  ax.scatter(*zip(*y_1), color='green', marker='*', label='pred 1')\n",
        "  ax.legend()\n",
        "\n",
        "  plt.show()"
      ],
      "execution_count": null,
      "outputs": []
    },
    {
      "cell_type": "markdown",
      "metadata": {
        "id": "qd26sYEv6ku9"
      },
      "source": [
        "## [Learning Vector Quantization Classifier](https://outline.com/dJvFUv)\n",
        "\n",
        "LVQ é o chamado método de aprendizagem baseado em protótipo. Um ou mais protótipos são usados ​​para representar cada classe no conjunto de dados, cada protótipo é descrito como um ponto no espaço de características. Novos pontos de dados (desconhecidos) são então atribuídos à classe do protótipo que está mais próxima deles. Para que “mais próximo” faça sentido, a medida de distância euclidiana foi definida pra esta análise.\n",
        "\n",
        "O LVQ pode ser entendido como um caso especial de rede neural artificial, mais precisamente, ele aplica uma abordagem baseada na  Hebbian learning do vencedor leva tudo. É um precursor de Self-Organizing Map (SOM) e relacionado ao algoritmo k-vizinho mais próximo (k-NN). LVQ foi inventado por Teuvo Kohonen."
      ]
    },
    {
      "cell_type": "code",
      "metadata": {
        "id": "R4f46hjgYzOw"
      },
      "source": [
        "class LVQClassifier():\n",
        "  def __init__(\n",
        "      self, distance_metrics='euclidian', learning_rate=0.01, max_iter=200\n",
        "):\n",
        "    self.__distance_functions = {\n",
        "        'euclidian': lambda v: numpy.linalg.norm(v)\n",
        "    }\n",
        "    assert distance_metrics in self.__distance_functions\n",
        "    self.__learning_rate = learning_rate\n",
        "    self.__choosen_distance_function = distance_metrics\n",
        "    self.__prototypes = None\n",
        "    self.__max_iter=200\n",
        "  \n",
        "  @property\n",
        "  def prototypes(self):\n",
        "    return self.__prototypes\n",
        "  \n",
        "  @property\n",
        "  def params(self):\n",
        "    return {\n",
        "        'distance': self.__choosen_distance_function,\n",
        "        'learning_rate': self.__learning_rate,\n",
        "        'max_iter': self.__max_iter\n",
        "    }\n",
        "\n",
        "  def partial_fit(self, X: numpy.ndarray, Y: numpy.ndarray):\n",
        "    fn = self.__distance_functions[self.__choosen_distance_function]\n",
        "    assert len(X) == len(Y)\n",
        "    assert len(X.shape) == 2\n",
        "    unique = numpy.unique(Y)\n",
        "    proto_n = unique.shape[0]\n",
        "    if self.__prototypes is None:\n",
        "      self.__prototypes = numpy.zeros((proto_n, X.shape[1]))\n",
        "    for class_ in unique:\n",
        "      examples = X[Y == class_]\n",
        "      self.__prototypes[class_] = numpy.average(examples, axis=0)\n",
        "    diff = numpy.zeros(self.__prototypes.shape)\n",
        "    distances = numpy.zeros((len(self.__prototypes), ))\n",
        "    for i, x in enumerate(X):\n",
        "      y = Y[i]\n",
        "      for class_, proto in enumerate(self.__prototypes):\n",
        "        diff[class_] = x - proto\n",
        "        distances[class_] = fn(diff[class_])\n",
        "      closest = numpy.argmin(distances)\n",
        "      minor_d = numpy.argmin(diff[closest])\n",
        "      lr = self.__learning_rate if class_ == y else -1 * self.__learning_rate\n",
        "      self.__prototypes[closest][minor_d] += (\n",
        "          lr if self.__prototypes[closest][minor_d] < x[minor_d] else -1 * lr\n",
        "      )\n",
        "    \n",
        "  def fit(self, X: numpy.ndarray, Y: numpy.ndarray):\n",
        "    i = 0\n",
        "    while i < self.__max_iter:\n",
        "      self.partial_fit(X, Y)\n",
        "      i += 1\n",
        "    \n",
        "  def predict(self, X: numpy.ndarray):\n",
        "    fn = self.__distance_functions[self.__choosen_distance_function]\n",
        "    if (self.__prototypes is None):\n",
        "      raise ValueError(\"Classifier not yet initialized\")\n",
        "    if (self.__prototypes.shape[1] != len(X[0])):\n",
        "      raise ValueError(\n",
        "          \"Expected array with {0} dimensions. Got {1} instead\".format(\n",
        "              self.__prototypes.shape[1], len(X[0])\n",
        "          )\n",
        "      )\n",
        "    distances = numpy.zeros((len(self.__prototypes), ))\n",
        "    Y = numpy.zeros((len(X), ))\n",
        "    for i, x in enumerate(X):\n",
        "      for class_, proto in enumerate(self.__prototypes):\n",
        "        distances[class_] = fn(x - proto)\n",
        "      Y[i] = numpy.argmin(distances)\n",
        "    return Y\n"
      ],
      "execution_count": null,
      "outputs": []
    },
    {
      "cell_type": "markdown",
      "metadata": {
        "id": "jCkIy84I6rj2"
      },
      "source": [
        "### 2D Visualization"
      ]
    },
    {
      "cell_type": "markdown",
      "metadata": {
        "id": "COi-gMIFXCTD"
      },
      "source": [
        "Analisando o gráfico abaixo, observa-se que cada classe (vermelho e azul) é representada por um protótipo (os pontos maiores) ou seja proto O para classe azul e proto 1 para a classe vermelha"
      ]
    },
    {
      "cell_type": "code",
      "metadata": {
        "colab": {
          "base_uri": "https://localhost:8080/",
          "height": 248
        },
        "id": "fgWwmUHmSlNJ",
        "outputId": "0bdf3849-4a9e-4a90-d31b-4346d586b15f"
      },
      "source": [
        "lvq = LVQClassifier()\n",
        "visualize_2d_graph(lvq)"
      ],
      "execution_count": null,
      "outputs": [
        {
          "output_type": "display_data",
          "data": {
            "image/png": "[encoded data removed]",
            "text/plain": [
              "<Figure size 432x288 with 1 Axes>"
            ]
          },
          "metadata": {
            "needs_background": "light"
          }
        }
      ]
    },
    {
      "cell_type": "markdown",
      "metadata": {
        "id": "kjJToZRiLr-_"
      },
      "source": [
        "## [k-Nearest Neighbours Classifier]()\n",
        "\n",
        "O algoritmo k-vizinhos mais próximos (do inglês, *k-Nearest Neighbors – kNN*) funciona da seguinte forma: dada uma instância de teste xq, o algoritmo encontra os k vizinhos mais próximos de xq no conjunto de treinamento. \n",
        "\n",
        "Em seguida, a classe de xq é dada pela classe que ocorrer com maior frequência entre os k vizinhos. \n",
        "\n",
        "Esse algoritmo possui dois parâmetros: o número de vizinhos (k) e a medida de dissimilaridade (ou de similaridade) usada para encontrar os vizinhos mais próximos. A distância Euclidiana é a medida mais amplamente usada para determinar os vizinhos, embora existam diversas opções. \n",
        "\n",
        "O KNN é um algoritmo de aprendizagem preguiçosa, que a função alvo é aproximada localmente, ou seja, o algoritmo k-NN sabe resolver com sucesso com mudanças no domínio do problema, cada novo elemento que é adicionando no dataset é calculado, essa seria uma desvantagem da aprendizagem preguiçosa, pois precisa armazenar o dataset inteiro. \n",
        "O k-NN é um dos algoritmos mais simples de ser implementado de aprendizagem de máquina, de fácil compreensão dos resultados e algumas aplicações atualmente podem ter bons resultados com o algoritmo do k-NN. O k-NN é utilizado para os problemas de classificação e de regressão. Porém é mais utilizado em problemas de classificação na indústria.\n",
        "\n",
        "Precisamos entender como o valor de “K” afetar o algoritmo k-NN e como o dataset é classificado, se os resultados melhoram ou pioram.\n"
      ]
    },
    {
      "cell_type": "code",
      "metadata": {
        "id": "KMUkoxX8LFf8"
      },
      "source": [
        "class KNNClassifier():\n",
        "  def __init__(self, k = 5):\n",
        "    self.__k = k\n",
        "    self.__X = None\n",
        "    self.__Y = None\n",
        "  \n",
        "  @property\n",
        "  def params(self):\n",
        "    return {'k': self.__k}\n",
        "  \n",
        "  def fit(self, X: numpy.ndarray, Y: numpy.ndarray):\n",
        "    assert len(X) == len(Y)\n",
        "    assert len(X.shape) == 2\n",
        "    self.__X = X if self.__X is None else numpy.concatenate((self.__X, X))\n",
        "    self.__Y = Y if self.__Y is None else numpy.concatenate((self.__Y, Y))\n",
        "  \n",
        "  def predict(self, X: numpy.ndarray):\n",
        "    predictions = numpy.zeros((len(X), ))\n",
        "    dist = numpy.zeros((len(self.__X, )))\n",
        "    for i, x in enumerate(X):\n",
        "      for j, v in enumerate(self.__X):\n",
        "        dist[j] = numpy.linalg.norm(x - v)\n",
        "      k_nearest = dist.argsort()[:self.__k]\n",
        "      values, counts = numpy.unique(self.__Y[k_nearest], return_counts=True)\n",
        "      predictions[i] = values[numpy.argmax(counts)]\n",
        "    return predictions"
      ],
      "execution_count": null,
      "outputs": []
    },
    {
      "cell_type": "markdown",
      "metadata": {
        "id": "yPs5IvPklOMz"
      },
      "source": [
        "### 2D Visualization"
      ]
    },
    {
      "cell_type": "code",
      "metadata": {
        "colab": {
          "base_uri": "https://localhost:8080/",
          "height": 248
        },
        "id": "FqR9vXRDlNu7",
        "outputId": "ef6a8ce9-fc61-471b-e0ad-839cc21b697d"
      },
      "source": [
        "knn = KNNClassifier()\n",
        "visualize_2d_graph(knn, is_lvq=False)"
      ],
      "execution_count": null,
      "outputs": [
        {
          "output_type": "display_data",
          "data": {
            "image/png": "[encoded data removed]",
            "text/plain": [
              "<Figure size 432x288 with 1 Axes>"
            ]
          },
          "metadata": {
            "needs_background": "light"
          }
        }
      ]
    },
    {
      "cell_type": "markdown",
      "metadata": {
        "id": "6O1iksfnyaqh"
      },
      "source": [
        "# Testes"
      ]
    },
    {
      "cell_type": "code",
      "metadata": {
        "id": "hzrdlTU2yiF5"
      },
      "source": [
        "from sklearn.model_selection import train_test_split"
      ],
      "execution_count": null,
      "outputs": []
    },
    {
      "cell_type": "code",
      "metadata": {
        "id": "D25uJL0OyclA"
      },
      "source": [
        "X_train, X_test, Y_train, Y_test = train_test_split(\n",
        "    pca_X, Y, test_size = 0.2, random_state = 4\n",
        ")"
      ],
      "execution_count": null,
      "outputs": []
    },
    {
      "cell_type": "markdown",
      "metadata": {
        "id": "_VRtGSvw0GW-"
      },
      "source": [
        "## KNN"
      ]
    },
    {
      "cell_type": "code",
      "metadata": {
        "id": "FFrJM5xQ0Ohy",
        "colab": {
          "base_uri": "https://localhost:8080/"
        },
        "outputId": "a2a57680-9cf8-43de-c719-14903b26ed02"
      },
      "source": [
        "!pip3 install memory_profiler\n",
        "import time\n",
        "from memory_profiler import memory_usage"
      ],
      "execution_count": null,
      "outputs": [
        {
          "output_type": "stream",
          "name": "stdout",
          "text": [
            "Collecting memory_profiler\n",
            "  Downloading memory_profiler-0.58.0.tar.gz (36 kB)\n",
            "Requirement already satisfied: psutil in /usr/local/lib/python3.7/dist-packages (from memory_profiler) (5.4.8)\n",
            "Building wheels for collected packages: memory-profiler\n",
            "  Building wheel for memory-profiler (setup.py) ... \u001b[?25l\u001b[?25hdone\n",
            "  Created wheel for memory-profiler: filename=memory_profiler-0.58.0-py3-none-any.whl size=30190 sha256=f0f68be1127489e1da2eadd44d516b82b52e60a038fe863a85ac0442437459ac\n",
            "  Stored in directory: /root/.cache/pip/wheels/56/19/d5/8cad06661aec65a04a0d6785b1a5ad035cb645b1772a4a0882\n",
            "Successfully built memory-profiler\n",
            "Installing collected packages: memory-profiler\n",
            "Successfully installed memory-profiler-0.58.0\n"
          ]
        }
      ]
    },
    {
      "cell_type": "code",
      "metadata": {
        "id": "ejr3rrTJ0KMv",
        "colab": {
          "base_uri": "https://localhost:8080/"
        },
        "outputId": "43396359-2048-4c4b-ce11-bcedaa31d6fe"
      },
      "source": [
        "predictions = []\n",
        "time_list = []\n",
        "mem_list = []\n",
        "\n",
        "for k in range(1, 10, 2):\n",
        "  knn = KNNClassifier(k=k)\n",
        "  knn.fit(X_train.values, Y_train)\n",
        "  T_InitKnn = time.process_time() \n",
        "  y_pred = knn.predict(X_test.values)\n",
        "  T_FinishKnn = time.process_time()\n",
        "  T_PredictKnn = T_FinishKnn - T_InitKnn\n",
        "\n",
        "  predictions.append(y_pred)\n",
        "  time_list.append(T_PredictKnn)\n",
        "  mem = memory_usage()\n",
        "  print(mem)"
      ],
      "execution_count": null,
      "outputs": [
        {
          "output_type": "stream",
          "name": "stdout",
          "text": [
            "[204.38671875]\n",
            "[204.38671875]\n",
            "[204.38671875]\n",
            "[204.38671875]\n",
            "[204.38671875]\n"
          ]
        }
      ]
    },
    {
      "cell_type": "markdown",
      "metadata": {
        "id": "y9T8Zj-b_Yve"
      },
      "source": [
        "Big O do KNN é O(n*m), onde n é número de exemplos de instâncias do dataset e o m é o número de predições."
      ]
    },
    {
      "cell_type": "code",
      "metadata": {
        "id": "8vpwyXf1zhm8"
      },
      "source": [
        "from sklearn.metrics import classification_report"
      ],
      "execution_count": null,
      "outputs": []
    },
    {
      "cell_type": "code",
      "metadata": {
        "colab": {
          "base_uri": "https://localhost:8080/"
        },
        "id": "nVnk3z3HlRB0",
        "outputId": "e958160c-6778-453e-f16b-52ea20b8e764"
      },
      "source": [
        "names = label_dict['class'].inverse_transform([0, 1])\n",
        "for idx, y_pred in enumerate(predictions):\n",
        "  print(\"K = %i\" % (2*idx+1))\n",
        "  print(classification_report(Y_test, y_pred, target_names=names))\n",
        "  print(\"Tempo decorrido:\", time_list[idx])"
      ],
      "execution_count": null,
      "outputs": [
        {
          "output_type": "stream",
          "name": "stdout",
          "text": [
            "K = 1\n",
            "              precision    recall  f1-score   support\n",
            "\n",
            "           +       0.67      0.67      0.67        58\n",
            "           -       0.76      0.76      0.76        80\n",
            "\n",
            "    accuracy                           0.72       138\n",
            "   macro avg       0.72      0.72      0.72       138\n",
            "weighted avg       0.72      0.72      0.72       138\n",
            "\n",
            "Tempo decorrido: 0.6227671600000022\n",
            "K = 3\n",
            "              precision    recall  f1-score   support\n",
            "\n",
            "           +       0.71      0.62      0.66        58\n",
            "           -       0.75      0.81      0.78        80\n",
            "\n",
            "    accuracy                           0.73       138\n",
            "   macro avg       0.73      0.72      0.72       138\n",
            "weighted avg       0.73      0.73      0.73       138\n",
            "\n",
            "Tempo decorrido: 0.6174500739999971\n",
            "K = 5\n",
            "              precision    recall  f1-score   support\n",
            "\n",
            "           +       0.79      0.64      0.70        58\n",
            "           -       0.77      0.88      0.82        80\n",
            "\n",
            "    accuracy                           0.78       138\n",
            "   macro avg       0.78      0.76      0.76       138\n",
            "weighted avg       0.78      0.78      0.77       138\n",
            "\n",
            "Tempo decorrido: 0.5894474719999963\n",
            "K = 7\n",
            "              precision    recall  f1-score   support\n",
            "\n",
            "           +       0.76      0.55      0.64        58\n",
            "           -       0.73      0.88      0.80        80\n",
            "\n",
            "    accuracy                           0.74       138\n",
            "   macro avg       0.75      0.71      0.72       138\n",
            "weighted avg       0.74      0.74      0.73       138\n",
            "\n",
            "Tempo decorrido: 0.6045351080000003\n",
            "K = 9\n",
            "              precision    recall  f1-score   support\n",
            "\n",
            "           +       0.78      0.55      0.65        58\n",
            "           -       0.73      0.89      0.80        80\n",
            "\n",
            "    accuracy                           0.75       138\n",
            "   macro avg       0.76      0.72      0.72       138\n",
            "weighted avg       0.75      0.75      0.74       138\n",
            "\n",
            "Tempo decorrido: 0.5841706900000005\n"
          ]
        }
      ]
    },
    {
      "cell_type": "markdown",
      "metadata": {
        "id": "gsOF9GBv0EqG"
      },
      "source": [
        "## LVQ"
      ]
    },
    {
      "cell_type": "code",
      "metadata": {
        "id": "NbMbbEBl2IzC",
        "colab": {
          "base_uri": "https://localhost:8080/"
        },
        "outputId": "d50a85bc-1729-4c63-9cd1-75b85f9f672d"
      },
      "source": [
        "!pip3 install optuna\n",
        "import optuna\n",
        "from sklearn.metrics import accuracy_score"
      ],
      "execution_count": null,
      "outputs": [
        {
          "output_type": "stream",
          "name": "stdout",
          "text": [
            "Collecting optuna\n",
            "  Downloading optuna-2.10.0-py3-none-any.whl (308 kB)\n",
            "\u001b[K     |████████████████████████████████| 308 kB 9.2 MB/s \n",
            "\u001b[?25hCollecting cmaes>=0.8.2\n",
            "  Downloading cmaes-0.8.2-py3-none-any.whl (15 kB)\n",
            "Requirement already satisfied: tqdm in /usr/local/lib/python3.7/dist-packages (from optuna) (4.62.3)\n",
            "Requirement already satisfied: sqlalchemy>=1.1.0 in /usr/local/lib/python3.7/dist-packages (from optuna) (1.4.25)\n",
            "Collecting alembic\n",
            "  Downloading alembic-1.7.4-py3-none-any.whl (209 kB)\n",
            "\u001b[K     |████████████████████████████████| 209 kB 56.7 MB/s \n",
            "\u001b[?25hCollecting cliff\n",
            "  Downloading cliff-3.9.0-py3-none-any.whl (80 kB)\n",
            "\u001b[K     |████████████████████████████████| 80 kB 9.6 MB/s \n",
            "\u001b[?25hRequirement already satisfied: packaging>=20.0 in /usr/local/lib/python3.7/dist-packages (from optuna) (21.0)\n",
            "Requirement already satisfied: scipy!=1.4.0 in /usr/local/lib/python3.7/dist-packages (from optuna) (1.4.1)\n",
            "Requirement already satisfied: PyYAML in /usr/local/lib/python3.7/dist-packages (from optuna) (3.13)\n",
            "Requirement already satisfied: numpy in /usr/local/lib/python3.7/dist-packages (from optuna) (1.19.5)\n",
            "Collecting colorlog\n",
            "  Downloading colorlog-6.5.0-py2.py3-none-any.whl (11 kB)\n",
            "Requirement already satisfied: pyparsing>=2.0.2 in /usr/local/lib/python3.7/dist-packages (from packaging>=20.0->optuna) (2.4.7)\n",
            "Requirement already satisfied: importlib-metadata in /usr/local/lib/python3.7/dist-packages (from sqlalchemy>=1.1.0->optuna) (4.8.1)\n",
            "Requirement already satisfied: greenlet!=0.4.17 in /usr/local/lib/python3.7/dist-packages (from sqlalchemy>=1.1.0->optuna) (1.1.2)\n",
            "Collecting Mako\n",
            "  Downloading Mako-1.1.5-py2.py3-none-any.whl (75 kB)\n",
            "\u001b[K     |████████████████████████████████| 75 kB 4.5 MB/s \n",
            "\u001b[?25hRequirement already satisfied: importlib-resources in /usr/local/lib/python3.7/dist-packages (from alembic->optuna) (5.2.2)\n",
            "Collecting cmd2>=1.0.0\n",
            "  Downloading cmd2-2.2.0-py3-none-any.whl (144 kB)\n",
            "\u001b[K     |████████████████████████████████| 144 kB 76.9 MB/s \n",
            "\u001b[?25hCollecting autopage>=0.4.0\n",
            "  Downloading autopage-0.4.0-py3-none-any.whl (20 kB)\n",
            "Requirement already satisfied: PrettyTable>=0.7.2 in /usr/local/lib/python3.7/dist-packages (from cliff->optuna) (2.2.1)\n",
            "Collecting stevedore>=2.0.1\n",
            "  Downloading stevedore-3.5.0-py3-none-any.whl (49 kB)\n",
            "\u001b[K     |████████████████████████████████| 49 kB 5.6 MB/s \n",
            "\u001b[?25hCollecting pbr!=2.1.0,>=2.0.0\n",
            "  Downloading pbr-5.6.0-py2.py3-none-any.whl (111 kB)\n",
            "\u001b[K     |████████████████████████████████| 111 kB 46.0 MB/s \n",
            "\u001b[?25hCollecting pyperclip>=1.6\n",
            "  Downloading pyperclip-1.8.2.tar.gz (20 kB)\n",
            "Collecting colorama>=0.3.7\n",
            "  Downloading colorama-0.4.4-py2.py3-none-any.whl (16 kB)\n",
            "Requirement already satisfied: typing-extensions in /usr/local/lib/python3.7/dist-packages (from cmd2>=1.0.0->cliff->optuna) (3.7.4.3)\n",
            "Requirement already satisfied: wcwidth>=0.1.7 in /usr/local/lib/python3.7/dist-packages (from cmd2>=1.0.0->cliff->optuna) (0.2.5)\n",
            "Requirement already satisfied: attrs>=16.3.0 in /usr/local/lib/python3.7/dist-packages (from cmd2>=1.0.0->cliff->optuna) (21.2.0)\n",
            "Requirement already satisfied: zipp>=0.5 in /usr/local/lib/python3.7/dist-packages (from importlib-metadata->sqlalchemy>=1.1.0->optuna) (3.6.0)\n",
            "Requirement already satisfied: MarkupSafe>=0.9.2 in /usr/local/lib/python3.7/dist-packages (from Mako->alembic->optuna) (2.0.1)\n",
            "Building wheels for collected packages: pyperclip\n",
            "  Building wheel for pyperclip (setup.py) ... \u001b[?25l\u001b[?25hdone\n",
            "  Created wheel for pyperclip: filename=pyperclip-1.8.2-py3-none-any.whl size=11136 sha256=a92cae718d78373bd0b7cbf9f083345259d81287a29357d094c10e0b70cf9340\n",
            "  Stored in directory: /root/.cache/pip/wheels/9f/18/84/8f69f8b08169c7bae2dde6bd7daf0c19fca8c8e500ee620a28\n",
            "Successfully built pyperclip\n",
            "Installing collected packages: pyperclip, pbr, colorama, stevedore, Mako, cmd2, autopage, colorlog, cmaes, cliff, alembic, optuna\n",
            "Successfully installed Mako-1.1.5 alembic-1.7.4 autopage-0.4.0 cliff-3.9.0 cmaes-0.8.2 cmd2-2.2.0 colorama-0.4.4 colorlog-6.5.0 optuna-2.10.0 pbr-5.6.0 pyperclip-1.8.2 stevedore-3.5.0\n"
          ]
        }
      ]
    },
    {
      "cell_type": "code",
      "metadata": {
        "id": "DD3_YkZ-0UQ7"
      },
      "source": [
        "def lvq_model_factory(learning_rate: float, max_iter: int):\n",
        "  return LVQClassifier('euclidian', learning_rate, max_iter)\n",
        "\n",
        "def lvq_optimizer(trial: optuna.trial._frozen.FrozenTrial):\n",
        "  learning_rate = trial.suggest_categorical('learning_rate', [0.1, 0.01, 0.001])\n",
        "  max_iter = trial.suggest_int('max_iter', 200, 1000, 200)\n",
        "  classifier = lvq_model_factory(learning_rate, max_iter)\n",
        "  classifier.fit(X_train.values, Y_train)\n",
        "\n",
        "  T_InitLvq = time.process_time() \n",
        "\n",
        "  y_pred = classifier.predict(X_test.values)\n",
        "\n",
        "  T_FinishLvq = time.process_time()\n",
        "  T_PredictLvQ = T_FinishLvq - T_InitLvq\n",
        "\n",
        "  print(classification_report(Y_test, y_pred, target_names=names))\n",
        "  print(\"Time:\", T_PredictLvQ)\n",
        "  \n",
        "  return accuracy_score(Y_test, y_pred)"
      ],
      "execution_count": null,
      "outputs": []
    },
    {
      "cell_type": "markdown",
      "metadata": {
        "id": "LOmTRRDu_yjH"
      },
      "source": [
        "Big O do LVQ é O(m), onde m é o número de predições."
      ]
    },
    {
      "cell_type": "code",
      "metadata": {
        "colab": {
          "base_uri": "https://localhost:8080/"
        },
        "id": "1HmPRNYD6Fap",
        "outputId": "7d0c4b73-c10c-4c70-ddfd-8b124cebf8cf"
      },
      "source": [
        "study = optuna.study.create_study(direction='maximize')\n",
        "study.optimize(lvq_optimizer, n_trials = 20)"
      ],
      "execution_count": null,
      "outputs": [
        {
          "output_type": "stream",
          "name": "stderr",
          "text": [
            "\u001b[32m[I 2021-10-19 23:41:18,059]\u001b[0m A new study created in memory with name: no-name-e1d299a2-2096-4d6a-bbbc-9256ef093b0a\u001b[0m\n",
            "\u001b[32m[I 2021-10-19 23:41:21,121]\u001b[0m Trial 0 finished with value: 0.5579710144927537 and parameters: {'learning_rate': 0.1, 'max_iter': 600}. Best is trial 0 with value: 0.5579710144927537.\u001b[0m\n"
          ]
        },
        {
          "output_type": "stream",
          "name": "stdout",
          "text": [
            "              precision    recall  f1-score   support\n",
            "\n",
            "           +       0.48      0.67      0.56        58\n",
            "           -       0.67      0.47      0.55        80\n",
            "\n",
            "    accuracy                           0.56       138\n",
            "   macro avg       0.57      0.57      0.56       138\n",
            "weighted avg       0.59      0.56      0.56       138\n",
            "\n",
            "Time: 0.0030121669999800815\n"
          ]
        },
        {
          "output_type": "stream",
          "name": "stderr",
          "text": [
            "\u001b[32m[I 2021-10-19 23:41:24,122]\u001b[0m Trial 1 finished with value: 0.6231884057971014 and parameters: {'learning_rate': 0.001, 'max_iter': 800}. Best is trial 1 with value: 0.6231884057971014.\u001b[0m\n"
          ]
        },
        {
          "output_type": "stream",
          "name": "stdout",
          "text": [
            "              precision    recall  f1-score   support\n",
            "\n",
            "           +       0.55      0.57      0.56        58\n",
            "           -       0.68      0.66      0.67        80\n",
            "\n",
            "    accuracy                           0.62       138\n",
            "   macro avg       0.61      0.62      0.62       138\n",
            "weighted avg       0.63      0.62      0.62       138\n",
            "\n",
            "Time: 0.002767141999981959\n"
          ]
        },
        {
          "output_type": "stream",
          "name": "stderr",
          "text": [
            "\u001b[32m[I 2021-10-19 23:41:27,141]\u001b[0m Trial 2 finished with value: 0.5942028985507246 and parameters: {'learning_rate': 0.01, 'max_iter': 200}. Best is trial 1 with value: 0.6231884057971014.\u001b[0m\n"
          ]
        },
        {
          "output_type": "stream",
          "name": "stdout",
          "text": [
            "              precision    recall  f1-score   support\n",
            "\n",
            "           +       0.52      0.53      0.53        58\n",
            "           -       0.65      0.64      0.65        80\n",
            "\n",
            "    accuracy                           0.59       138\n",
            "   macro avg       0.59      0.59      0.59       138\n",
            "weighted avg       0.60      0.59      0.60       138\n",
            "\n",
            "Time: 0.002778458999983968\n"
          ]
        },
        {
          "output_type": "stream",
          "name": "stderr",
          "text": [
            "\u001b[32m[I 2021-10-19 23:41:30,169]\u001b[0m Trial 3 finished with value: 0.5942028985507246 and parameters: {'learning_rate': 0.01, 'max_iter': 1000}. Best is trial 1 with value: 0.6231884057971014.\u001b[0m\n"
          ]
        },
        {
          "output_type": "stream",
          "name": "stdout",
          "text": [
            "              precision    recall  f1-score   support\n",
            "\n",
            "           +       0.52      0.53      0.53        58\n",
            "           -       0.65      0.64      0.65        80\n",
            "\n",
            "    accuracy                           0.59       138\n",
            "   macro avg       0.59      0.59      0.59       138\n",
            "weighted avg       0.60      0.59      0.60       138\n",
            "\n",
            "Time: 0.0027588780000087354\n"
          ]
        },
        {
          "output_type": "stream",
          "name": "stderr",
          "text": [
            "\u001b[32m[I 2021-10-19 23:41:33,195]\u001b[0m Trial 4 finished with value: 0.6231884057971014 and parameters: {'learning_rate': 0.001, 'max_iter': 800}. Best is trial 1 with value: 0.6231884057971014.\u001b[0m\n"
          ]
        },
        {
          "output_type": "stream",
          "name": "stdout",
          "text": [
            "              precision    recall  f1-score   support\n",
            "\n",
            "           +       0.55      0.57      0.56        58\n",
            "           -       0.68      0.66      0.67        80\n",
            "\n",
            "    accuracy                           0.62       138\n",
            "   macro avg       0.61      0.62      0.62       138\n",
            "weighted avg       0.63      0.62      0.62       138\n",
            "\n",
            "Time: 0.0027903040000012425\n"
          ]
        },
        {
          "output_type": "stream",
          "name": "stderr",
          "text": [
            "\u001b[32m[I 2021-10-19 23:41:36,248]\u001b[0m Trial 5 finished with value: 0.5579710144927537 and parameters: {'learning_rate': 0.1, 'max_iter': 400}. Best is trial 1 with value: 0.6231884057971014.\u001b[0m\n"
          ]
        },
        {
          "output_type": "stream",
          "name": "stdout",
          "text": [
            "              precision    recall  f1-score   support\n",
            "\n",
            "           +       0.48      0.67      0.56        58\n",
            "           -       0.67      0.47      0.55        80\n",
            "\n",
            "    accuracy                           0.56       138\n",
            "   macro avg       0.57      0.57      0.56       138\n",
            "weighted avg       0.59      0.56      0.56       138\n",
            "\n",
            "Time: 0.002795531000003848\n"
          ]
        },
        {
          "output_type": "stream",
          "name": "stderr",
          "text": [
            "\u001b[32m[I 2021-10-19 23:41:39,281]\u001b[0m Trial 6 finished with value: 0.5579710144927537 and parameters: {'learning_rate': 0.1, 'max_iter': 600}. Best is trial 1 with value: 0.6231884057971014.\u001b[0m\n"
          ]
        },
        {
          "output_type": "stream",
          "name": "stdout",
          "text": [
            "              precision    recall  f1-score   support\n",
            "\n",
            "           +       0.48      0.67      0.56        58\n",
            "           -       0.67      0.47      0.55        80\n",
            "\n",
            "    accuracy                           0.56       138\n",
            "   macro avg       0.57      0.57      0.56       138\n",
            "weighted avg       0.59      0.56      0.56       138\n",
            "\n",
            "Time: 0.0028808550000007926\n"
          ]
        },
        {
          "output_type": "stream",
          "name": "stderr",
          "text": [
            "\u001b[32m[I 2021-10-19 23:41:42,333]\u001b[0m Trial 7 finished with value: 0.5579710144927537 and parameters: {'learning_rate': 0.1, 'max_iter': 1000}. Best is trial 1 with value: 0.6231884057971014.\u001b[0m\n"
          ]
        },
        {
          "output_type": "stream",
          "name": "stdout",
          "text": [
            "              precision    recall  f1-score   support\n",
            "\n",
            "           +       0.48      0.67      0.56        58\n",
            "           -       0.67      0.47      0.55        80\n",
            "\n",
            "    accuracy                           0.56       138\n",
            "   macro avg       0.57      0.57      0.56       138\n",
            "weighted avg       0.59      0.56      0.56       138\n",
            "\n",
            "Time: 0.002736405999996805\n"
          ]
        },
        {
          "output_type": "stream",
          "name": "stderr",
          "text": [
            "\u001b[32m[I 2021-10-19 23:41:45,359]\u001b[0m Trial 8 finished with value: 0.6231884057971014 and parameters: {'learning_rate': 0.001, 'max_iter': 600}. Best is trial 1 with value: 0.6231884057971014.\u001b[0m\n"
          ]
        },
        {
          "output_type": "stream",
          "name": "stdout",
          "text": [
            "              precision    recall  f1-score   support\n",
            "\n",
            "           +       0.55      0.57      0.56        58\n",
            "           -       0.68      0.66      0.67        80\n",
            "\n",
            "    accuracy                           0.62       138\n",
            "   macro avg       0.61      0.62      0.62       138\n",
            "weighted avg       0.63      0.62      0.62       138\n",
            "\n",
            "Time: 0.002787578999999596\n"
          ]
        },
        {
          "output_type": "stream",
          "name": "stderr",
          "text": [
            "\u001b[32m[I 2021-10-19 23:41:48,389]\u001b[0m Trial 9 finished with value: 0.5579710144927537 and parameters: {'learning_rate': 0.1, 'max_iter': 800}. Best is trial 1 with value: 0.6231884057971014.\u001b[0m\n"
          ]
        },
        {
          "output_type": "stream",
          "name": "stdout",
          "text": [
            "              precision    recall  f1-score   support\n",
            "\n",
            "           +       0.48      0.67      0.56        58\n",
            "           -       0.67      0.47      0.55        80\n",
            "\n",
            "    accuracy                           0.56       138\n",
            "   macro avg       0.57      0.57      0.56       138\n",
            "weighted avg       0.59      0.56      0.56       138\n",
            "\n",
            "Time: 0.0028315869999744336\n"
          ]
        },
        {
          "output_type": "stream",
          "name": "stderr",
          "text": [
            "\u001b[32m[I 2021-10-19 23:41:51,448]\u001b[0m Trial 10 finished with value: 0.6231884057971014 and parameters: {'learning_rate': 0.001, 'max_iter': 800}. Best is trial 1 with value: 0.6231884057971014.\u001b[0m\n"
          ]
        },
        {
          "output_type": "stream",
          "name": "stdout",
          "text": [
            "              precision    recall  f1-score   support\n",
            "\n",
            "           +       0.55      0.57      0.56        58\n",
            "           -       0.68      0.66      0.67        80\n",
            "\n",
            "    accuracy                           0.62       138\n",
            "   macro avg       0.61      0.62      0.62       138\n",
            "weighted avg       0.63      0.62      0.62       138\n",
            "\n",
            "Time: 0.0028076769999927365\n"
          ]
        },
        {
          "output_type": "stream",
          "name": "stderr",
          "text": [
            "\u001b[32m[I 2021-10-19 23:41:54,462]\u001b[0m Trial 11 finished with value: 0.6231884057971014 and parameters: {'learning_rate': 0.001, 'max_iter': 800}. Best is trial 1 with value: 0.6231884057971014.\u001b[0m\n"
          ]
        },
        {
          "output_type": "stream",
          "name": "stdout",
          "text": [
            "              precision    recall  f1-score   support\n",
            "\n",
            "           +       0.55      0.57      0.56        58\n",
            "           -       0.68      0.66      0.67        80\n",
            "\n",
            "    accuracy                           0.62       138\n",
            "   macro avg       0.61      0.62      0.62       138\n",
            "weighted avg       0.63      0.62      0.62       138\n",
            "\n",
            "Time: 0.002755309999997735\n"
          ]
        },
        {
          "output_type": "stream",
          "name": "stderr",
          "text": [
            "\u001b[32m[I 2021-10-19 23:41:57,501]\u001b[0m Trial 12 finished with value: 0.6231884057971014 and parameters: {'learning_rate': 0.001, 'max_iter': 800}. Best is trial 1 with value: 0.6231884057971014.\u001b[0m\n"
          ]
        },
        {
          "output_type": "stream",
          "name": "stdout",
          "text": [
            "              precision    recall  f1-score   support\n",
            "\n",
            "           +       0.55      0.57      0.56        58\n",
            "           -       0.68      0.66      0.67        80\n",
            "\n",
            "    accuracy                           0.62       138\n",
            "   macro avg       0.61      0.62      0.62       138\n",
            "weighted avg       0.63      0.62      0.62       138\n",
            "\n",
            "Time: 0.0027122170000097867\n"
          ]
        },
        {
          "output_type": "stream",
          "name": "stderr",
          "text": [
            "\u001b[32m[I 2021-10-19 23:42:00,540]\u001b[0m Trial 13 finished with value: 0.6231884057971014 and parameters: {'learning_rate': 0.001, 'max_iter': 1000}. Best is trial 1 with value: 0.6231884057971014.\u001b[0m\n"
          ]
        },
        {
          "output_type": "stream",
          "name": "stdout",
          "text": [
            "              precision    recall  f1-score   support\n",
            "\n",
            "           +       0.55      0.57      0.56        58\n",
            "           -       0.68      0.66      0.67        80\n",
            "\n",
            "    accuracy                           0.62       138\n",
            "   macro avg       0.61      0.62      0.62       138\n",
            "weighted avg       0.63      0.62      0.62       138\n",
            "\n",
            "Time: 0.0027227230000050895\n"
          ]
        },
        {
          "output_type": "stream",
          "name": "stderr",
          "text": [
            "\u001b[32m[I 2021-10-19 23:42:03,567]\u001b[0m Trial 14 finished with value: 0.6231884057971014 and parameters: {'learning_rate': 0.001, 'max_iter': 400}. Best is trial 1 with value: 0.6231884057971014.\u001b[0m\n"
          ]
        },
        {
          "output_type": "stream",
          "name": "stdout",
          "text": [
            "              precision    recall  f1-score   support\n",
            "\n",
            "           +       0.55      0.57      0.56        58\n",
            "           -       0.68      0.66      0.67        80\n",
            "\n",
            "    accuracy                           0.62       138\n",
            "   macro avg       0.61      0.62      0.62       138\n",
            "weighted avg       0.63      0.62      0.62       138\n",
            "\n",
            "Time: 0.0027336219999938294\n"
          ]
        },
        {
          "output_type": "stream",
          "name": "stderr",
          "text": [
            "\u001b[32m[I 2021-10-19 23:42:06,601]\u001b[0m Trial 15 finished with value: 0.6231884057971014 and parameters: {'learning_rate': 0.001, 'max_iter': 800}. Best is trial 1 with value: 0.6231884057971014.\u001b[0m\n"
          ]
        },
        {
          "output_type": "stream",
          "name": "stdout",
          "text": [
            "              precision    recall  f1-score   support\n",
            "\n",
            "           +       0.55      0.57      0.56        58\n",
            "           -       0.68      0.66      0.67        80\n",
            "\n",
            "    accuracy                           0.62       138\n",
            "   macro avg       0.61      0.62      0.62       138\n",
            "weighted avg       0.63      0.62      0.62       138\n",
            "\n",
            "Time: 0.0027150850000055016\n"
          ]
        },
        {
          "output_type": "stream",
          "name": "stderr",
          "text": [
            "\u001b[32m[I 2021-10-19 23:42:09,609]\u001b[0m Trial 16 finished with value: 0.6231884057971014 and parameters: {'learning_rate': 0.001, 'max_iter': 400}. Best is trial 1 with value: 0.6231884057971014.\u001b[0m\n"
          ]
        },
        {
          "output_type": "stream",
          "name": "stdout",
          "text": [
            "              precision    recall  f1-score   support\n",
            "\n",
            "           +       0.55      0.57      0.56        58\n",
            "           -       0.68      0.66      0.67        80\n",
            "\n",
            "    accuracy                           0.62       138\n",
            "   macro avg       0.61      0.62      0.62       138\n",
            "weighted avg       0.63      0.62      0.62       138\n",
            "\n",
            "Time: 0.0027151620000154253\n"
          ]
        },
        {
          "output_type": "stream",
          "name": "stderr",
          "text": [
            "\u001b[32m[I 2021-10-19 23:42:12,632]\u001b[0m Trial 17 finished with value: 0.5942028985507246 and parameters: {'learning_rate': 0.01, 'max_iter': 400}. Best is trial 1 with value: 0.6231884057971014.\u001b[0m\n"
          ]
        },
        {
          "output_type": "stream",
          "name": "stdout",
          "text": [
            "              precision    recall  f1-score   support\n",
            "\n",
            "           +       0.52      0.53      0.53        58\n",
            "           -       0.65      0.64      0.65        80\n",
            "\n",
            "    accuracy                           0.59       138\n",
            "   macro avg       0.59      0.59      0.59       138\n",
            "weighted avg       0.60      0.59      0.60       138\n",
            "\n",
            "Time: 0.002785066999990704\n"
          ]
        },
        {
          "output_type": "stream",
          "name": "stderr",
          "text": [
            "\u001b[32m[I 2021-10-19 23:42:15,652]\u001b[0m Trial 18 finished with value: 0.6231884057971014 and parameters: {'learning_rate': 0.001, 'max_iter': 600}. Best is trial 1 with value: 0.6231884057971014.\u001b[0m\n"
          ]
        },
        {
          "output_type": "stream",
          "name": "stdout",
          "text": [
            "              precision    recall  f1-score   support\n",
            "\n",
            "           +       0.55      0.57      0.56        58\n",
            "           -       0.68      0.66      0.67        80\n",
            "\n",
            "    accuracy                           0.62       138\n",
            "   macro avg       0.61      0.62      0.62       138\n",
            "weighted avg       0.63      0.62      0.62       138\n",
            "\n",
            "Time: 0.002767258000005768\n"
          ]
        },
        {
          "output_type": "stream",
          "name": "stderr",
          "text": [
            "\u001b[32m[I 2021-10-19 23:42:18,658]\u001b[0m Trial 19 finished with value: 0.6231884057971014 and parameters: {'learning_rate': 0.001, 'max_iter': 600}. Best is trial 1 with value: 0.6231884057971014.\u001b[0m\n"
          ]
        },
        {
          "output_type": "stream",
          "name": "stdout",
          "text": [
            "              precision    recall  f1-score   support\n",
            "\n",
            "           +       0.55      0.57      0.56        58\n",
            "           -       0.68      0.66      0.67        80\n",
            "\n",
            "    accuracy                           0.62       138\n",
            "   macro avg       0.61      0.62      0.62       138\n",
            "weighted avg       0.63      0.62      0.62       138\n",
            "\n",
            "Time: 0.0027527420000126313\n"
          ]
        }
      ]
    },
    {
      "cell_type": "markdown",
      "metadata": {
        "id": "lQ4IHQ6zbErJ"
      },
      "source": [
        "#Considerações Finais\n",
        "\n",
        "Para o algoritmo Knn foram testados os valores de K =1,3,5,7 e 9. \n",
        "Com k =5, o Knn obteve uma acurácia de 0.78 com um tempo de predição de 0.590 ms, sendo estes os valores ótimos para o conjunto de teste.\n",
        "\n",
        "Para o algoritmo LVQ foram testados os valores de learning_rate = 0.1, 0.01, 0.001 e max_iter = 200, 400, 600, 800 e 1000.\n",
        "Com learning_rate = 0.001 e max_iter = 200, obteve uma acurácia de 0.62 com tempo de predição de 0.0028 ms, sendo estes os valores ótimos para o conjunto de teste.\n",
        "\n",
        "O Algoritmo K-NN apresentou uma melhor acurácia em relação ao LVQ. Com o treinamento do LVQ foi observado que o tempo de predição do LVQ foi 210 vezes mais veloz do que o K-NN, dimunindo assim o custo computacional. O LVQ armazena apenas os protótipos, enquanto o K-NN armazena todo o conjunto de dados, neste caso o LVQ tem uma redução de memória em relação ao K-NN."
      ]
    },
    {
      "cell_type": "markdown",
      "metadata": {
        "id": "_VuYpsVNjQ5t"
      },
      "source": [
        "#Referências\n",
        "\n",
        "\n",
        "\n",
        "https://towardsdatascience.com/ml-algorithms-one-sd-σ-instance-based-algorithms-4349224ed4f3\n",
        "\n",
        "https://towardsdatascience.com/learning-vector-quantization-ed825f8c807d\n",
        "\n",
        "\n",
        "https://en.wikipedia.org/wiki/Learning_vector_quantization"
      ]
    }
  ]
}