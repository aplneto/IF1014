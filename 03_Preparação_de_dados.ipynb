{
  "nbformat": 4,
  "nbformat_minor": 0,
  "metadata": {
    "colab": {
      "name": "03-Preparação de dados.ipynb",
      "provenance": [],
      "collapsed_sections": [],
      "authorship_tag": "ABX9TyOmVZKY73cAM0yQUj9onYQW",
      "include_colab_link": true
    },
    "kernelspec": {
      "name": "python3",
      "display_name": "Python 3"
    },
    "language_info": {
      "name": "python"
    }
  },
  "cells": [
    {
      "cell_type": "markdown",
      "metadata": {
        "id": "view-in-github",
        "colab_type": "text"
      },
      "source": [
        "<a href=\"https://colab.research.google.com/github/aplneto/IF1014/blob/main/03_Prepara%C3%A7%C3%A3o_de_dados.ipynb\" target=\"_parent\"><img src=\"https://colab.research.google.com/assets/colab-badge.svg\" alt=\"Open In Colab\"/></a>"
      ]
    },
    {
      "cell_type": "code",
      "metadata": {
        "id": "9CGnpF9BdWSB"
      },
      "source": [
        "'''\n",
        "Antônio Paulino - apln2@cin.ufpe.br\n",
        "\n",
        "Realizar as atividades de compreensão do problema, dos dados e a análise\n",
        "exploratória para o domínio Credit Approval Data Set\n",
        "(https://archive.ics.uci.edu/ml/datasets/Credit+Approval).\n",
        "Apresentar relatórios com o itens mencionados e discussões com gráficos da base\n",
        "de dados.\n",
        "'''\n",
        "\n",
        "DATA_FOLDER = (\n",
        "    'https://archive.ics.uci.edu/ml/machine-learning-databases/'\n",
        "    'credit-screening/'\n",
        ")\n",
        "\n",
        "DATA_DESCRIPTION = DATA_FOLDER + 'crx.names'\n",
        "DATA_SET = DATA_FOLDER + 'crx.data'"
      ],
      "execution_count": null,
      "outputs": []
    },
    {
      "cell_type": "code",
      "metadata": {
        "colab": {
          "base_uri": "https://localhost:8080/",
          "height": 204
        },
        "id": "Iz_TsY5Tdgbg",
        "outputId": "06a27b22-0e37-4388-9cba-715a218a026f"
      },
      "source": [
        "import pandas\n",
        "import numpy\n",
        "\n",
        "aliases = ['A%i' % i for i in range(1, 16)] + ['class']\n",
        "data = pandas.read_csv(DATA_SET, names=aliases, na_values='?', header=None)\n",
        "data.head()"
      ],
      "execution_count": null,
      "outputs": [
        {
          "output_type": "execute_result",
          "data": {
            "text/html": [
              "<div>\n",
              "<style scoped>\n",
              "    .dataframe tbody tr th:only-of-type {\n",
              "        vertical-align: middle;\n",
              "    }\n",
              "\n",
              "    .dataframe tbody tr th {\n",
              "        vertical-align: top;\n",
              "    }\n",
              "\n",
              "    .dataframe thead th {\n",
              "        text-align: right;\n",
              "    }\n",
              "</style>\n",
              "<table border=\"1\" class=\"dataframe\">\n",
              "  <thead>\n",
              "    <tr style=\"text-align: right;\">\n",
              "      <th></th>\n",
              "      <th>A1</th>\n",
              "      <th>A2</th>\n",
              "      <th>A3</th>\n",
              "      <th>A4</th>\n",
              "      <th>A5</th>\n",
              "      <th>A6</th>\n",
              "      <th>A7</th>\n",
              "      <th>A8</th>\n",
              "      <th>A9</th>\n",
              "      <th>A10</th>\n",
              "      <th>A11</th>\n",
              "      <th>A12</th>\n",
              "      <th>A13</th>\n",
              "      <th>A14</th>\n",
              "      <th>A15</th>\n",
              "      <th>class</th>\n",
              "    </tr>\n",
              "  </thead>\n",
              "  <tbody>\n",
              "    <tr>\n",
              "      <th>0</th>\n",
              "      <td>b</td>\n",
              "      <td>30.83</td>\n",
              "      <td>0.000</td>\n",
              "      <td>u</td>\n",
              "      <td>g</td>\n",
              "      <td>w</td>\n",
              "      <td>v</td>\n",
              "      <td>1.25</td>\n",
              "      <td>t</td>\n",
              "      <td>t</td>\n",
              "      <td>1</td>\n",
              "      <td>f</td>\n",
              "      <td>g</td>\n",
              "      <td>202.0</td>\n",
              "      <td>0</td>\n",
              "      <td>+</td>\n",
              "    </tr>\n",
              "    <tr>\n",
              "      <th>1</th>\n",
              "      <td>a</td>\n",
              "      <td>58.67</td>\n",
              "      <td>4.460</td>\n",
              "      <td>u</td>\n",
              "      <td>g</td>\n",
              "      <td>q</td>\n",
              "      <td>h</td>\n",
              "      <td>3.04</td>\n",
              "      <td>t</td>\n",
              "      <td>t</td>\n",
              "      <td>6</td>\n",
              "      <td>f</td>\n",
              "      <td>g</td>\n",
              "      <td>43.0</td>\n",
              "      <td>560</td>\n",
              "      <td>+</td>\n",
              "    </tr>\n",
              "    <tr>\n",
              "      <th>2</th>\n",
              "      <td>a</td>\n",
              "      <td>24.50</td>\n",
              "      <td>0.500</td>\n",
              "      <td>u</td>\n",
              "      <td>g</td>\n",
              "      <td>q</td>\n",
              "      <td>h</td>\n",
              "      <td>1.50</td>\n",
              "      <td>t</td>\n",
              "      <td>f</td>\n",
              "      <td>0</td>\n",
              "      <td>f</td>\n",
              "      <td>g</td>\n",
              "      <td>280.0</td>\n",
              "      <td>824</td>\n",
              "      <td>+</td>\n",
              "    </tr>\n",
              "    <tr>\n",
              "      <th>3</th>\n",
              "      <td>b</td>\n",
              "      <td>27.83</td>\n",
              "      <td>1.540</td>\n",
              "      <td>u</td>\n",
              "      <td>g</td>\n",
              "      <td>w</td>\n",
              "      <td>v</td>\n",
              "      <td>3.75</td>\n",
              "      <td>t</td>\n",
              "      <td>t</td>\n",
              "      <td>5</td>\n",
              "      <td>t</td>\n",
              "      <td>g</td>\n",
              "      <td>100.0</td>\n",
              "      <td>3</td>\n",
              "      <td>+</td>\n",
              "    </tr>\n",
              "    <tr>\n",
              "      <th>4</th>\n",
              "      <td>b</td>\n",
              "      <td>20.17</td>\n",
              "      <td>5.625</td>\n",
              "      <td>u</td>\n",
              "      <td>g</td>\n",
              "      <td>w</td>\n",
              "      <td>v</td>\n",
              "      <td>1.71</td>\n",
              "      <td>t</td>\n",
              "      <td>f</td>\n",
              "      <td>0</td>\n",
              "      <td>f</td>\n",
              "      <td>s</td>\n",
              "      <td>120.0</td>\n",
              "      <td>0</td>\n",
              "      <td>+</td>\n",
              "    </tr>\n",
              "  </tbody>\n",
              "</table>\n",
              "</div>"
            ],
            "text/plain": [
              "  A1     A2     A3 A4 A5 A6 A7    A8 A9 A10  A11 A12 A13    A14  A15 class\n",
              "0  b  30.83  0.000  u  g  w  v  1.25  t   t    1   f   g  202.0    0     +\n",
              "1  a  58.67  4.460  u  g  q  h  3.04  t   t    6   f   g   43.0  560     +\n",
              "2  a  24.50  0.500  u  g  q  h  1.50  t   f    0   f   g  280.0  824     +\n",
              "3  b  27.83  1.540  u  g  w  v  3.75  t   t    5   t   g  100.0    3     +\n",
              "4  b  20.17  5.625  u  g  w  v  1.71  t   f    0   f   s  120.0    0     +"
            ]
          },
          "metadata": {},
          "execution_count": 2
        }
      ]
    },
    {
      "cell_type": "code",
      "metadata": {
        "colab": {
          "base_uri": "https://localhost:8080/"
        },
        "id": "OBJtk0g_jDgn",
        "outputId": "c2ee4d1d-951d-4ed6-9958-fbd1245df2e2"
      },
      "source": [
        "continuous = data.describe().columns\n",
        "categorical = data.drop(list(continuous) + ['class'], axis=1).columns\n",
        "print(continuous)\n",
        "print(categorical)"
      ],
      "execution_count": null,
      "outputs": [
        {
          "output_type": "stream",
          "name": "stdout",
          "text": [
            "Index(['A2', 'A3', 'A8', 'A11', 'A14', 'A15'], dtype='object')\n",
            "Index(['A1', 'A4', 'A5', 'A6', 'A7', 'A9', 'A10', 'A12', 'A13'], dtype='object')\n"
          ]
        }
      ]
    },
    {
      "cell_type": "markdown",
      "metadata": {
        "id": "G9GhYwlTrA3q"
      },
      "source": [
        "# Limpeza dos dados"
      ]
    },
    {
      "cell_type": "markdown",
      "metadata": {
        "id": "bH2FCGXmrON8"
      },
      "source": [
        "## Modelo de regressão linear para completar dados continuos faltantes\n",
        "\n",
        "Variáveis continuas ausentes serão preenchidas por valores previstos a partir de um modelo de regressão linear construído a partir da coluna com valores ausentes e da coluna com todos os valores mais fortemente correlacionada a ela"
      ]
    },
    {
      "cell_type": "code",
      "metadata": {
        "colab": {
          "base_uri": "https://localhost:8080/"
        },
        "id": "_yKlqfJ7qB8E",
        "outputId": "3f0d974e-48a7-4e40-ecf8-877a41b8c884"
      },
      "source": [
        "continuous_columns_missing_values = []\n",
        "\n",
        "for column in continuous:\n",
        "  if data[column].isnull().sum() > 0:\n",
        "    continuous_columns_missing_values.append(column)\n",
        "\n",
        "print(continuous_columns_missing_values)"
      ],
      "execution_count": null,
      "outputs": [
        {
          "output_type": "stream",
          "name": "stdout",
          "text": [
            "['A2', 'A14']\n"
          ]
        }
      ]
    },
    {
      "cell_type": "code",
      "metadata": {
        "id": "r0JL_uP-WwVR"
      },
      "source": [
        "import matplotlib.pyplot as plt\n",
        "%matplotlib inline"
      ],
      "execution_count": null,
      "outputs": []
    },
    {
      "cell_type": "code",
      "metadata": {
        "colab": {
          "base_uri": "https://localhost:8080/",
          "height": 575
        },
        "id": "R9C-K0POuJPu",
        "outputId": "b768d88f-8a4c-430f-d5d3-e2394f627f01"
      },
      "source": [
        "most_correlated_columns = {}\n",
        "candidates = [\n",
        "  x for x in continuous if x not in continuous_columns_missing_values\n",
        "]\n",
        "for column in continuous_columns_missing_values:\n",
        "  most_correlated_columns[column] = max(\n",
        "      candidates, key=lambda x: abs(data[x].corr(data[column]))\n",
        "  )\n",
        "  fig, ax = plt.subplots()\n",
        "  ax.scatter(data[column], data[most_correlated_columns[column]], color='blue')\n",
        "  ax.legend()\n",
        "  ax.grid(True)\n",
        "  plt.xlabel(column)\n",
        "  plt.ylabel(most_correlated_columns[column])\n",
        "  plt.show()"
      ],
      "execution_count": null,
      "outputs": [
        {
          "output_type": "stream",
          "name": "stderr",
          "text": [
            "No handles with labels found to put in legend.\n"
          ]
        },
        {
          "output_type": "display_data",
          "data": {
            "image/png": "[encoded data removed]",
            "text/plain": [
              "<Figure size 432x288 with 1 Axes>"
            ]
          },
          "metadata": {
            "needs_background": "light"
          }
        },
        {
          "output_type": "stream",
          "name": "stderr",
          "text": [
            "No handles with labels found to put in legend.\n"
          ]
        },
        {
          "output_type": "display_data",
          "data": {
            "image/png": "[encoded data removed]",
            "text/plain": [
              "<Figure size 432x288 with 1 Axes>"
            ]
          },
          "metadata": {
            "needs_background": "light"
          }
        }
      ]
    },
    {
      "cell_type": "code",
      "metadata": {
        "id": "GW_6R1Is2g_J"
      },
      "source": [
        "from sklearn.linear_model import LinearRegression"
      ],
      "execution_count": null,
      "outputs": []
    },
    {
      "cell_type": "code",
      "metadata": {
        "colab": {
          "base_uri": "https://localhost:8080/"
        },
        "id": "9XBOZPrjzyt8",
        "outputId": "d178b3b5-bb3f-4de2-b301-21a83df297ae"
      },
      "source": [
        "prediction_models = {}\n",
        "\n",
        "for pair in most_correlated_columns.items():\n",
        "  rows = data[~data[list(pair)].isnull().any(axis=1)][list(pair)]\n",
        "  y = rows[pair[0]]\n",
        "  x = rows[pair[1]]\n",
        "  lr = LinearRegression()\n",
        "  lr.fit(x.values.reshape(-1, 1), y)\n",
        "  d = pandas.DataFrame(data= {\n",
        "      'value' : lr.predict(data[pair[1]].values.reshape(-1, 1))\n",
        "  })\n",
        "  data[pair[0]] = numpy.where(data[column].isna(), d['value'], data[column])\n",
        "\n",
        "data[continuous].isna().sum()"
      ],
      "execution_count": null,
      "outputs": [
        {
          "output_type": "execute_result",
          "data": {
            "text/plain": [
              "A2     0\n",
              "A3     0\n",
              "A8     0\n",
              "A11    0\n",
              "A14    0\n",
              "A15    0\n",
              "dtype: int64"
            ]
          },
          "metadata": {},
          "execution_count": 8
        }
      ]
    },
    {
      "cell_type": "markdown",
      "metadata": {
        "id": "pnGULe_0dydD"
      },
      "source": [
        "# Dados categóricos\n",
        "\n",
        "Algoritmos de machine learning esperam que os dados estejam em formato numérico, por esse motivo, as variáveis categóricas do dataset foram convertidas em números inteiros usando o LabelEncoder da biblioteca sklearn.\n",
        "\n",
        "Os valores ausentes foram completados usando um algoritmo de árvore de decisão"
      ]
    },
    {
      "cell_type": "code",
      "metadata": {
        "id": "bkUzbEYp_F_S",
        "colab": {
          "base_uri": "https://localhost:8080/"
        },
        "outputId": "f1b48b80-dbfc-4255-d8fa-34b6ac804e57"
      },
      "source": [
        "categorical_columns_missing_values = [\n",
        "  p[0] for p in dict(data[categorical].isna().sum() > 0).items() if p[1]\n",
        "]\n",
        "complete_data = data.dropna()\n",
        "print(categorical_columns_missing_values)"
      ],
      "execution_count": null,
      "outputs": [
        {
          "output_type": "stream",
          "name": "stdout",
          "text": [
            "['A1', 'A4', 'A5', 'A6', 'A7']\n"
          ]
        }
      ]
    },
    {
      "cell_type": "code",
      "metadata": {
        "id": "jtZU1dCFeM8J"
      },
      "source": [
        "from sklearn.preprocessing import LabelEncoder\n",
        "from collections import defaultdict\n",
        "\n",
        "label_dict = defaultdict(LabelEncoder)\n",
        "complete_data = complete_data.apply(\n",
        "    lambda x: label_dict[x.name].fit_transform(x)\n",
        "    if x.name in list(categorical) + ['class']\n",
        "    else x\n",
        ")"
      ],
      "execution_count": null,
      "outputs": []
    },
    {
      "cell_type": "code",
      "metadata": {
        "id": "jHORVpp3nBO3"
      },
      "source": [
        "from sklearn.tree import DecisionTreeClassifier"
      ],
      "execution_count": null,
      "outputs": []
    },
    {
      "cell_type": "code",
      "metadata": {
        "id": "RLfuGF1hno0q"
      },
      "source": [
        "trees = {}\n",
        "X = complete_data.drop(categorical_columns_missing_values, axis=1)\n",
        "for column in categorical_columns_missing_values:\n",
        "  Y = complete_data[column]\n",
        "  tree = DecisionTreeClassifier(\n",
        "      max_leaf_nodes=Y.nunique(), random_state=2**Y.nunique()\n",
        "  )\n",
        "  trees[column] = tree\n",
        "  tree.fit(X.values, Y.values)"
      ],
      "execution_count": null,
      "outputs": []
    },
    {
      "cell_type": "code",
      "metadata": {
        "id": "hBZ1FL4Xo7MH"
      },
      "source": [
        "for column in trees:\n",
        "  tree = trees[column]\n",
        "  encoder = label_dict[column]\n",
        "  d = pandas.DataFrame(data= {\n",
        "      'value' : encoder.inverse_transform(\n",
        "          tree.predict(\n",
        "          data.drop(categorical_columns_missing_values, axis=1).apply(\n",
        "                  lambda x: label_dict[x.name].fit_transform(x)\n",
        "                  if x.name in list(categorical) + ['class']\n",
        "                  else x\n",
        "          ).values\n",
        "        )\n",
        "      )\n",
        "    }\n",
        "  )\n",
        "\n",
        "  data[column] = numpy.where(data[column].isna(), d['value'], data[column])"
      ],
      "execution_count": null,
      "outputs": []
    },
    {
      "cell_type": "code",
      "metadata": {
        "colab": {
          "base_uri": "https://localhost:8080/"
        },
        "id": "NNZ8AWwLtXHn",
        "outputId": "41b36db6-d823-4438-ba29-23ec5385cd14"
      },
      "source": [
        "labels = data['class']\n",
        "data.drop('class', axis=1, inplace=True)\n",
        "X = data.apply(\n",
        "    lambda x: label_dict[x.name].fit_transform(x)\n",
        "    if x.name in categorical\n",
        "    else x\n",
        ")\n",
        "print(X)"
      ],
      "execution_count": null,
      "outputs": [
        {
          "output_type": "stream",
          "name": "stdout",
          "text": [
            "     A1     A2      A3  A4  A5  A6  A7  ...  A9  A10  A11  A12  A13    A14  A15\n",
            "0     1  202.0   0.000   1   0  12   7  ...   1    1    1    0    0  202.0    0\n",
            "1     0   43.0   4.460   1   0  10   3  ...   1    1    6    0    0   43.0  560\n",
            "2     0  280.0   0.500   1   0  10   3  ...   1    0    0    0    0  280.0  824\n",
            "3     1  100.0   1.540   1   0  12   7  ...   1    1    5    1    0  100.0    3\n",
            "4     1  120.0   5.625   1   0  12   7  ...   1    0    0    0    2  120.0    0\n",
            "..   ..    ...     ...  ..  ..  ..  ..  ...  ..  ...  ...  ...  ...    ...  ...\n",
            "685   1  260.0  10.085   2   2   4   3  ...   0    0    0    0    0  260.0    0\n",
            "686   0  200.0   0.750   1   0   1   7  ...   0    1    2    1    0  200.0  394\n",
            "687   0  200.0  13.500   2   2   5   2  ...   0    1    1    1    0  200.0    1\n",
            "688   1  280.0   0.205   1   0   0   7  ...   0    0    0    0    0  280.0  750\n",
            "689   1    0.0   3.375   1   0   1   3  ...   0    0    0    1    0    0.0    0\n",
            "\n",
            "[690 rows x 15 columns]\n"
          ]
        }
      ]
    },
    {
      "cell_type": "markdown",
      "metadata": {
        "id": "vzuvrvESupu-"
      },
      "source": [
        "# Codificação One Hot dos rótulos "
      ]
    },
    {
      "cell_type": "code",
      "metadata": {
        "colab": {
          "base_uri": "https://localhost:8080/"
        },
        "id": "yvxT_R-xuGMx",
        "outputId": "1819f099-caf4-4d1b-9a3d-6bd9e75c0753"
      },
      "source": [
        "Y = pandas.get_dummies(labels, prefix='', prefix_sep='')\n",
        "print(Y)"
      ],
      "execution_count": null,
      "outputs": [
        {
          "output_type": "stream",
          "name": "stdout",
          "text": [
            "     +  -\n",
            "0    1  0\n",
            "1    1  0\n",
            "2    1  0\n",
            "3    1  0\n",
            "4    1  0\n",
            "..  .. ..\n",
            "685  0  1\n",
            "686  0  1\n",
            "687  0  1\n",
            "688  0  1\n",
            "689  0  1\n",
            "\n",
            "[690 rows x 2 columns]\n"
          ]
        }
      ]
    },
    {
      "cell_type": "markdown",
      "metadata": {
        "id": "eOyEMSbgjYSv"
      },
      "source": [
        "# Transformação dos Dados\n",
        "\n",
        "* Uma vez que as variáveis continuas possuem valores entre 0 e um determinado limite, estes serão normalizados entre os valores 0.0 e 1.0 para análise de diminuição de dimensionalidade"
      ]
    },
    {
      "cell_type": "code",
      "metadata": {
        "id": "aTvmhyKvzcZF",
        "colab": {
          "base_uri": "https://localhost:8080/",
          "height": 297
        },
        "outputId": "374c4faf-c76c-4489-e58f-df8ef06d95c4"
      },
      "source": [
        "X[continuous].describe()"
      ],
      "execution_count": null,
      "outputs": [
        {
          "output_type": "execute_result",
          "data": {
            "text/html": [
              "<div>\n",
              "<style scoped>\n",
              "    .dataframe tbody tr th:only-of-type {\n",
              "        vertical-align: middle;\n",
              "    }\n",
              "\n",
              "    .dataframe tbody tr th {\n",
              "        vertical-align: top;\n",
              "    }\n",
              "\n",
              "    .dataframe thead th {\n",
              "        text-align: right;\n",
              "    }\n",
              "</style>\n",
              "<table border=\"1\" class=\"dataframe\">\n",
              "  <thead>\n",
              "    <tr style=\"text-align: right;\">\n",
              "      <th></th>\n",
              "      <th>A2</th>\n",
              "      <th>A3</th>\n",
              "      <th>A8</th>\n",
              "      <th>A11</th>\n",
              "      <th>A14</th>\n",
              "      <th>A15</th>\n",
              "    </tr>\n",
              "  </thead>\n",
              "  <tbody>\n",
              "    <tr>\n",
              "      <th>count</th>\n",
              "      <td>690.000000</td>\n",
              "      <td>690.000000</td>\n",
              "      <td>690.000000</td>\n",
              "      <td>690.00000</td>\n",
              "      <td>690.000000</td>\n",
              "      <td>690.000000</td>\n",
              "    </tr>\n",
              "    <tr>\n",
              "      <th>mean</th>\n",
              "      <td>181.120217</td>\n",
              "      <td>4.758725</td>\n",
              "      <td>2.223406</td>\n",
              "      <td>2.40000</td>\n",
              "      <td>184.094523</td>\n",
              "      <td>1017.385507</td>\n",
              "    </tr>\n",
              "    <tr>\n",
              "      <th>std</th>\n",
              "      <td>173.424884</td>\n",
              "      <td>4.978163</td>\n",
              "      <td>3.346513</td>\n",
              "      <td>4.86294</td>\n",
              "      <td>172.233363</td>\n",
              "      <td>5210.102598</td>\n",
              "    </tr>\n",
              "    <tr>\n",
              "      <th>min</th>\n",
              "      <td>0.000000</td>\n",
              "      <td>0.000000</td>\n",
              "      <td>0.000000</td>\n",
              "      <td>0.00000</td>\n",
              "      <td>0.000000</td>\n",
              "      <td>0.000000</td>\n",
              "    </tr>\n",
              "    <tr>\n",
              "      <th>25%</th>\n",
              "      <td>60.000000</td>\n",
              "      <td>1.000000</td>\n",
              "      <td>0.165000</td>\n",
              "      <td>0.00000</td>\n",
              "      <td>80.000000</td>\n",
              "      <td>0.000000</td>\n",
              "    </tr>\n",
              "    <tr>\n",
              "      <th>50%</th>\n",
              "      <td>160.000000</td>\n",
              "      <td>2.750000</td>\n",
              "      <td>1.000000</td>\n",
              "      <td>0.00000</td>\n",
              "      <td>160.000000</td>\n",
              "      <td>5.000000</td>\n",
              "    </tr>\n",
              "    <tr>\n",
              "      <th>75%</th>\n",
              "      <td>272.000000</td>\n",
              "      <td>7.207500</td>\n",
              "      <td>2.625000</td>\n",
              "      <td>3.00000</td>\n",
              "      <td>272.000000</td>\n",
              "      <td>395.500000</td>\n",
              "    </tr>\n",
              "    <tr>\n",
              "      <th>max</th>\n",
              "      <td>2000.000000</td>\n",
              "      <td>28.000000</td>\n",
              "      <td>28.500000</td>\n",
              "      <td>67.00000</td>\n",
              "      <td>2000.000000</td>\n",
              "      <td>100000.000000</td>\n",
              "    </tr>\n",
              "  </tbody>\n",
              "</table>\n",
              "</div>"
            ],
            "text/plain": [
              "                A2          A3  ...          A14            A15\n",
              "count   690.000000  690.000000  ...   690.000000     690.000000\n",
              "mean    181.120217    4.758725  ...   184.094523    1017.385507\n",
              "std     173.424884    4.978163  ...   172.233363    5210.102598\n",
              "min       0.000000    0.000000  ...     0.000000       0.000000\n",
              "25%      60.000000    1.000000  ...    80.000000       0.000000\n",
              "50%     160.000000    2.750000  ...   160.000000       5.000000\n",
              "75%     272.000000    7.207500  ...   272.000000     395.500000\n",
              "max    2000.000000   28.000000  ...  2000.000000  100000.000000\n",
              "\n",
              "[8 rows x 6 columns]"
            ]
          },
          "metadata": {},
          "execution_count": 16
        }
      ]
    },
    {
      "cell_type": "code",
      "metadata": {
        "id": "MFRyOvlpuP4X"
      },
      "source": [
        "from sklearn.preprocessing import MinMaxScaler"
      ],
      "execution_count": null,
      "outputs": []
    },
    {
      "cell_type": "code",
      "metadata": {
        "colab": {
          "base_uri": "https://localhost:8080/",
          "height": 297
        },
        "id": "iLJPUx6qugEz",
        "outputId": "0c48f30e-759b-429e-8f1f-33be63df337b"
      },
      "source": [
        "scalers = defaultdict(MinMaxScaler)\n",
        "\n",
        "for column in continuous:\n",
        "  scaler = scalers[column]\n",
        "  X[column] = scaler.fit_transform(X[column].values.reshape(-1, 1))\n",
        "\n",
        "X[continuous].describe()"
      ],
      "execution_count": null,
      "outputs": [
        {
          "output_type": "execute_result",
          "data": {
            "text/html": [
              "<div>\n",
              "<style scoped>\n",
              "    .dataframe tbody tr th:only-of-type {\n",
              "        vertical-align: middle;\n",
              "    }\n",
              "\n",
              "    .dataframe tbody tr th {\n",
              "        vertical-align: top;\n",
              "    }\n",
              "\n",
              "    .dataframe thead th {\n",
              "        text-align: right;\n",
              "    }\n",
              "</style>\n",
              "<table border=\"1\" class=\"dataframe\">\n",
              "  <thead>\n",
              "    <tr style=\"text-align: right;\">\n",
              "      <th></th>\n",
              "      <th>A2</th>\n",
              "      <th>A3</th>\n",
              "      <th>A8</th>\n",
              "      <th>A11</th>\n",
              "      <th>A14</th>\n",
              "      <th>A15</th>\n",
              "    </tr>\n",
              "  </thead>\n",
              "  <tbody>\n",
              "    <tr>\n",
              "      <th>count</th>\n",
              "      <td>690.000000</td>\n",
              "      <td>690.000000</td>\n",
              "      <td>690.000000</td>\n",
              "      <td>690.000000</td>\n",
              "      <td>690.000000</td>\n",
              "      <td>690.000000</td>\n",
              "    </tr>\n",
              "    <tr>\n",
              "      <th>mean</th>\n",
              "      <td>0.090560</td>\n",
              "      <td>0.169954</td>\n",
              "      <td>0.078014</td>\n",
              "      <td>0.035821</td>\n",
              "      <td>0.092047</td>\n",
              "      <td>0.010174</td>\n",
              "    </tr>\n",
              "    <tr>\n",
              "      <th>std</th>\n",
              "      <td>0.086712</td>\n",
              "      <td>0.177792</td>\n",
              "      <td>0.117422</td>\n",
              "      <td>0.072581</td>\n",
              "      <td>0.086117</td>\n",
              "      <td>0.052101</td>\n",
              "    </tr>\n",
              "    <tr>\n",
              "      <th>min</th>\n",
              "      <td>0.000000</td>\n",
              "      <td>0.000000</td>\n",
              "      <td>0.000000</td>\n",
              "      <td>0.000000</td>\n",
              "      <td>0.000000</td>\n",
              "      <td>0.000000</td>\n",
              "    </tr>\n",
              "    <tr>\n",
              "      <th>25%</th>\n",
              "      <td>0.030000</td>\n",
              "      <td>0.035714</td>\n",
              "      <td>0.005789</td>\n",
              "      <td>0.000000</td>\n",
              "      <td>0.040000</td>\n",
              "      <td>0.000000</td>\n",
              "    </tr>\n",
              "    <tr>\n",
              "      <th>50%</th>\n",
              "      <td>0.080000</td>\n",
              "      <td>0.098214</td>\n",
              "      <td>0.035088</td>\n",
              "      <td>0.000000</td>\n",
              "      <td>0.080000</td>\n",
              "      <td>0.000050</td>\n",
              "    </tr>\n",
              "    <tr>\n",
              "      <th>75%</th>\n",
              "      <td>0.136000</td>\n",
              "      <td>0.257411</td>\n",
              "      <td>0.092105</td>\n",
              "      <td>0.044776</td>\n",
              "      <td>0.136000</td>\n",
              "      <td>0.003955</td>\n",
              "    </tr>\n",
              "    <tr>\n",
              "      <th>max</th>\n",
              "      <td>1.000000</td>\n",
              "      <td>1.000000</td>\n",
              "      <td>1.000000</td>\n",
              "      <td>1.000000</td>\n",
              "      <td>1.000000</td>\n",
              "      <td>1.000000</td>\n",
              "    </tr>\n",
              "  </tbody>\n",
              "</table>\n",
              "</div>"
            ],
            "text/plain": [
              "               A2          A3          A8         A11         A14         A15\n",
              "count  690.000000  690.000000  690.000000  690.000000  690.000000  690.000000\n",
              "mean     0.090560    0.169954    0.078014    0.035821    0.092047    0.010174\n",
              "std      0.086712    0.177792    0.117422    0.072581    0.086117    0.052101\n",
              "min      0.000000    0.000000    0.000000    0.000000    0.000000    0.000000\n",
              "25%      0.030000    0.035714    0.005789    0.000000    0.040000    0.000000\n",
              "50%      0.080000    0.098214    0.035088    0.000000    0.080000    0.000050\n",
              "75%      0.136000    0.257411    0.092105    0.044776    0.136000    0.003955\n",
              "max      1.000000    1.000000    1.000000    1.000000    1.000000    1.000000"
            ]
          },
          "metadata": {},
          "execution_count": 18
        }
      ]
    },
    {
      "cell_type": "markdown",
      "metadata": {
        "id": "XKfx-vqR4vqN"
      },
      "source": [
        "# Redução de dimensionalidade\n",
        "\n",
        "<!--\n",
        "\n",
        "* https://www.analyticsvidhya.com/blog/2018/08/dimensionality-reduction-techniques-python/\n",
        "\n",
        " -->"
      ]
    },
    {
      "cell_type": "markdown",
      "metadata": {
        "id": "ij0GvkjSHjVO"
      },
      "source": [
        "## Principal component analysis\n",
        "\n",
        "<!--\n",
        "\n",
        "* https://www.datasklr.com/principal-component-analysis-and-factor-analysis/principal-component-analysis\n",
        "* https://www.youtube.com/watch?v=FgakZw6K1QQ\n",
        "* https://jmausolf.github.io/code/pca_in_python/\n",
        "\n",
        "-->"
      ]
    },
    {
      "cell_type": "code",
      "metadata": {
        "id": "ALYX9jgmx_OE"
      },
      "source": [
        "from sklearn.decomposition import PCA"
      ],
      "execution_count": null,
      "outputs": []
    },
    {
      "cell_type": "code",
      "metadata": {
        "colab": {
          "base_uri": "https://localhost:8080/"
        },
        "id": "CqVnMY7hE6cj",
        "outputId": "3574dfd7-346c-49d3-c7c6-99aca433fbd3"
      },
      "source": [
        "pca = PCA()\n",
        "pca.fit(X[continuous])"
      ],
      "execution_count": null,
      "outputs": [
        {
          "output_type": "execute_result",
          "data": {
            "text/plain": [
              "PCA(copy=True, iterated_power='auto', n_components=None, random_state=None,\n",
              "    svd_solver='auto', tol=0.0, whiten=False)"
            ]
          },
          "metadata": {},
          "execution_count": 20
        }
      ]
    },
    {
      "cell_type": "code",
      "metadata": {
        "colab": {
          "base_uri": "https://localhost:8080/",
          "height": 312
        },
        "id": "d6MehBH-E-D5",
        "outputId": "798c7699-e516-43d0-9240-b4522100b57e"
      },
      "source": [
        "PC_values = numpy.arange(pca.n_components_)+1\n",
        "plt.bar(PC_values, pca.explained_variance_ratio_)\n",
        "plt.title(\"Scree Plot\")\n",
        "plt.xlabel(\"PC\")\n",
        "plt.ylabel(\"Proporção\")\n",
        "plt.show()\n",
        "\n",
        "print(numpy.cumsum(pca.explained_variance_ratio_))"
      ],
      "execution_count": null,
      "outputs": [
        {
          "output_type": "display_data",
          "data": {
            "image/png": "[encoded data removed]",
            "text/plain": [
              "<Figure size 432x288 with 1 Axes>"
            ]
          },
          "metadata": {
            "needs_background": "light"
          }
        },
        {
          "output_type": "stream",
          "name": "stdout",
          "text": [
            "[0.51882662 0.72086079 0.89713674 0.96058855 0.99911707 1.        ]\n"
          ]
        }
      ]
    },
    {
      "cell_type": "markdown",
      "metadata": {
        "id": "y1qJGlCJ8b66"
      },
      "source": [
        "A partir da análise PCA é possível concluir que uma representação com os componentes principais PC1, PC2, PC3 e PC4 são repsonsáveis por 96% da variabilidade do dataset e podem ser usados para representar os dados com um elevado nível de fidelidade."
      ]
    },
    {
      "cell_type": "code",
      "metadata": {
        "colab": {
          "base_uri": "https://localhost:8080/",
          "height": 235
        },
        "id": "1ux3IUQqFCMl",
        "outputId": "9914cbbd-c4a8-4382-f757-9098e3c858f7"
      },
      "source": [
        "loadings = pandas.DataFrame(\n",
        "    pca.components_.T,\n",
        "    columns = ['PC%d' % (i) for i in numpy.arange(pca.n_components_)+1], index=X[continuous].columns\n",
        ")\n",
        "loadings"
      ],
      "execution_count": null,
      "outputs": [
        {
          "output_type": "execute_result",
          "data": {
            "text/html": [
              "<div>\n",
              "<style scoped>\n",
              "    .dataframe tbody tr th:only-of-type {\n",
              "        vertical-align: middle;\n",
              "    }\n",
              "\n",
              "    .dataframe tbody tr th {\n",
              "        vertical-align: top;\n",
              "    }\n",
              "\n",
              "    .dataframe thead th {\n",
              "        text-align: right;\n",
              "    }\n",
              "</style>\n",
              "<table border=\"1\" class=\"dataframe\">\n",
              "  <thead>\n",
              "    <tr style=\"text-align: right;\">\n",
              "      <th></th>\n",
              "      <th>PC1</th>\n",
              "      <th>PC2</th>\n",
              "      <th>PC3</th>\n",
              "      <th>PC4</th>\n",
              "      <th>PC5</th>\n",
              "      <th>PC6</th>\n",
              "    </tr>\n",
              "  </thead>\n",
              "  <tbody>\n",
              "    <tr>\n",
              "      <th>A2</th>\n",
              "      <td>-0.166156</td>\n",
              "      <td>0.669505</td>\n",
              "      <td>-0.161869</td>\n",
              "      <td>0.029509</td>\n",
              "      <td>-0.042523</td>\n",
              "      <td>-0.703757</td>\n",
              "    </tr>\n",
              "    <tr>\n",
              "      <th>A3</th>\n",
              "      <td>0.914783</td>\n",
              "      <td>0.139948</td>\n",
              "      <td>-0.370799</td>\n",
              "      <td>-0.065913</td>\n",
              "      <td>-0.041781</td>\n",
              "      <td>0.002205</td>\n",
              "    </tr>\n",
              "    <tr>\n",
              "      <th>A8</th>\n",
              "      <td>0.293551</td>\n",
              "      <td>0.297251</td>\n",
              "      <td>0.877573</td>\n",
              "      <td>-0.235164</td>\n",
              "      <td>0.005647</td>\n",
              "      <td>0.001427</td>\n",
              "    </tr>\n",
              "    <tr>\n",
              "      <th>A11</th>\n",
              "      <td>0.141225</td>\n",
              "      <td>0.040084</td>\n",
              "      <td>0.198702</td>\n",
              "      <td>0.966984</td>\n",
              "      <td>-0.062428</td>\n",
              "      <td>0.003405</td>\n",
              "    </tr>\n",
              "    <tr>\n",
              "      <th>A14</th>\n",
              "      <td>-0.168426</td>\n",
              "      <td>0.662511</td>\n",
              "      <td>-0.162094</td>\n",
              "      <td>0.025800</td>\n",
              "      <td>-0.033185</td>\n",
              "      <td>0.710401</td>\n",
              "    </tr>\n",
              "    <tr>\n",
              "      <th>A15</th>\n",
              "      <td>0.032866</td>\n",
              "      <td>0.057373</td>\n",
              "      <td>-0.020393</td>\n",
              "      <td>0.061316</td>\n",
              "      <td>0.995699</td>\n",
              "      <td>-0.006081</td>\n",
              "    </tr>\n",
              "  </tbody>\n",
              "</table>\n",
              "</div>"
            ],
            "text/plain": [
              "          PC1       PC2       PC3       PC4       PC5       PC6\n",
              "A2  -0.166156  0.669505 -0.161869  0.029509 -0.042523 -0.703757\n",
              "A3   0.914783  0.139948 -0.370799 -0.065913 -0.041781  0.002205\n",
              "A8   0.293551  0.297251  0.877573 -0.235164  0.005647  0.001427\n",
              "A11  0.141225  0.040084  0.198702  0.966984 -0.062428  0.003405\n",
              "A14 -0.168426  0.662511 -0.162094  0.025800 -0.033185  0.710401\n",
              "A15  0.032866  0.057373 -0.020393  0.061316  0.995699 -0.006081"
            ]
          },
          "metadata": {},
          "execution_count": 22
        }
      ]
    },
    {
      "cell_type": "code",
      "metadata": {
        "colab": {
          "base_uri": "https://localhost:8080/",
          "height": 419
        },
        "id": "WLDtFu5P89M1",
        "outputId": "80b544ee-ef06-473d-b705-b90fd21daf5f"
      },
      "source": [
        "pca_X = pandas.DataFrame(\n",
        "    data = pca.fit_transform(X[continuous]),\n",
        "    columns = ['PC%d' % (i) for i in numpy.arange(pca.n_components_)+1]\n",
        ")\n",
        "\n",
        "max_column = numpy.argmax(numpy.cumsum(pca.explained_variance_ratio_) > 0.9) + 1\n",
        "principal_components = pca_X.columns[:max_column:]\n",
        "\n",
        "pca_X = pandas.concat(\n",
        "    [pca_X[principal_components], X[categorical]],\n",
        "    axis = 1\n",
        ")\n",
        "\n",
        "pca_X"
      ],
      "execution_count": null,
      "outputs": [
        {
          "output_type": "execute_result",
          "data": {
            "text/html": [
              "<div>\n",
              "<style scoped>\n",
              "    .dataframe tbody tr th:only-of-type {\n",
              "        vertical-align: middle;\n",
              "    }\n",
              "\n",
              "    .dataframe tbody tr th {\n",
              "        vertical-align: top;\n",
              "    }\n",
              "\n",
              "    .dataframe thead th {\n",
              "        text-align: right;\n",
              "    }\n",
              "</style>\n",
              "<table border=\"1\" class=\"dataframe\">\n",
              "  <thead>\n",
              "    <tr style=\"text-align: right;\">\n",
              "      <th></th>\n",
              "      <th>PC1</th>\n",
              "      <th>PC2</th>\n",
              "      <th>PC3</th>\n",
              "      <th>PC4</th>\n",
              "      <th>A1</th>\n",
              "      <th>A4</th>\n",
              "      <th>A5</th>\n",
              "      <th>A6</th>\n",
              "      <th>A7</th>\n",
              "      <th>A9</th>\n",
              "      <th>A10</th>\n",
              "      <th>A12</th>\n",
              "      <th>A13</th>\n",
              "    </tr>\n",
              "  </thead>\n",
              "  <tbody>\n",
              "    <tr>\n",
              "      <th>0</th>\n",
              "      <td>-0.172025</td>\n",
              "      <td>-0.022438</td>\n",
              "      <td>0.025960</td>\n",
              "      <td>-0.001056</td>\n",
              "      <td>1</td>\n",
              "      <td>1</td>\n",
              "      <td>0</td>\n",
              "      <td>12</td>\n",
              "      <td>7</td>\n",
              "      <td>1</td>\n",
              "      <td>1</td>\n",
              "      <td>0</td>\n",
              "      <td>0</td>\n",
              "    </tr>\n",
              "    <tr>\n",
              "      <th>1</th>\n",
              "      <td>0.029446</td>\n",
              "      <td>-0.084059</td>\n",
              "      <td>0.062484</td>\n",
              "      <td>0.041784</td>\n",
              "      <td>0</td>\n",
              "      <td>1</td>\n",
              "      <td>0</td>\n",
              "      <td>10</td>\n",
              "      <td>3</td>\n",
              "      <td>1</td>\n",
              "      <td>1</td>\n",
              "      <td>0</td>\n",
              "      <td>0</td>\n",
              "    </tr>\n",
              "    <tr>\n",
              "      <th>2</th>\n",
              "      <td>-0.168001</td>\n",
              "      <td>0.034492</td>\n",
              "      <td>0.011268</td>\n",
              "      <td>-0.016066</td>\n",
              "      <td>0</td>\n",
              "      <td>1</td>\n",
              "      <td>0</td>\n",
              "      <td>10</td>\n",
              "      <td>3</td>\n",
              "      <td>1</td>\n",
              "      <td>0</td>\n",
              "      <td>0</td>\n",
              "      <td>0</td>\n",
              "    </tr>\n",
              "    <tr>\n",
              "      <th>3</th>\n",
              "      <td>-0.070466</td>\n",
              "      <td>-0.054204</td>\n",
              "      <td>0.110931</td>\n",
              "      <td>0.029602</td>\n",
              "      <td>1</td>\n",
              "      <td>1</td>\n",
              "      <td>0</td>\n",
              "      <td>12</td>\n",
              "      <td>7</td>\n",
              "      <td>1</td>\n",
              "      <td>1</td>\n",
              "      <td>1</td>\n",
              "      <td>0</td>\n",
              "    </tr>\n",
              "    <tr>\n",
              "      <th>4</th>\n",
              "      <td>0.028096</td>\n",
              "      <td>-0.044736</td>\n",
              "      <td>-0.024050</td>\n",
              "      <td>-0.034794</td>\n",
              "      <td>1</td>\n",
              "      <td>1</td>\n",
              "      <td>0</td>\n",
              "      <td>12</td>\n",
              "      <td>7</td>\n",
              "      <td>1</td>\n",
              "      <td>0</td>\n",
              "      <td>0</td>\n",
              "      <td>2</td>\n",
              "    </tr>\n",
              "    <tr>\n",
              "      <th>...</th>\n",
              "      <td>...</td>\n",
              "      <td>...</td>\n",
              "      <td>...</td>\n",
              "      <td>...</td>\n",
              "      <td>...</td>\n",
              "      <td>...</td>\n",
              "      <td>...</td>\n",
              "      <td>...</td>\n",
              "      <td>...</td>\n",
              "      <td>...</td>\n",
              "      <td>...</td>\n",
              "      <td>...</td>\n",
              "      <td>...</td>\n",
              "    </tr>\n",
              "    <tr>\n",
              "      <th>685</th>\n",
              "      <td>0.145649</td>\n",
              "      <td>0.065999</td>\n",
              "      <td>-0.119954</td>\n",
              "      <td>-0.037625</td>\n",
              "      <td>1</td>\n",
              "      <td>2</td>\n",
              "      <td>2</td>\n",
              "      <td>4</td>\n",
              "      <td>3</td>\n",
              "      <td>0</td>\n",
              "      <td>0</td>\n",
              "      <td>0</td>\n",
              "      <td>0</td>\n",
              "    </tr>\n",
              "    <tr>\n",
              "      <th>686</th>\n",
              "      <td>-0.137225</td>\n",
              "      <td>-0.011374</td>\n",
              "      <td>0.042331</td>\n",
              "      <td>0.005609</td>\n",
              "      <td>0</td>\n",
              "      <td>1</td>\n",
              "      <td>0</td>\n",
              "      <td>1</td>\n",
              "      <td>7</td>\n",
              "      <td>0</td>\n",
              "      <td>1</td>\n",
              "      <td>1</td>\n",
              "      <td>0</td>\n",
              "    </tr>\n",
              "    <tr>\n",
              "      <th>687</th>\n",
              "      <td>0.277091</td>\n",
              "      <td>0.051528</td>\n",
              "      <td>-0.129400</td>\n",
              "      <td>-0.039079</td>\n",
              "      <td>0</td>\n",
              "      <td>2</td>\n",
              "      <td>2</td>\n",
              "      <td>5</td>\n",
              "      <td>2</td>\n",
              "      <td>0</td>\n",
              "      <td>1</td>\n",
              "      <td>1</td>\n",
              "      <td>0</td>\n",
              "    </tr>\n",
              "    <tr>\n",
              "      <th>688</th>\n",
              "      <td>-0.192701</td>\n",
              "      <td>0.017747</td>\n",
              "      <td>-0.029766</td>\n",
              "      <td>-0.003370</td>\n",
              "      <td>1</td>\n",
              "      <td>1</td>\n",
              "      <td>0</td>\n",
              "      <td>0</td>\n",
              "      <td>7</td>\n",
              "      <td>0</td>\n",
              "      <td>0</td>\n",
              "      <td>0</td>\n",
              "      <td>0</td>\n",
              "    </tr>\n",
              "    <tr>\n",
              "      <th>689</th>\n",
              "      <td>0.042436</td>\n",
              "      <td>-0.067275</td>\n",
              "      <td>0.227796</td>\n",
              "      <td>-0.087110</td>\n",
              "      <td>1</td>\n",
              "      <td>1</td>\n",
              "      <td>0</td>\n",
              "      <td>1</td>\n",
              "      <td>3</td>\n",
              "      <td>0</td>\n",
              "      <td>0</td>\n",
              "      <td>1</td>\n",
              "      <td>0</td>\n",
              "    </tr>\n",
              "  </tbody>\n",
              "</table>\n",
              "<p>690 rows × 13 columns</p>\n",
              "</div>"
            ],
            "text/plain": [
              "          PC1       PC2       PC3       PC4  A1  A4  ...  A6  A7  A9  A10  A12  A13\n",
              "0   -0.172025 -0.022438  0.025960 -0.001056   1   1  ...  12   7   1    1    0    0\n",
              "1    0.029446 -0.084059  0.062484  0.041784   0   1  ...  10   3   1    1    0    0\n",
              "2   -0.168001  0.034492  0.011268 -0.016066   0   1  ...  10   3   1    0    0    0\n",
              "3   -0.070466 -0.054204  0.110931  0.029602   1   1  ...  12   7   1    1    1    0\n",
              "4    0.028096 -0.044736 -0.024050 -0.034794   1   1  ...  12   7   1    0    0    2\n",
              "..        ...       ...       ...       ...  ..  ..  ...  ..  ..  ..  ...  ...  ...\n",
              "685  0.145649  0.065999 -0.119954 -0.037625   1   2  ...   4   3   0    0    0    0\n",
              "686 -0.137225 -0.011374  0.042331  0.005609   0   1  ...   1   7   0    1    1    0\n",
              "687  0.277091  0.051528 -0.129400 -0.039079   0   2  ...   5   2   0    1    1    0\n",
              "688 -0.192701  0.017747 -0.029766 -0.003370   1   1  ...   0   7   0    0    0    0\n",
              "689  0.042436 -0.067275  0.227796 -0.087110   1   1  ...   1   3   0    0    1    0\n",
              "\n",
              "[690 rows x 13 columns]"
            ]
          },
          "metadata": {},
          "execution_count": 23
        }
      ]
    },
    {
      "cell_type": "markdown",
      "metadata": {
        "id": "FZzs0nzJBOdE"
      },
      "source": [
        "### Visualizacão dos dados usando combinações de dois componentes"
      ]
    },
    {
      "cell_type": "code",
      "metadata": {
        "colab": {
          "base_uri": "https://localhost:8080/",
          "height": 1000
        },
        "id": "-CGXOZJl-2pe",
        "outputId": "4622030c-4d79-4945-84db-860dd700922f"
      },
      "source": [
        "vis = pandas.concat([pca_X[principal_components], labels], axis=1)\n",
        "\n",
        "for n, column_x in enumerate(pca_X[principal_components].columns):\n",
        "  for column_y in pca_X[principal_components].columns[n+1:]:\n",
        "    fig, ax = plt.subplots()\n",
        "    appr = vis[[column_x, column_y]].where(vis['class'] == '+')\n",
        "    disa = vis[[column_x, column_y]].where(vis['class'] == '-')\n",
        "    ax.scatter(disa[column_x], disa[column_y], color='red', label='Disapproved')\n",
        "    ax.scatter(appr[column_x], appr[column_y], color='blue', label='Approved')\n",
        "\n",
        "    # set the x-spine (see below for more info on `set_position`)\n",
        "    ax.spines['left'].set_position('zero')\n",
        "    # turn off the right spine/ticks\n",
        "    ax.spines['right'].set_color('none')\n",
        "    ax.yaxis.tick_left()\n",
        "    # set the y-spine\n",
        "    ax.spines['bottom'].set_position('zero')\n",
        "    # turn off the top spine/ticks\n",
        "    ax.spines['top'].set_color('none')\n",
        "    ax.xaxis.tick_bottom()\n",
        "\n",
        "    ax.legend()\n",
        "    plt.xlabel(column_x)\n",
        "    plt.ylabel(column_y)\n",
        "    plt.show()"
      ],
      "execution_count": null,
      "outputs": [
        {
          "output_type": "display_data",
          "data": {
            "image/png": "[encoded data removed]",
            "text/plain": [
              "<Figure size 432x288 with 1 Axes>"
            ]
          },
          "metadata": {
            "needs_background": "light"
          }
        },
        {
          "output_type": "display_data",
          "data": {
            "image/png": "[encoded data removed]",
            "text/plain": [
              "<Figure size 432x288 with 1 Axes>"
            ]
          },
          "metadata": {
            "needs_background": "light"
          }
        },
        {
          "output_type": "display_data",
          "data": {
            "image/png": "[encoded data removed]",
            "text/plain": [
              "<Figure size 432x288 with 1 Axes>"
            ]
          },
          "metadata": {
            "needs_background": "light"
          }
        },
        {
          "output_type": "display_data",
          "data": {
            "image/png": "[encoded data removed]",
            "text/plain": [
              "<Figure size 432x288 with 1 Axes>"
            ]
          },
          "metadata": {
            "needs_background": "light"
          }
        },
        {
          "output_type": "display_data",
          "data": {
            "image/png": "[encoded data removed]",
            "text/plain": [
              "<Figure size 432x288 with 1 Axes>"
            ]
          },
          "metadata": {
            "needs_background": "light"
          }
        },
        {
          "output_type": "display_data",
          "data": {
            "image/png": "[encoded data removed]",
            "text/plain": [
              "<Figure size 432x288 with 1 Axes>"
            ]
          },
          "metadata": {
            "needs_background": "light"
          }
        }
      ]
    },
    {
      "cell_type": "markdown",
      "metadata": {
        "id": "q57G38DLDTlm"
      },
      "source": [
        "## Linear Discriminant Analysis\n",
        "\n",
        "<!--\n",
        "\n",
        "* https://www.youtube.com/watch?v=azXCzI57Yfc\n",
        "\n",
        "* https://aaronschlegel.me/discriminant-analysis-group-separation.html\n",
        "\n",
        "* https://aaronschlegel.me/linear-discriminant-analysis-classification-two-groups.html\n",
        "\n",
        "* https://aaronschlegel.me/discriminant-analysis-several-groups.html\n",
        "\n",
        " -->"
      ]
    },
    {
      "cell_type": "code",
      "metadata": {
        "id": "HkG6UVivGIWH"
      },
      "source": [
        "# targets = pandas.DataFrame(data = {'class' : LabelEncoder().fit_transform(labels)})\n",
        "\n",
        "\n",
        "# lda = LinearDiscriminantAnalysis('svd', n_components=2)\n",
        "# lda.fit(X[continuous], targets)\n",
        "# lda_X = lda.transform(X[continuous])"
      ],
      "execution_count": null,
      "outputs": []
    },
    {
      "cell_type": "markdown",
      "metadata": {
        "id": "wcreK8mFTCxT"
      },
      "source": [
        "# Divisão entre dados de treino e teste"
      ]
    },
    {
      "cell_type": "code",
      "metadata": {
        "id": "ETHQCdNHTeoP"
      },
      "source": [
        "from sklearn.model_selection import train_test_split"
      ],
      "execution_count": null,
      "outputs": []
    },
    {
      "cell_type": "code",
      "metadata": {
        "id": "aakIeVNxTErW"
      },
      "source": [
        "X_train, X_test, Y_train, Y_test = train_test_split(\n",
        "    pca_X, Y, test_size = 0.2, random_state = 4\n",
        ")"
      ],
      "execution_count": null,
      "outputs": []
    },
    {
      "cell_type": "code",
      "metadata": {
        "id": "6z5Bz26JUptq"
      },
      "source": [
        "print(X_train.shape)\n",
        "print(Y_train.shape)"
      ],
      "execution_count": null,
      "outputs": []
    }
  ]
}