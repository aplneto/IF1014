{
  "nbformat": 4,
  "nbformat_minor": 0,
  "metadata": {
    "colab": {
      "name": "DecisionTree.ipynb",
      "provenance": [],
      "authorship_tag": "ABX9TyPp1sYKw+CV8gVVpitYhE0s",
      "include_colab_link": true
    },
    "kernelspec": {
      "name": "python3",
      "display_name": "Python 3"
    },
    "language_info": {
      "name": "python"
    }
  },
  "cells": [
    {
      "cell_type": "markdown",
      "metadata": {
        "id": "view-in-github",
        "colab_type": "text"
      },
      "source": [
        "<a href=\"https://colab.research.google.com/github/aplneto/IF1014/blob/main/05-DecisionTree.ipynb\" target=\"_parent\"><img src=\"https://colab.research.google.com/assets/colab-badge.svg\" alt=\"Open In Colab\"/></a>"
      ]
    },
    {
      "cell_type": "markdown",
      "metadata": {
        "id": "HEygpVbTsSDu"
      },
      "source": [
        "# Decision Trees\n",
        "\n",
        "* [Google Developers' project](https://www.youtube.com/watch?v=LDRbO9a6XPU)\n",
        "* [Bias vs. Variance](https://towardsdatascience.com/balancing-bias-and-variance-to-control-errors-in-machine-learning-16ced95724db)\n",
        "* [A Guide to decision threes](https://towardsdatascience.com/a-guide-to-decision-trees-for-machine-learning-and-data-science-fe2607241956)\n"
      ]
    },
    {
      "cell_type": "code",
      "metadata": {
        "id": "l4iQbtJbsM72"
      },
      "source": [
        "import math\n",
        "import numpy\n",
        "import pandas"
      ],
      "execution_count": null,
      "outputs": []
    },
    {
      "cell_type": "markdown",
      "metadata": {
        "id": "YJtDf1xOta_7"
      },
      "source": [
        "## Funções auxiliares\n",
        "\n",
        "### Entropia\n",
        "\n",
        "* $E = -\\sum_{i}\\sum_{j}p_{ij}log_2p_{ij} $, considerando que o sistema está no estado i e ocorre uma transição para o estado j para sistemas binários\n",
        "* $E(S) = \\sum_{i}^{c}-p_ilog_2p_i$, para mais de duas classes\n",
        "\n",
        "### Gini Index\n",
        "\n",
        "* $Gini(P) = \\sum_{i=1}^{n}P_i(1-p_i)=1-\\sum_{i=1}^n(p_i)^2$\n",
        "\n",
        "### Ganho de informação\n",
        "\n",
        "$GI(S, A) = E(S) - \\sum_{v\\in \\textbf{Valores}(A)}{\\frac{S_v}{S}E(S_v)}$, onde o segundo termo mede a Entropia do particionamento do conjunto de treinamento de acordo com o atributo A"
      ]
    },
    {
      "cell_type": "code",
      "metadata": {
        "id": "vmTLz2msHq53"
      },
      "source": [
        "def entropy(Y:numpy.ndarray):\n",
        "  labels = numpy.unique(Y)\n",
        "  E = numpy.zeros((labels.size))\n",
        "  for i, label in enumerate(labels):\n",
        "    p = (Y == label).sum() / Y.size\n",
        "    E[i] = p * math.log2(p)\n",
        "  \n",
        "  return -1 * numpy.sum(E)\n",
        "\n",
        "def gini(Y: numpy.ndarray):\n",
        "  labels = numpy.unique(Y)\n",
        "  G = numpy.zeros((labels.size))\n",
        "  for i, label in enumerate(labels):\n",
        "    p = (Y == label).sum() / Y.size\n",
        "    G[i] = (p)**2\n",
        "  return 1 - numpy.sum(G)\n",
        "\n",
        "def feature_information_gain(X:numpy.ndarray, Y:numpy.ndarray, i:int):\n",
        "  '''\n",
        "  X: Dataset containing features\n",
        "  Y: Array containing labels\n",
        "  i: feature column index\n",
        "  '''\n",
        "  E = entropy(Y)\n",
        "  col = numpy.unique(numpy.sort(X.transpose()[i]))\n",
        "  ig = numpy.zeros((col.size,))\n",
        "  for n, v in enumerate(col):\n",
        "    G1 = Y[(X[:, i] > v)]\n",
        "    G2 = Y[~(X[:, i] > v)]\n",
        "    ig[n] = E - (entropy(G1)*(G1.size/Y.size) + entropy(G2)*(G2.size/Y.size))\n",
        "\n",
        "  j = numpy.argmax(ig)\n",
        "  gain = numpy.max(ig)\n",
        "  value = (\n",
        "      numpy.mean(col[j-1:j+1])\n",
        "      if j > 0\n",
        "      else\n",
        "      col[j]\n",
        "\n",
        "  )\n",
        "  return gain, value\n",
        "\n",
        "def geature_gini_gain(X, Y, f):\n",
        "  return 0.0"
      ],
      "execution_count": null,
      "outputs": []
    },
    {
      "cell_type": "code",
      "metadata": {
        "id": "k6dO9l-jTbDo"
      },
      "source": [
        "from sklearn.datasets import make_classification"
      ],
      "execution_count": null,
      "outputs": []
    },
    {
      "cell_type": "code",
      "metadata": {
        "id": "SUbu00TkedwW"
      },
      "source": [
        "class DiscreteDecisionNode(object):\n",
        "  def __init__(self, X, Y):\n",
        "    self.__feature = None\n",
        "    self.__value = None\n",
        "    self.__leafs = [None, None]\n",
        "    if numpy.unique(Y).size == 1:\n",
        "      self.__value = numpy.unique(Y)[0]\n",
        "    else:\n",
        "      self.__fit(X, Y)\n",
        "  \n",
        "  def __fit(self, X, Y):\n",
        "    f_gain = numpy.zeros((X.shape[1],))\n",
        "    best_feature_value = numpy.zeros((X.shape[1]))\n",
        "    for f in range(X.shape[1]):\n",
        "      f_gain[f], best_feature_value[f] = feature_information_gain(X, Y, f)\n",
        "    \n",
        "    f = numpy.argmax(f_gain)\n",
        "    v = best_feature_value[f]\n",
        "    self.__feature = f\n",
        "    self.__value = v\n",
        "    Y1 = Y[(X[:, f] > v)]\n",
        "    if Y1.size > 0:\n",
        "      self.__leafs[1] = DiscreteDecisionNode(X[(X[:, f] > v)], Y1)\n",
        "    Y2 = Y[~(X[:, f] > v)]\n",
        "    if Y2.size > 0:\n",
        "      self.__leafs[0] = DiscreteDecisionNode(X[~(X[:, f] > v)], Y2)\n",
        "\n",
        "  def predict(self, X):\n",
        "    if self.is_leaf:\n",
        "      return self.__value\n",
        "    else:\n",
        "      return (\n",
        "          self.__leafs[1].predict(X)\n",
        "          if  X[self.__feature] > self.__value\n",
        "          else self.__leafs[0].predict(X)\n",
        "      )\n",
        "\n",
        "  @property\n",
        "  def is_leaf(self):\n",
        "    return self.__leafs.count(None) == 2\n",
        "  \n",
        "  def __len__(self):\n",
        "    left = 0 if self.__leafs[0] is None else len(self.__leafs[0])\n",
        "    right = 0 if self.__leafs[1] is None else len(self.__leafs[1])\n",
        "    return 1 + left + right\n",
        "  \n",
        "  def __str__(self):\n",
        "    return (\n",
        "        f'class {self.__value}'\n",
        "        if self.is_leaf\n",
        "        else f'X[{self.__feature}] > {self.__value}'\n",
        "    )"
      ],
      "execution_count": null,
      "outputs": []
    },
    {
      "cell_type": "code",
      "metadata": {
        "id": "AHUMGwuALu4t"
      },
      "source": [
        "from matplotlib import pyplot"
      ],
      "execution_count": null,
      "outputs": []
    },
    {
      "cell_type": "code",
      "metadata": {
        "colab": {
          "base_uri": "https://localhost:8080/",
          "height": 265
        },
        "id": "BGcKxfPsOLO-",
        "outputId": "13d7e35b-c7cc-435a-f801-db7d46b3ac60"
      },
      "source": [
        "s = 15\n",
        "\n",
        "X1 = numpy.random.randint(0, 5, size=(s,2))\n",
        "Y1 = numpy.asarray([0] * s)\n",
        "X2 = numpy.random.randint(6, 10, size=(s,2))\n",
        "Y2 = numpy.asarray([1] * s)\n",
        "\n",
        "X = numpy.concatenate([X1, X2])\n",
        "Y = numpy.concatenate([Y1, Y2])\n",
        "\n",
        "fig, ax = pyplot.subplots()\n",
        "ax.scatter(*zip(*X1), c='red', label='0')\n",
        "ax.scatter(*zip(*X2), c='blue', label='1')\n",
        "pyplot.show()"
      ],
      "execution_count": null,
      "outputs": [
        {
          "output_type": "display_data",
          "data": {
            "image/png": "[encoded data removed]",
            "text/plain": [
              "<Figure size 432x288 with 1 Axes>"
            ]
          },
          "metadata": {
            "needs_background": "light"
          }
        }
      ]
    },
    {
      "cell_type": "code",
      "metadata": {
        "colab": {
          "base_uri": "https://localhost:8080/"
        },
        "id": "vvY7M_hfbuFR",
        "outputId": "43c29261-3297-4c8c-a55d-a52856e3694b"
      },
      "source": [
        "d = DiscreteDecisionNode(X, Y)\n",
        "print(len(d))"
      ],
      "execution_count": null,
      "outputs": [
        {
          "output_type": "stream",
          "name": "stdout",
          "text": [
            "5\n"
          ]
        }
      ]
    },
    {
      "cell_type": "code",
      "metadata": {
        "colab": {
          "base_uri": "https://localhost:8080/"
        },
        "id": "LyXqBjiDk1pl",
        "outputId": "587d61d6-ee68-4087-82b9-a00d04743f9a"
      },
      "source": [
        "print(d)\n",
        "print(d._DiscreteDecisionNode__leafs[0], d._DiscreteDecisionNode__leafs[1])\n",
        "print(\n",
        "    d._DiscreteDecisionNode__leafs[1]._DiscreteDecisionNode__leafs[0],\n",
        "    d._DiscreteDecisionNode__leafs[1]._DiscreteDecisionNode__leafs[1]\n",
        ")"
      ],
      "execution_count": null,
      "outputs": [
        {
          "output_type": "stream",
          "name": "stdout",
          "text": [
            "X[0] > 3.5\n",
            "class 0 X[0] > 4.0\n",
            "class 0 class 1\n"
          ]
        }
      ]
    }
  ]
}